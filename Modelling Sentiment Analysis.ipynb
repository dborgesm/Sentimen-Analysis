{
 "cells": [
  {
   "cell_type": "markdown",
   "metadata": {},
   "source": [
    "## Modelling"
   ]
  },
  {
   "cell_type": "code",
   "execution_count": null,
   "metadata": {},
   "outputs": [],
   "source": [
    "# Imports\n",
    "\n",
    "#%tensorflow_version 2.x\n",
    "\n",
    "# Keras\n",
    "import tensorflow as tf\n",
    "import tensorflow.keras as keras\n",
    "from tensorflow.keras.utils import get_file\n",
    "from tensorflow.keras.utils import to_categorical\n",
    "from tensorflow.keras.models import Sequential, Model\n",
    "from tensorflow.keras.layers import *\n",
    "from tensorflow.keras.optimizers import Adam\n",
    "from tensorflow.keras.metrics import categorical_accuracy\n",
    "from tensorflow.keras.preprocessing import image, sequence\n",
    "from tensorflow.keras.preprocessing.text import Tokenizer\n",
    "from tensorflow.keras.preprocessing.sequence import pad_sequences\n",
    "from tensorflow.keras import optimizers\n",
    "from tensorflow.keras.utils import plot_model\n",
    "\n"
   ]
  },
  {
   "cell_type": "code",
   "execution_count": null,
   "metadata": {},
   "outputs": [],
   "source": [
    "import numpy as np\n",
    "from sklearn.model_selection import train_test_split\n",
    "\n",
    "# For AUC estimation and ROC plots\n",
    "from sklearn.metrics import roc_curve, auc, roc_auc_score, accuracy_score, confusion_matrix\n",
    "from sklearn.utils.multiclass import unique_labels\n",
    "\n",
    "# Plots\n",
    "import matplotlib.pyplot as plt\n",
    "import seaborn as sns\n",
    "%matplotlib inline"
   ]
  },
  {
   "cell_type": "markdown",
   "metadata": {},
   "source": [
    "## fasttext"
   ]
  },
  {
   "cell_type": "code",
   "execution_count": null,
   "metadata": {},
   "outputs": [],
   "source": [
    "# Read word embeddings\n",
    "embedding_matrix = np.genfromtxt('C:\\\\Users\\\\ddbor\\\\Downloads\\\\cw3_preprocessed\\\\cw3_preprocessed\\\\cw3_embeddingmatrix.txt') #loads the preprocessed data generate last week\n",
    "\n",
    "# Read the padded text sequences. Uses numpy function that loads from a previously saved txt.\n",
    "data = np.genfromtxt('C:\\\\Users\\\\ddbor\\\\Downloads\\\\cw3_preprocessed\\\\cw3_preprocessed\\\\cw3_padded.txt')\n",
    "labels = np.genfromtxt('C:\\\\Users\\\\ddbor\\\\Downloads\\\\cw3_preprocessed\\\\cw3_preprocessed\\\\cw3_labels.txt')"
   ]
  },
  {
   "cell_type": "code",
   "execution_count": null,
   "metadata": {},
   "outputs": [],
   "source": [
    "# Split into train and test\n",
    "Xtrain, Xtest, ytrain, ytest = train_test_split(data, labels, test_size=0.2,\n",
    "                                                    random_state=251082976, \n",
    "                                                    stratify = labels) #sampling fro within each class"
   ]
  },
  {
   "cell_type": "markdown",
   "metadata": {},
   "source": [
    "#### Structure 1. Using Kim's Model"
   ]
  },
  {
   "cell_type": "code",
   "execution_count": null,
   "metadata": {},
   "outputs": [],
   "source": [
    "# Filter sizes to use.\n",
    "filter_sizes31 = (3,3,3,3) \n",
    "\n",
    "# Initialize.\n",
    "graph_in31 = Input(shape=(88, 300)) # will keep the input layer without any connections\n",
    "convs31 = []\n",
    "avgs31 = []\n",
    "\n",
    "# This for stacks the layers. Inside each for, we build the sequence of layer. The command \"append\" adds\n",
    "# that to the \"conv\" variable, which is simply a stack of convolutions.\n",
    "for fsz in filter_sizes31:\n",
    "    conv = Conv1D(filters=32,\n",
    "                  kernel_size=fsz,\n",
    "                         padding='valid',\n",
    "                         activation='relu',\n",
    "                         strides=2)(graph_in31) # Note the (graph_in). This means \"put this layer AFTER the graph_in layer.\n",
    "                         #max looking for the very best variable, \n",
    "    pool = MaxPooling1D(pool_size=fsz)(conv) # Put this layer AFTER the convolution just created.\n",
    "    convs31.append(pool) # Append this to the convs object that saves the stack.\n",
    "    \n",
    "# Concatenate layers.\n",
    "if len(filter_sizes31)>1:\n",
    "    out = Concatenate()(convs31)\n",
    "else:\n",
    "    out = convs31[0]\n",
    "\n",
    "graph31 = Model(inputs=graph_in31, outputs=out, name=\"graphModel\")\n",
    "\n",
    "graph31.summary()"
   ]
  },
  {
   "cell_type": "code",
   "execution_count": null,
   "metadata": {},
   "outputs": [],
   "source": [
    "modelk31 = Sequential()\n",
    "embedding_layerk31 = Embedding(len(embedding_matrix),           # Words in the embedding.\n",
    "                            300,                           # Embedding dimension\n",
    "                            weights=[embedding_matrix],    # The weights we just calculated\n",
    "                            input_length=88,              # The maximum number of words.\n",
    "                            trainable=False)               # To NOT recalculate weights!\n",
    "\n",
    "modelk31.add(embedding_layerk31)\n",
    "modelk31.add(Dropout(0.6))\n",
    "# Now we add our graph model\n",
    "modelk31.add(graph31)\n",
    "\n",
    "# Add a few layers\n",
    "\n",
    "modelk31.add(Flatten())\n",
    "modelk31.add(Dense(64, activation='relu'))\n",
    "modelk31.add(Dropout(0.5))\n",
    "modelk31.add(Dense(64, activation = 'relu'))\n",
    "modelk31.add(Dropout(0.5))\n",
    "modelk31.add(Dense(1))\n",
    "modelk31.add(Dense(1, activation='sigmoid'))\n",
    "\n",
    "# adam = Adam(clipnorm=.1)\n",
    "modelk31.compile(loss='binary_crossentropy',\n",
    "              optimizer='adam',\n",
    "              metrics=['acc'])"
   ]
  },
  {
   "cell_type": "code",
   "execution_count": null,
   "metadata": {},
   "outputs": [],
   "source": [
    "modelk31.fit(Xtrain, ytrain, validation_split=0.3, epochs=50, batch_size=32, verbose=1)"
   ]
  },
  {
   "cell_type": "code",
   "execution_count": null,
   "metadata": {},
   "outputs": [],
   "source": [
    "\n",
    "loss31 = modelk31.history.history['loss']\n",
    "val_loss31 = modelk31.history.history['val_loss']\n",
    "epochs31 = range(1, len(loss31) + 1)\n",
    "plt.figure(dpi=120)\n",
    "plt.plot(epochs31, loss31, 'bo', label='Training loss')\n",
    "plt.plot(epochs31, val_loss31, 'b', label='Validation loss')\n",
    "plt.title('Training and validation loss')\n",
    "plt.xlabel('Epochs')\n",
    "plt.ylabel('Loss')\n",
    "plt.legend()\n",
    "plt.show()\n"
   ]
  },
  {
   "cell_type": "code",
   "execution_count": null,
   "metadata": {},
   "outputs": [],
   "source": [
    "modelk31.fit(Xtrain, ytrain, validation_split=0.3, epochs=16, batch_size=32, verbose=1)"
   ]
  },
  {
   "cell_type": "code",
   "execution_count": null,
   "metadata": {},
   "outputs": [],
   "source": [
    "# Cutting at point 16\n",
    "loss31 = modelk31.history.history['loss']\n",
    "val_loss31 = modelk31.history.history['val_loss']\n",
    "epochs31 = range(1, len(loss31) + 1)\n",
    "plt.figure(dpi=120)\n",
    "plt.plot(epochs31, loss31, 'bo', label='Training loss')\n",
    "plt.plot(epochs31, val_loss31, 'b', label='Validation loss')\n",
    "plt.title('Training and validation loss')\n",
    "plt.xlabel('Epochs')\n",
    "plt.ylabel('Loss')\n",
    "plt.legend()\n",
    "plt.show()"
   ]
  },
  {
   "cell_type": "markdown",
   "metadata": {},
   "source": [
    "This model was using in the graph model fsz equal to 4 instead of 3"
   ]
  },
  {
   "cell_type": "code",
   "execution_count": null,
   "metadata": {},
   "outputs": [],
   "source": [
    "\n",
    "loss31 = modelk31.history.history['loss']\n",
    "val_loss31 = modelk31.history.history['val_loss']\n",
    "epochs31 = range(1, len(loss31) + 1)\n",
    "plt.figure(dpi=120)\n",
    "plt.plot(epochs31, loss31, 'bo', label='Training loss')\n",
    "plt.plot(epochs31, val_loss31, 'b', label='Validation loss')\n",
    "plt.title('Training and validation loss')\n",
    "plt.xlabel('Epochs')\n",
    "plt.ylabel('Loss')\n",
    "plt.legend()\n",
    "plt.show()\n"
   ]
  },
  {
   "cell_type": "markdown",
   "metadata": {},
   "source": [
    "#### Structure 2. Using Bidirectional and CNN"
   ]
  },
  {
   "cell_type": "code",
   "execution_count": null,
   "metadata": {},
   "outputs": [],
   "source": [
    "model_ft1 = Sequential()\n",
    "embedding_layerft1 = Embedding(len(embedding_matrix),           # Words in the embedding.\n",
    "                            300,                           # Embedding dimension\n",
    "                            weights=[embedding_matrix],    # The weights we just calculated\n",
    "                            input_length=88,              # The maximum number of words.\n",
    "                            trainable=False)               # To NOT recalculate weights!\n",
    "\n",
    "model_ft1.add(embedding_layerft1)\n",
    "model_ft1.add(Dropout(0.5))\n",
    "\n",
    "model_ft1.add(Bidirectional(GRU(64, return_sequences=True)))\n",
    "\n",
    "model_ft1.add(Conv1D(filters=32,           # How many filters to calculate.\n",
    "                 kernel_size=4,         # How many words to calculate per filter.\n",
    "                 padding='valid',       # Add padding? pre,or pos padd # pre padding at the end \n",
    "                 activation='relu',     # What activation to use?\n",
    "                 strides=2))\n",
    "model_ft1.add(Conv1D(filters=32,           # How many filters to calculate.\n",
    "                 kernel_size=4,         # How many words to calculate per filter.\n",
    "                 padding='valid',       # Add padding? pre,or pos padd # pre padding at the end \n",
    "                 activation='relu',     # What activation to use?\n",
    "                 strides=2))\n",
    "model_ft1.add(GlobalMaxPool1D())\n",
    "\n",
    "model_ft1.add(Dense(64, activation='relu'))\n",
    "model_ft1.add(Dropout(0.5))\n",
    "model_ft1.add(Dense(64, activation='relu'))\n",
    "model_ft1.add(Dropout(0.5))\n",
    "model_ft1.add(Dense(1, activation='sigmoid'))\n",
    "model_ft1.compile(loss='binary_crossentropy', optimizer='adam', metrics=['accuracy'])"
   ]
  },
  {
   "cell_type": "code",
   "execution_count": null,
   "metadata": {},
   "outputs": [],
   "source": [
    "model_ft1.fit(Xtrain, ytrain, validation_split=0.3, epochs=50, batch_size=32, verbose=1)"
   ]
  },
  {
   "cell_type": "code",
   "execution_count": null,
   "metadata": {},
   "outputs": [],
   "source": [
    "loss_ft1 = model_ft1.history.history['loss']\n",
    "val_loss_ft1 = model_ft1.history.history['val_loss']\n",
    "epochs_ft1 = range(1, len(loss_ft1) + 1)\n",
    "plt.figure(dpi=120)\n",
    "plt.plot(epochs_ft1, loss_ft1, 'bo', label='Training loss')\n",
    "plt.plot(epochs_ft1, val_loss_ft1, 'b', label='Validation loss')\n",
    "plt.title('Training and validation loss')\n",
    "plt.xlabel('Epochs')\n",
    "plt.ylabel('Loss')\n",
    "plt.legend()\n",
    "plt.show()\n"
   ]
  },
  {
   "cell_type": "code",
   "execution_count": null,
   "metadata": {},
   "outputs": [],
   "source": [
    "model_ft1.fit(Xtrain, ytrain, validation_split=0.3, epochs=25, batch_size=32, verbose=1)"
   ]
  },
  {
   "cell_type": "markdown",
   "metadata": {},
   "source": [
    "I decided to cut the model at 25"
   ]
  },
  {
   "cell_type": "code",
   "execution_count": null,
   "metadata": {},
   "outputs": [],
   "source": [
    "loss_ft1 = model_ft1.history.history['loss']\n",
    "val_loss_ft1 = model_ft1.history.history['val_loss']\n",
    "epochs_ft1 = range(1, len(loss_ft1) + 1)\n",
    "plt.figure(dpi=120)\n",
    "plt.plot(epochs_ft1, loss_ft1, 'bo', label='Training loss')\n",
    "plt.plot(epochs_ft1, val_loss_ft1, 'b', label='Validation loss')\n",
    "plt.title('Training and validation loss')\n",
    "plt.xlabel('Epochs')\n",
    "plt.ylabel('Loss')\n",
    "plt.legend()\n",
    "plt.show()\n"
   ]
  },
  {
   "cell_type": "markdown",
   "metadata": {},
   "source": [
    "## GLOVE"
   ]
  },
  {
   "cell_type": "code",
   "execution_count": null,
   "metadata": {},
   "outputs": [],
   "source": [
    "# Read word embeddings\n",
    "embedding_glove = np.genfromtxt('C:\\\\Users\\\\ddbor\\\\Downloads\\\\glove_data\\\\glove_data\\\\glove_embeddingmatrix.txt') #loads the preprocessed data generate last week\n",
    "\n",
    "# Read the padded text sequences. Uses numpy function that loads from a previously saved txt.\n",
    "data_glove = np.genfromtxt('C:\\\\Users\\\\ddbor\\\\Downloads\\\\glove_data\\\\glove_data\\\\glove_padded.txt')\n",
    "labels_glove = np.genfromtxt('C:\\\\Users\\\\ddbor\\\\Downloads\\\\glove_data\\\\glove_data\\\\glove_labels.txt')"
   ]
  },
  {
   "cell_type": "code",
   "execution_count": null,
   "metadata": {},
   "outputs": [],
   "source": [
    "# Split into train and test\n",
    "Xtraing, Xtestg, ytraing, ytestg = train_test_split(data_glove, labels_glove, test_size=0.2,\n",
    "                                                    random_state=251082976, \n",
    "                                                    stratify = labels) #sampling"
   ]
  },
  {
   "cell_type": "markdown",
   "metadata": {},
   "source": [
    "#### Structure1. Using Kim's Model (Same as applied in fasttex)"
   ]
  },
  {
   "cell_type": "code",
   "execution_count": null,
   "metadata": {},
   "outputs": [],
   "source": [
    "filter_sizes312 = (3,3,3,3)\n",
    "\n",
    "graph_in312 = Input(shape=(88, 300)) # will keep the input layer without any connections\n",
    "convs312 = []\n",
    "avgs312 = []\n",
    "\n",
    "\n",
    "for fsz in filter_sizes312:\n",
    "    conv = Conv1D(filters=32,\n",
    "                  kernel_size=fsz,\n",
    "                         padding='valid',\n",
    "                         activation='relu',\n",
    "                         strides=2)(graph_in312) \n",
    "    pool = MaxPooling1D(pool_size=fsz)(conv) \n",
    "    convs312.append(pool)\n",
    "    \n",
    "# Concatenate layers.\n",
    "if len(filter_sizes312)>1:\n",
    "    out = Concatenate()(convs312)\n",
    "else:\n",
    "    out = convs312[0]\n",
    "\n",
    "graph312 = Model(inputs=graph_in312, outputs=out, name=\"graphModel\")\n",
    "\n",
    "graph312.summary()"
   ]
  },
  {
   "cell_type": "code",
   "execution_count": null,
   "metadata": {},
   "outputs": [],
   "source": [
    "modelk31g2 = Sequential()\n",
    "embedding_layerk31g2 = Embedding(len(embedding_glove),           # Words in the embedding.\n",
    "                            300,                           # Embedding dimension\n",
    "                            weights=[embedding_glove],    # The weights we just calculated\n",
    "                            input_length=88,              # The maximum number of words.\n",
    "                            trainable=False)               # To NOT recalculate weights\n",
    "\n",
    "modelk31g2.add(embedding_layerk31g2)\n",
    "modelk31g2.add(Dropout(0.6))\n",
    "# Now we add our graph model\n",
    "modelk31g2.add(graph312)\n",
    "\n",
    "# Add a few layers\n",
    "\n",
    "modelk31g2.add(Flatten())\n",
    "modelk31g2.add(Dense(64, activation='relu'))\n",
    "modelk31g2.add(Dropout(0.5))\n",
    "modelk31g2.add(Dense(64, activation = 'relu'))\n",
    "modelk31g2.add(Dropout(0.5))\n",
    "modelk31g2.add(Dense(1))\n",
    "modelk31g2.add(Dense(1, activation='sigmoid'))\n",
    "\n",
    "# adam = Adam(clipnorm=.1)\n",
    "modelk31g2.compile(loss='binary_crossentropy',optimizer='adam',metrics=['acc'])"
   ]
  },
  {
   "cell_type": "code",
   "execution_count": null,
   "metadata": {},
   "outputs": [],
   "source": [
    "modelk31g2.fit(Xtraing, ytraing, validation_split=0.3, epochs=20, batch_size=32, verbose=1)"
   ]
  },
  {
   "cell_type": "code",
   "execution_count": null,
   "metadata": {},
   "outputs": [],
   "source": [
    "modelk31g2.summary()"
   ]
  },
  {
   "cell_type": "code",
   "execution_count": null,
   "metadata": {},
   "outputs": [],
   "source": [
    "lossk31g2 = modelk31g2.history.history['loss']\n",
    "valk31g2 = modelk31g2.history.history['val_loss']\n",
    "epochsk31g2 = range(1, len(lossk31g2) + 1)\n",
    "plt.figure(dpi=120)\n",
    "plt.plot(epochsk31g2, lossk31g2, 'bo', label='Training loss')\n",
    "plt.plot(epochsk31g2, valk31g2, 'b', label='Validation loss')\n",
    "plt.title('Training and validation loss')\n",
    "plt.xlabel('Epochs')\n",
    "plt.ylabel('Loss')\n",
    "plt.legend()\n",
    "plt.show()"
   ]
  },
  {
   "cell_type": "code",
   "execution_count": null,
   "metadata": {},
   "outputs": [],
   "source": [
    "modelk31g2.summary()"
   ]
  },
  {
   "cell_type": "code",
   "execution_count": 232,
   "metadata": {},
   "outputs": [
    {
     "data": {
      "image/png": "[encoded data removed]",
      "text/plain": [
       "<Figure size 720x480 with 1 Axes>"
      ]
     },
     "metadata": {},
     "output_type": "display_data"
    }
   ],
   "source": [
    "lossk31g2 = modelk31g2.history.history['loss']\n",
    "valk31g2 = modelk31g2.history.history['val_loss']\n",
    "epochsk31g2 = range(1, len(lossk31g2) + 1)\n",
    "plt.figure(dpi=120)\n",
    "plt.plot(epochsk31g2, lossk31g2, 'bo', label='Training loss')\n",
    "plt.plot(epochsk31g2, valk31g2, 'b', label='Validation loss')\n",
    "plt.title('Training and validation loss')\n",
    "plt.xlabel('Epochs')\n",
    "plt.ylabel('Loss')\n",
    "plt.legend()\n",
    "plt.show()"
   ]
  },
  {
   "cell_type": "markdown",
   "metadata": {},
   "source": [
    "#### Structure 2. Bidirectional and CNN\n",
    "\n",
    "\n",
    "100 epoch where performed"
   ]
  },
  {
   "cell_type": "code",
   "execution_count": null,
   "metadata": {},
   "outputs": [],
   "source": [
    "model_g1 = Sequential()\n",
    "embedding_layerg1 = Embedding(len(embedding_glove),           # Words in the embedding.\n",
    "                            300,                           # Embedding dimension\n",
    "                            weights=[embedding_glove],    # The weights we just calculated\n",
    "                            input_length=88,              # The maximum number of words.\n",
    "                            trainable=False)               # To NOT recalculate weights!\n",
    "\n",
    "model_g1.add(embedding_layerg1)\n",
    "model_g1.add(Dropout(0.5))\n",
    "\n",
    "model_g1.add(Bidirectional(GRU(64, return_sequences=True)))\n",
    "\n",
    "model_g1.add(Conv1D(filters=32,           # How many filters to calculate.\n",
    "                 kernel_size=4,         # How many words to calculate per filter.\n",
    "                 padding='valid',       # Add padding? pre,or pos padd # pre padding at the end \n",
    "                 activation='relu',     # What activation to use?\n",
    "                 strides=2))\n",
    "model_g1.add(Conv1D(filters=32,           # How many filters to calculate.\n",
    "                 kernel_size=4,         # How many words to calculate per filter.\n",
    "                 padding='valid',       # Add padding? pre,or pos padd # pre padding at the end \n",
    "                 activation='relu',     # What activation to use?\n",
    "                 strides=2))\n",
    "model_g1.add(GlobalMaxPool1D())\n",
    "\n",
    "model_g1.add(Dense(64, activation='relu'))\n",
    "model_g1.add(Dropout(0.5))\n",
    "model_g1.add(Dense(64, activation='relu'))\n",
    "model_g1.add(Dropout(0.5))\n",
    "model_g1.add(Dense(1, activation='sigmoid'))\n",
    "model_g1.compile(loss='binary_crossentropy', optimizer='adam', metrics=['accuracy'])"
   ]
  },
  {
   "cell_type": "code",
   "execution_count": null,
   "metadata": {},
   "outputs": [],
   "source": [
    "model_g1.fit(Xtraing, ytraing, validation_split=0.3, epochs=20, batch_size=512, verbose=1)"
   ]
  },
  {
   "cell_type": "code",
   "execution_count": 231,
   "metadata": {},
   "outputs": [
    {
     "data": {
      "image/png": "[encoded data removed]",
      "text/plain": [
       "<Figure size 720x480 with 1 Axes>"
      ]
     },
     "metadata": {},
     "output_type": "display_data"
    }
   ],
   "source": [
    "loss_g23 = model_g1.history.history['loss']\n",
    "val_lossg23 = model_g1.history.history['val_loss']\n",
    "epochs_g23 = range(1, len(loss_g23) + 1)\n",
    "plt.figure(dpi=120)\n",
    "plt.plot(epochs_g23, loss_g23, 'bo', label='Training loss')\n",
    "plt.plot(epochs_g23, val_lossg23, 'b', label='Validation loss')\n",
    "plt.title('Training and validation loss')\n",
    "plt.xlabel('Epochs')\n",
    "plt.ylabel('Loss')\n",
    "plt.legend()\n",
    "plt.show()"
   ]
  },
  {
   "cell_type": "code",
   "execution_count": 230,
   "metadata": {},
   "outputs": [],
   "source": [
    "sns.set_style(\"white\")"
   ]
  },
  {
   "cell_type": "code",
   "execution_count": null,
   "metadata": {},
   "outputs": [],
   "source": [
    "loss_g23 = model_g1.history.history['loss']\n",
    "val_lossg23 = model_g1.history.history['val_loss']\n",
    "epochs_g23 = range(1, len(loss_g23) + 1)\n",
    "plt.figure(dpi=120)\n",
    "plt.plot(epochs_g23, loss_g23, 'bo', label='Training loss')\n",
    "plt.plot(epochs_g23, val_lossg23, 'b', label='Validation loss')\n",
    "plt.title('Training and validation loss')\n",
    "plt.xlabel('Epochs')\n",
    "plt.ylabel('Loss')\n",
    "plt.legend()\n",
    "plt.show()"
   ]
  },
  {
   "cell_type": "markdown",
   "metadata": {},
   "source": [
    "## Calculating the metrics\n",
    "\n",
    "1. Accuracy\n",
    "2. AUCROC\n",
    "3. Confusion Matrix"
   ]
  },
  {
   "cell_type": "code",
   "execution_count": null,
   "metadata": {},
   "outputs": [],
   "source": [
    "scoreg = model_g1.evaluate(Xtestg, ytestg, verbose=1)\n",
    "scoreg1 = modelk31g2.evaluate(Xtestg, ytestg, verbose=1)\n",
    "scoreft = model_ft1.evaluate(Xtest, ytest, verbose=1)\n",
    "scoreft1 = modelk31.evaluate(Xtest, ytest, verbose=1)"
   ]
  },
  {
   "cell_type": "code",
   "execution_count": null,
   "metadata": {},
   "outputs": [],
   "source": [
    "# Calculate outputs in test set Glove 1\n",
    "prob_testg = model_g1.predict(Xtestg, verbose = 1)\n",
    "prob_traing = model_g1.predict(Xtraing, verbose = 1)\n",
    "\n",
    "# Compute ROC curve and ROC area\n",
    "fprg, tprg, _ = roc_curve(ytraing, prob_traing)\n",
    "roc_aucg = auc(fprg, tprg)\n",
    "print('\\n Glove - Bidirectional AUC train: ', roc_aucg)\n",
    "\n",
    "# Compute ROC curve and ROC area\n",
    "fprgt, tprgt, _ = roc_curve(ytestg, prob_testg)\n",
    "roc_aucgt = auc(fprgt, tprgt)\n",
    "print(\"Glove - Bidirectional AUC test: \", roc_aucgt)\n",
    "\n",
    "#-----------------------------------------------------------\n",
    "# Calculate outputs in test set Glove 2 \n",
    "prob_testg1 = modelk31g2.predict(Xtestg, verbose = 1)\n",
    "prob_traing1 = modelk31g2.predict(Xtraing, verbose = 1)\n",
    "\n",
    "# Compute ROC curve and ROC area\n",
    "fprg1, tprg1, _ = roc_curve(ytraing, prob_traing1)\n",
    "roc_aucg1 = auc(fprg1, tprg1)\n",
    "print(\"\\n Glove -Kim's Model AUC train: \", roc_aucg1)\n",
    "\n",
    "# Compute ROC curve and ROC area\n",
    "fprgt1, tprgt1, _ = roc_curve(ytestg, prob_testg1)\n",
    "roc_aucgt1 = auc(fprgt1, tprgt1)\n",
    "print(\" Glove - Kim's Model AUC test: \", roc_aucgt1)\n",
    "\n",
    "#-----------------------------------------------------------\n",
    "# Calculate outputs in test set Fasttext 1\n",
    "prob_testf = model_ft1.predict(Xtest, verbose = 1)\n",
    "prob_trainf = model_ft1.predict(Xtrain, verbose = 1)\n",
    "\n",
    "# Compute ROC curve and ROC area\n",
    "fprf, tprf, _ = roc_curve(ytrain, prob_trainf)\n",
    "roc_aucf = auc(fprf, tprf)\n",
    "print('\\n Fasttext - Bidirectional AUC train: ', roc_aucf)\n",
    "\n",
    "# Compute ROC curve and ROC area\n",
    "fprft, tprft, _ = roc_curve(ytest, prob_testf)\n",
    "roc_aucft = auc(fprft, tprft)\n",
    "print('Fasttext - Bidirectional AUC test: ', roc_aucft)\n",
    "\n",
    "#-----------------------------------------------------------\n",
    "# Calculate outputs in test set Fasttext 1\n",
    "prob_testf1 = modelk31.predict(Xtest, verbose = 1)\n",
    "prob_trainf1 = modelk31.predict(Xtrain, verbose = 1)\n",
    "\n",
    "# Compute ROC curve and ROC area\n",
    "fprf1, tprf1, _ = roc_curve(ytrain, prob_trainf1)\n",
    "roc_aucf1 = auc(fprf1, tprf1)\n",
    "print(\"\\n Fasttext - Kim's Model AUC train: \", roc_aucf1)\n",
    "\n",
    "# Compute ROC curve and ROC area\n",
    "fprft1, tprft1, _ = roc_curve(ytest, prob_testf1)\n",
    "roc_aucft1 = auc(fprft1, tprft1)\n",
    "print(\"Fasttext - Kim's Model AUC test: \", roc_aucft1)"
   ]
  },
  {
   "cell_type": "code",
   "execution_count": 224,
   "metadata": {},
   "outputs": [
    {
     "name": "stdout",
     "output_type": "stream",
     "text": [
      "\n",
      " Glove - Bidirectional AUC train:  0.9586125485407915\n",
      "Glove - Bidirectional AUC test:  0.9441364580651062\n",
      "\n",
      " Glove -Kim's Model AUC train:  0.9165640721865728\n",
      " Glove - Kim's Model AUC test:  0.8910633287363572\n",
      "\n",
      " Fasttext - Bidirectional AUC train:  0.9570171207197868\n",
      "Fasttext - Bidirectional AUC test:  0.9441253787066555\n",
      "\n",
      " Fasttext - Kim's Model AUC train:  0.8910361776825753\n"
     ]
    }
   ],
   "source": [
    "print('\\n Glove - Bidirectional AUC train: ', roc_aucg)\n",
    "print(\"Glove - Bidirectional AUC test: \", roc_aucgt)\n",
    "print(\"\\n Glove -Kim's Model AUC train: \", roc_aucg1)\n",
    "print(\" Glove - Kim's Model AUC test: \", roc_aucgt1)\n",
    "print('\\n Fasttext - Bidirectional AUC train: ', roc_aucf)\n",
    "print('Fasttext - Bidirectional AUC test: ', roc_aucft)\n",
    "print(\"\\n Fasttext - Kim's Model AUC train: \", roc_aucf1)"
   ]
  },
  {
   "cell_type": "markdown",
   "metadata": {},
   "source": [
    "Predicting the output for our test dataset, if the prediction is greater than 0.5 then the output is 1 else the output is 0."
   ]
  },
  {
   "cell_type": "code",
   "execution_count": null,
   "metadata": {},
   "outputs": [],
   "source": [
    "import numpy as np\n",
    "import pandas as pd"
   ]
  },
  {
   "cell_type": "code",
   "execution_count": null,
   "metadata": {},
   "outputs": [],
   "source": [
    "def bool_function(x):\n",
    "    if x > 0.5: \n",
    "        return 1\n",
    "    else:\n",
    "        return 0 \n",
    "    "
   ]
  },
  {
   "cell_type": "code",
   "execution_count": null,
   "metadata": {},
   "outputs": [],
   "source": [
    "# Treshhold to calculate the confusion matrix\n",
    "pred_testgcf = (prob_testg > 0.5)\n",
    "pred_testg1cf = (prob_testg1 > 0.5)\n",
    "prob_testfcf = (prob_testf > 0.5)\n",
    "prob_testf1cf = (prob_testf1 > 0.5)"
   ]
  },
  {
   "cell_type": "code",
   "execution_count": null,
   "metadata": {},
   "outputs": [],
   "source": [
    "gcf = np.zeros(len(prob_testg))\n",
    "gcf1 = np.zeros(len(prob_testg1))\n",
    "ftcf =  np.zeros(len(prob_testf))\n",
    "ftcf1 =  np.zeros(len(prob_testf1))\n",
    "\n"
   ]
  },
  {
   "cell_type": "code",
   "execution_count": null,
   "metadata": {},
   "outputs": [],
   "source": [
    "for i in range(len(prob_testg1)):\n",
    "    gcf[i] =prob_testg[i]\n",
    "    gcf1[i] = prob_testg1[i]\n",
    "    \n",
    "for i in range(len(prob_testf)):\n",
    "    ftcf[i] = prob_testf[i]\n",
    "    ftcf1[i] = prob_testf1[i]"
   ]
  },
  {
   "cell_type": "code",
   "execution_count": null,
   "metadata": {},
   "outputs": [],
   "source": [
    "# Create DataFrame\n",
    "df_gloveb = pd.DataFrame(gcf)\n",
    "df_glovek = pd.DataFrame(gcf1)\n",
    "df_fttxb = pd.DataFrame(ftcf)\n",
    "df_fttxk = pd.DataFrame(ftcf1)\n",
    "\n",
    "df_gloveb[\"pred\"] = df_gloveb.apply(lambda x: bool_function(x[0]), axis =1)\n",
    "df_glovek[\"pred\"] = df_glovek.apply(lambda x: bool_function(x[0]), axis =1)\n",
    "df_fttxb[\"pred\"] = df_fttxb.apply(lambda x: bool_function(x[0]), axis =1)\n",
    "df_fttxk[\"pred\"] = df_fttxk.apply(lambda x: bool_function(x[0]), axis =1)"
   ]
  },
  {
   "cell_type": "markdown",
   "metadata": {},
   "source": [
    "#### Confusion Matrix"
   ]
  },
  {
   "cell_type": "code",
   "execution_count": 222,
   "metadata": {},
   "outputs": [
    {
     "name": "stdout",
     "output_type": "stream",
     "text": [
      "Normalized confusion matrix\n",
      "Accuracy: 0.852185815069595 Precision: 0.8142902381995032 Recall: 0.9124733650221275\n"
     ]
    },
    {
     "data": {
      "image/png": "[encoded data removed]",
      "text/plain": [
       "<Figure size 432x288 with 2 Axes>"
      ]
     },
     "metadata": {},
     "output_type": "display_data"
    }
   ],
   "source": [
    "def plot_confusion_matrix(y_true, y_pred, classes=np.array([0,1]), normalize=True, title=None, cmap=plt.cm.Blues):\n",
    "    \"\"\"\n",
    "    This function prints and plots the confusion matrix.\n",
    "    Normalization can be applied by setting `normalize=True`.\n",
    "    \"\"\"\n",
    "    if not title:\n",
    "        if normalize:\n",
    "            title = 'Normalized confusion matrix'\n",
    "        else:\n",
    "            title = 'Confusion matrix, without normalization'\n",
    "\n",
    "    # Compute confusion matrix\n",
    "    cm = confusion_matrix(y_true, y_pred)\n",
    "    # Only use the labels that appear in the data\n",
    "    classes = classes[unique_labels(y_true, y_pred)]\n",
    "    if normalize:\n",
    "        cm = cm.astype('float') / cm.sum(axis=1)[:, np.newaxis]\n",
    "        print(\"Normalized confusion matrix\")\n",
    "    else:\n",
    "        print('Confusion matrix, without normalization')\n",
    "\n",
    "    fig, ax = plt.subplots()\n",
    "    ax.axis('equal')\n",
    "    im = ax.imshow(cm, interpolation='nearest', cmap=cmap)\n",
    "    ax.figure.colorbar(im, ax=ax)\n",
    "    # We want to show all ticks...\n",
    "    ax.set(xticks=np.arange(cm.shape[1]),\n",
    "           yticks=np.arange(cm.shape[0]),\n",
    "           # ... and label them with the respective list entries\n",
    "           xticklabels=classes, yticklabels=classes,\n",
    "           title=title,\n",
    "           ylabel='True label',\n",
    "           xlabel='Predicted label')\n",
    "\n",
    "    # Rotate the tick labels and set their alignment.\n",
    "    plt.setp(ax.get_xticklabels(), rotation=45, ha=\"right\",\n",
    "             rotation_mode=\"anchor\")\n",
    "\n",
    "    # Loop over data dimensions and create text annotations.\n",
    "    fmt = '.2f' if normalize else 'd'\n",
    "    thresh = cm.max() / 2.\n",
    "    for i in range(cm.shape[0]):\n",
    "        for j in range(cm.shape[1]):\n",
    "            ax.text(j, i, format(cm[i, j], fmt),\n",
    "                    ha=\"center\", va=\"center\",\n",
    "                    color=\"white\" if cm[i, j] > thresh else \"black\")\n",
    "    fig.tight_layout();\n",
    "    return ax, cm\n",
    "\n",
    "cmg = plot_confusion_matrix(ytestg, df_gloveb[\"pred\"])\n",
    "\n",
    "tn=cmg[1][0][0]\n",
    "fp=cmg[1][0][1]\n",
    "fn=cmg[1][1][0]\n",
    "tp=cmg[1][1][1]\n",
    "\n",
    "acc = (tn+tp) / (tn+tp+fp+fn)\n",
    "prec = (tp) / (tp+fp)\n",
    "rec = (tp) / (tp+fn)\n",
    "print(\"Accuracy:\", acc, \"Precision:\", prec, \"Recall:\",rec )\n",
    "\n",
    "plt.grid(b=None)\n",
    "plt.rcParams.update({'font.size': 15})"
   ]
  },
  {
   "cell_type": "code",
   "execution_count": 219,
   "metadata": {},
   "outputs": [
    {
     "name": "stdout",
     "output_type": "stream",
     "text": [
      "Normalized confusion matrix\n",
      "Accuracy: 0.7833970997776825 Precision: 0.7366073767753285 Recall: 0.8822733978036388\n"
     ]
    },
    {
     "data": {
      "image/png": "[encoded data removed]",
      "text/plain": [
       "<Figure size 432x288 with 2 Axes>"
      ]
     },
     "metadata": {},
     "output_type": "display_data"
    }
   ],
   "source": [
    "cmf1 = plot_confusion_matrix(ytestg, df_glovek[\"pred\"])\n",
    "\n",
    "tn=cmf1[1][0][0]\n",
    "fp=cmf1[1][0][1]\n",
    "fn=cmf1[1][1][0]\n",
    "tp=cmf1[1][1][1]\n",
    "\n",
    "acc = (tn+tp) / (tn+tp+fp+fn)\n",
    "prec = (tp) / (tp+fp)\n",
    "rec = (tp) / (tp+fn)\n",
    "print(\"Accuracy:\", acc, \"Precision:\", prec, \"Recall:\",rec )\n",
    "\n",
    "plt.grid(b=None)\n",
    "plt.rcParams.update({'font.size': 15})"
   ]
  },
  {
   "cell_type": "code",
   "execution_count": 220,
   "metadata": {},
   "outputs": [
    {
     "name": "stdout",
     "output_type": "stream",
     "text": [
      "Normalized confusion matrix\n",
      "Accuracy: 0.8567013032845534 Precision: 0.8239875994919509 Recall: 0.9071873463366661\n"
     ]
    },
    {
     "data": {
      "image/png": "[encoded data removed]",
      "text/plain": [
       "<Figure size 432x288 with 2 Axes>"
      ]
     },
     "metadata": {},
     "output_type": "display_data"
    }
   ],
   "source": [
    "cmf1 = plot_confusion_matrix(ytest, df_fttxb[\"pred\"])\n",
    "\n",
    "tn=cmf1[1][0][0]\n",
    "fp=cmf1[1][0][1]\n",
    "fn=cmf1[1][1][0]\n",
    "tp=cmf1[1][1][1]\n",
    "\n",
    "acc = (tn+tp) / (tn+tp+fp+fn)\n",
    "prec = (tp) / (tp+fp)\n",
    "rec = (tp) / (tp+fn)\n",
    "print(\"Accuracy:\", acc, \"Precision:\", prec, \"Recall:\",rec )\n",
    "\n",
    "plt.grid(b=None)\n",
    "plt.rcParams.update({'font.size': 15})"
   ]
  },
  {
   "cell_type": "code",
   "execution_count": 221,
   "metadata": {},
   "outputs": [
    {
     "name": "stdout",
     "output_type": "stream",
     "text": [
      "Normalized confusion matrix\n",
      "Accuracy: 0.7607215163964014 Precision: 0.7022925545629024 Recall: 0.9051385018849369\n"
     ]
    },
    {
     "data": {
      "image/png": "[encoded data removed]",
      "text/plain": [
       "<Figure size 432x288 with 2 Axes>"
      ]
     },
     "metadata": {},
     "output_type": "display_data"
    }
   ],
   "source": [
    "cmf1 = plot_confusion_matrix(ytest, df_fttxk[\"pred\"])\n",
    "\n",
    "tn=cmf1[1][0][0]\n",
    "fp=cmf1[1][0][1]\n",
    "fn=cmf1[1][1][0]\n",
    "tp=cmf1[1][1][1]\n",
    "\n",
    "acc = (tn+tp) / (tn+tp+fp+fn)\n",
    "prec = (tp) / (tp+fp)\n",
    "rec = (tp) / (tp+fn)\n",
    "print(\"Accuracy:\", acc, \"Precision:\", prec, \"Recall:\",rec )\n",
    "\n",
    "plt.grid(b=None)\n",
    "plt.rcParams.update({'font.size': 15})"
   ]
  },
  {
   "cell_type": "code",
   "execution_count": 223,
   "metadata": {},
   "outputs": [
    {
     "name": "stdout",
     "output_type": "stream",
     "text": [
      "Glove - Bidirectional AUC test:  0.9441364580651062\n",
      "Glove - Kim's Model AUC test:  0.8910633287363572\n",
      "Fasttext - Bidirectional AUC test:  0.9441253787066555\n",
      "Fasttext - Kim's Model AUC test:  0.8843140030501659\n"
     ]
    }
   ],
   "source": [
    "print(\"Glove - Bidirectional AUC test: \", roc_aucgt)\n",
    "print(\"Glove - Kim's Model AUC test: \", roc_aucgt1)\n",
    "print('Fasttext - Bidirectional AUC test: ', roc_aucft)\n",
    "print(\"Fasttext - Kim's Model AUC test: \", roc_aucft1)"
   ]
  },
  {
   "cell_type": "markdown",
   "metadata": {},
   "source": [
    "#### AUC"
   ]
  },
  {
   "cell_type": "code",
   "execution_count": null,
   "metadata": {},
   "outputs": [],
   "source": [
    "sns.set('talk', 'darkgrid', 'dark', font_scale=1) #rc={\"lines.linewidth\": 2, 'grid.linestyle': '--'})\n",
    "\n",
    "lw = 2\n",
    "plt.figure()\n",
    "#plt.plot(fprg, tprg, color='darkorange',\n",
    "#         lw=lw, label='ROC curve (AUC = %0.2f)' % roc_auc)\n",
    "plt.plot(fprgt, tprgt, label='%s ROC (area = %0.2f)' % (\"Glove - B\", roc_aucgt), color = \"green\")\n",
    "plt.plot(fprgt1, tprgt1, label='%s ROC (area = %0.2f)' % (\"Glove - KM\", roc_aucgt1), color = \"yellow\")\n",
    "plt.plot(fprft, tprft, label='%s ROC (area = %0.2f)' % (\"fasttext - B\", roc_aucft), color = \"orange\")\n",
    "plt.plot(fprft1, tprft1, label='%s ROC (area = %0.2f)' % (\"fasttext - KM\", roc_aucft1), color = \"purple\")\n",
    "plt.plot([0, 1], [0, 1], color='navy', lw=lw, linestyle='--')\n",
    "plt.xlim([-0.05, 1.0])\n",
    "plt.ylim([0.0, 1.05])\n",
    "plt.xlabel('False Positive Rate')\n",
    "plt.ylabel('True Positive Rate')\n",
    "plt.title('Receiver Operating Characteristic curve')\n",
    "plt.legend(loc=\"lower right\")\n",
    "\n",
    "# I am saving the output as a PDF for easy exporting.\n",
    "#plt.savefig('roc_auc.pdf', format = \"pdf\")\n",
    "\n",
    "# Now I show the plot inline.\n",
    "plt.show()"
   ]
  },
  {
   "cell_type": "code",
   "execution_count": 218,
   "metadata": {},
   "outputs": [
    {
     "data": {
      "image/png": "[encoded data removed]",
      "text/plain": [
       "<Figure size 432x288 with 1 Axes>"
      ]
     },
     "metadata": {},
     "output_type": "display_data"
    }
   ],
   "source": [
    "sns.set('talk', 'darkgrid', 'dark', font_scale=1) #rc={\"lines.linewidth\": 2, 'grid.linestyle': '--'})\n",
    "\n",
    "lw = 2\n",
    "plt.figure()\n",
    "#plt.plot(fprg, tprg, color='darkorange',\n",
    "#         lw=lw, label='ROC curve (AUC = %0.2f)' % roc_auc)\n",
    "plt.plot(fprgt, tprgt, label='%s ROC (area = %0.2f)' % (\"Glove - B\", roc_aucgt), color = \"green\")\n",
    "plt.plot(fprgt1, tprgt1, label='%s ROC (area = %0.2f)' % (\"Glove - KM\", roc_aucgt1), color = \"yellow\")\n",
    "plt.plot(fprft, tprft, label='%s ROC (area = %0.2f)' % (\"fasttext - B\", roc_aucft), color = \"orange\")\n",
    "plt.plot(fprft1, tprft1, label='%s ROC (area = %0.2f)' % (\"fasttext - KM\", roc_aucft1), color = \"purple\")\n",
    "plt.plot([0, 1], [0, 1], color='navy', lw=lw, linestyle='--')\n",
    "plt.xlim([-0.05, 1.0])\n",
    "plt.ylim([0.0, 1.05])\n",
    "plt.xlabel('False Positive Rate')\n",
    "plt.ylabel('True Positive Rate')\n",
    "plt.title('Receiver Operating Characteristic curve')\n",
    "plt.legend(loc=\"lower right\")\n",
    "\n",
    "# I am saving the output as a PDF for easy exporting.\n",
    "#plt.savefig('roc_auc.pdf', format = \"pdf\")\n",
    "\n",
    "# Now I show the plot inline.\n",
    "plt.show()"
   ]
  },
  {
   "cell_type": "markdown",
   "metadata": {},
   "source": [
    "### Changing the parameters of the architectures using fasttext embeddings"
   ]
  },
  {
   "cell_type": "code",
   "execution_count": null,
   "metadata": {},
   "outputs": [],
   "source": [
    "# This model was using 3 CNN instead of 4\n",
    "loss31 = modelk31.history.history['loss']\n",
    "val_loss31 = modelk31.history.history['val_loss']\n",
    "epochs31 = range(1, len(loss31) + 1)\n",
    "plt.figure(dpi=120)\n",
    "plt.plot(epochs31, loss31, 'bo', label='Training loss')\n",
    "plt.plot(epochs31, val_loss31, 'b', label='Validation loss')\n",
    "plt.title('Training and validation loss')\n",
    "plt.xlabel('Epochs')\n",
    "plt.ylabel('Loss')\n",
    "plt.legend()\n",
    "plt.show()\n"
   ]
  },
  {
   "cell_type": "markdown",
   "metadata": {},
   "source": [
    "**Model Changing the filter sizes in the pararell layer (14,15,20)**"
   ]
  },
  {
   "cell_type": "code",
   "execution_count": null,
   "metadata": {},
   "outputs": [],
   "source": [
    "# Filter sizes to use.\n",
    "filter_sizes = (14,15,20) \n",
    "\n",
    "# Initialize\n",
    "graph_in = Input(shape=(64, 300)) # will keep the input layer without any connections\n",
    "convs = []\n",
    "avgs = []\n",
    "\n",
    "# This for stacks the layers. Inside each for, we build the sequence of layer. The command \"append\" adds\n",
    "# that to the \"conv\" variable, which is simply a stack of convolutions.\n",
    "for fsz in filter_sizes:\n",
    "    conv = Conv1D(filters=128,\n",
    "                  kernel_size=fsz,\n",
    "                         padding='valid',\n",
    "                         activation='relu',\n",
    "                         strides=1)(graph_in) # Note the (graph_in). This means \"put this layer AFTER the graph_in layer.\n",
    "                         #max looking for the very best variable, \n",
    "    pool = MaxPooling1D(pool_size=fsz)(conv) # Put this layer AFTER the convolution just created.connnect to the con\n",
    "    flattenMax = Flatten()(pool) # Flatten the pooling layer.\n",
    "    convs.append(flattenMax) # Append this to the convs object that saves the stack.\n",
    "    \n",
    "# Concatenate layers.\n",
    "if len(filter_sizes)>1:\n",
    "    out = Concatenate()(convs)\n",
    "else:\n",
    "    out = convs[0]\n",
    "\n",
    "graph = Model(inputs=graph_in, outputs=out, name=\"graphModel\")\n",
    "\n",
    "graph.summary()"
   ]
  },
  {
   "cell_type": "code",
   "execution_count": null,
   "metadata": {},
   "outputs": [],
   "source": [
    "# Final model\n",
    "model = Sequential()\n",
    "embedding_layer = Embedding(len(embedding_matrix),           # Words in the embedding.\n",
    "                            300,                           # Embedding dimension\n",
    "                            weights=[embedding_matrix],    # The weights we just calculated\n",
    "                            input_length=88,              # The maximum number of words.\n",
    "                            trainable=False)               # To NOT recalculate weights!\n",
    "\n",
    "model.add(embedding_layer)\n",
    "\n",
    "# Now we add our graph model\n",
    "model.add(graph)\n",
    "\n",
    "# Add a few layers\n",
    "model.add(Dense(128, activation='relu'))\n",
    "model.add(Dense(128, activation='relu'))\n",
    "model.add(Dropout(0.5))\n",
    "model.add(Dense(128, activation = 'relu'))\n",
    "model.add(Dropout(0.5))\n",
    "model.add(Dense(1, activation='sigmoid'))\n",
    "\n",
    "# adam = Adam(clipnorm=.1)\n",
    "model.compile(loss='binary_crossentropy',\n",
    "              optimizer='adam',\n",
    "              metrics=['acc'])\n",
    "model.fit(Xtrain, ytrain, validation_split=1/3, epochs=50, batch_size=32)"
   ]
  },
  {
   "cell_type": "code",
   "execution_count": null,
   "metadata": {},
   "outputs": [],
   "source": [
    "loss = model.history.history['loss']\n",
    "val_loss = model.history.history['val_loss']\n",
    "epochs = range(1, len(loss) + 1)\n",
    "plt.plot(epochs, loss, 'bo', label='Training loss')\n",
    "plt.plot(epochs, val_loss, 'b', label='Validation loss')\n",
    "plt.title('Training and validation loss')\n",
    "plt.xlabel('Epochs')\n",
    "plt.ylabel('Loss')\n",
    "plt.legend()\n",
    "plt.show()"
   ]
  },
  {
   "cell_type": "markdown",
   "metadata": {},
   "source": [
    "**Model changing the filter sizes of the pararell CNN to (4,4,4)**"
   ]
  },
  {
   "cell_type": "code",
   "execution_count": null,
   "metadata": {},
   "outputs": [],
   "source": [
    "# Filter sizes to use.\n",
    "filter_sizes3 = (4,4,4) \n",
    "\n",
    "# Initialize. \n",
    "graph_in3 = Input(shape=(88, 300)) # will keep the input layer without any connections\n",
    "convs3 = []\n",
    "avgs3 = []\n",
    "\n",
    "# This for stacks the layers. Inside each for, we build the sequence of layer. The command \"append\" adds\n",
    "# that to the \"conv\" variable, which is simply a stack of convolutions.\n",
    "for fsz in filter_sizes3:\n",
    "    conv = Conv1D(filters=64,\n",
    "                  kernel_size=fsz,\n",
    "                         padding='valid',\n",
    "                         activation='relu',\n",
    "                         strides=2)(graph_in3) # Note the (graph_in). This means \"put this layer AFTER the graph_in layer.\n",
    "                         #max looking for the very best variable, \n",
    "    pool = MaxPooling1D(pool_size=fsz)(conv) # Put this layer AFTER the convolution just created.connnect to the con\n",
    "    #flattenMax = Flatten()(pool) # Flatten the pooling layer.\n",
    "    convs3.append(pool) # Append this to the convs object that saves the stack.\n",
    "    \n",
    "# Concatenate layers.\n",
    "if len(filter_sizes3)>1:\n",
    "    out = Concatenate()(convs3)\n",
    "else:\n",
    "    out = convs3[0]\n",
    "\n",
    "graph3 = Model(inputs=graph_in3, outputs=out, name=\"graphModel\")\n",
    "\n",
    "graph3.summary()"
   ]
  },
  {
   "cell_type": "code",
   "execution_count": null,
   "metadata": {},
   "outputs": [],
   "source": [
    "modelk3 = Sequential()\n",
    "embedding_layerk3 = Embedding(len(embedding_matrix),           # Words in the embedding.\n",
    "                            300,                           # Embedding dimension\n",
    "                            weights=[embedding_matrix],    # The weights we just calculated\n",
    "                            input_length=88,              # The maximum number of words.\n",
    "                            trainable=False)               # To NOT recalculate weights!\n",
    "\n",
    "modelk3.add(embedding_layerk3)\n",
    "modelk3.add(Dropout(0.6))\n",
    "# Now we add our graph model\n",
    "modelk3.add(graph3)\n",
    "\n",
    "# Add a few layers\n",
    "\n",
    "modelk3.add(Flatten())\n",
    "modelk3.add(Dense(64, activation='relu'))\n",
    "modelk3.add(Dropout(0.5))\n",
    "modelk3.add(Dense(64, activation = 'relu'))\n",
    "modelk3.add(Dropout(0.5))\n",
    "modelk3.add(Dense(1))\n",
    "modelk3.add(Dense(1, activation='sigmoid'))\n",
    "\n",
    "# adam = Adam(clipnorm=.1)\n",
    "modelk3.compile(loss='binary_crossentropy',\n",
    "              optimizer='adam',\n",
    "              metrics=['acc'])"
   ]
  },
  {
   "cell_type": "code",
   "execution_count": null,
   "metadata": {},
   "outputs": [],
   "source": [
    "modelk3.fit(Xtrain, ytrain, validation_split=0.3, epochs=50, batch_size=32, verbose=1)"
   ]
  },
  {
   "cell_type": "code",
   "execution_count": null,
   "metadata": {},
   "outputs": [],
   "source": [
    "loss = modelk3.history.history['loss']\n",
    "val_loss = modelk3.history.history['val_loss']\n",
    "epochs = range(1, len(loss) + 1)\n",
    "plt.figure(dpi=120)\n",
    "plt.plot(epochs, loss, 'bo', label='Training loss')\n",
    "plt.plot(epochs, val_loss, 'b', label='Validation loss')\n",
    "plt.title('Training and validation loss')\n",
    "plt.xlabel('Epochs')\n",
    "plt.ylabel('Loss')\n",
    "plt.legend()\n",
    "plt.show()\n"
   ]
  },
  {
   "cell_type": "markdown",
   "metadata": {},
   "source": [
    "**Model changing the filter sizes of the pararell CNN to (4,5,6)**"
   ]
  },
  {
   "cell_type": "code",
   "execution_count": null,
   "metadata": {},
   "outputs": [],
   "source": [
    "# Filter sizes to use.\n",
    "filter_sizes4 = (4,5,6)\n",
    "\n",
    "# Initialize\n",
    "graph_in4 = Input(shape=(88, 300)) # will keep the input layer without any connections\n",
    "convs4 = []\n",
    "avgs4 = []\n",
    "\n",
    "# This for stacks the layers. Inside each for, we build the sequence of layer. The command \"append\" adds\n",
    "# that to the \"conv\" variable, which is simply a stack of convolutions.\n",
    "for fsz in filter_sizes4:\n",
    "    conv = Conv1D(filters=32,\n",
    "                  kernel_size=fsz,\n",
    "                         padding='valid',\n",
    "                         activation='relu',\n",
    "                         strides=2)(graph_in4) # Note the (graph_in). This means \"put this layer AFTER the graph_in layer.\n",
    "                         #max looking for the very best variable, \n",
    "    pool = MaxPooling1D(pool_size=fsz)(conv) # Put this layer AFTER the convolution just created.connnect to the con\n",
    "    #flattenMax = Flatten()(pool) # Flatten the pooling layer.\n",
    "    convs4.append(pool) # Append this to the convs object that saves the stack.\n",
    "    \n",
    "# Concatenate layers.\n",
    "if len(filter_sizes4)>1:\n",
    "    out = Concatenate()(convs4)\n",
    "else:\n",
    "    out = convs4[0]\n",
    "\n",
    "graph4 = Model(inputs=graph_in4, outputs=out, name=\"graphModel\")\n",
    "\n",
    "graph4.summary()"
   ]
  },
  {
   "cell_type": "code",
   "execution_count": null,
   "metadata": {},
   "outputs": [],
   "source": [
    "modelk4 = Sequential()\n",
    "embedding_layerk4 = Embedding(len(embedding_matrix),           # Words in the embedding.\n",
    "                            300,                           # Embedding dimension\n",
    "                            weights=[embedding_matrix],    # The weights we just calculated\n",
    "                            input_length=88,              # The maximum number of words.\n",
    "                            trainable=False)               # To NOT recalculate weights!\n",
    "\n",
    "modelk4.add(embedding_layerk3)\n",
    "modelk4.add(Dropout(0.6))\n",
    "modelk4.add(BatchNormalization())\n",
    "# Now we add our graph model\n",
    "modelk4.add(graph4)\n",
    "\n",
    "# Add a few layers\n",
    "\n",
    "modelk4.add(Flatten())\n",
    "modelk4.add(Dense(64, activation='relu'))\n",
    "modelk4.add(Dropout(0.5))\n",
    "modelk4.add(Dense(64, activation = 'relu'))\n",
    "modelk4.add(Dropout(0.5))\n",
    "modelk4.add(Dense(1, activation='sigmoid'))\n",
    "\n",
    "# adam = Adam(clipnorm=.1)\n",
    "modelk4.compile(loss='binary_crossentropy',\n",
    "              optimizer='adam',\n",
    "              metrics=['acc'])"
   ]
  },
  {
   "cell_type": "code",
   "execution_count": null,
   "metadata": {},
   "outputs": [],
   "source": [
    "modelk4.fit(Xtrain, ytrain, validation_split=0.3, epochs=100, batch_size=32, verbose=1)"
   ]
  },
  {
   "cell_type": "code",
   "execution_count": null,
   "metadata": {},
   "outputs": [],
   "source": [
    "loss1 = modelk4.history.history['loss']\n",
    "val_loss1 = modelk4.history.history['val_loss']\n",
    "epochs1 = range(1, len(loss1) + 1)\n",
    "plt.figure(dpi=120)\n",
    "plt.plot(epochs1, loss1, 'bo', label='Training loss')\n",
    "plt.plot(epochs1, val_loss1, 'b', label='Validation loss')\n",
    "plt.title('Training and validation loss')\n",
    "plt.xlabel('Epochs')\n",
    "plt.ylabel('Loss')\n",
    "plt.legend()\n",
    "plt.show()\n",
    "\n",
    "# Normalization makes it worst"
   ]
  },
  {
   "cell_type": "markdown",
   "metadata": {},
   "source": [
    "**Model with parallel filter sizes of 4,4,4 and adding a CNN with filter of 128**"
   ]
  },
  {
   "cell_type": "code",
   "execution_count": null,
   "metadata": {},
   "outputs": [],
   "source": [
    "# Filter sizes to use.\n",
    "filter_sizes5 = (4,4,4)\n",
    "\n",
    "# Initialize.\n",
    "graph_in5 = Input(shape=(88, 300)) # will keep the input layer without any connections\n",
    "convs5 = []\n",
    "avgs5 = []\n",
    "\n",
    "# This for stacks the layers. Inside each for, we build the sequence of layer. The command \"append\" adds\n",
    "# that to the \"conv\" variable, which is simply a stack of convolutions.\n",
    "for fsz in filter_sizes5:\n",
    "    conv = Conv1D(filters=32,\n",
    "                  kernel_size=fsz,\n",
    "                         padding='valid',\n",
    "                         activation='relu',\n",
    "                         strides=2)(graph_in5) # Note the (graph_in). This means \"put this layer AFTER the graph_in layer.\n",
    "                         #max looking for the very best variable, \n",
    "    pool = MaxPooling1D(pool_size=fsz)(conv) # Put this layer AFTER the convolution just created.connnect to the con\n",
    "    #flattenMax = Flatten()(pool) # Flatten the pooling layer.\n",
    "    convs5.append(pool) # Append this to the convs object that saves the stack.\n",
    "    \n",
    "# Concatenate layers.\n",
    "if len(filter_sizes5)>1:\n",
    "    out = Concatenate()(convs5)\n",
    "else:\n",
    "    out = convs5[0]\n",
    "\n",
    "graph5 = Model(inputs=graph_in5, outputs=out, name=\"graphModel\")\n",
    "\n",
    "graph5.summary()"
   ]
  },
  {
   "cell_type": "code",
   "execution_count": null,
   "metadata": {},
   "outputs": [],
   "source": [
    "modelk5 = Sequential()\n",
    "embedding_layerk5 = Embedding(len(embedding_matrix),           # Words in the embedding.\n",
    "                            300,                           # Embedding dimension\n",
    "                            weights=[embedding_matrix],    # The weights we just calculated\n",
    "                            input_length=88,              # The maximum number of words.\n",
    "                            trainable=False)               # To NOT recalculate weights!\n",
    "\n",
    "modelk5.add(embedding_layerk5)\n",
    "modelk5.add(Dropout(0.6))\n",
    "# Now we add our graph model\n",
    "modelk5.add(graph5)\n",
    "\n",
    "modelk5.add(Conv1D(filters=128,           # How many filters to calculate. 128 sentences of length 3\n",
    "                 kernel_size=3,         # How many words to calculate per filter.\n",
    "                 padding='valid',       # Add padding? pre,or pos padd # pre padding at the end \n",
    "                 activation='relu',     # What activation to use?\n",
    "                 strides=2))\n",
    "# Add a few layers\n",
    "\n",
    "modelk5.add(Flatten())\n",
    "modelk5.add(Dense(128, activation='relu'))\n",
    "modelk5.add(Dropout(0.5))\n",
    "modelk5.add(Dense(128, activation = 'relu'))\n",
    "modelk5.add(Dropout(0.5))\n",
    "modelk5.add(Dense(1, activation='sigmoid'))\n",
    "\n",
    "# adam = Adam(clipnorm=.1)\n",
    "modelk5.compile(loss='binary_crossentropy',\n",
    "              optimizer='adam',\n",
    "              metrics=['acc'])"
   ]
  },
  {
   "cell_type": "code",
   "execution_count": null,
   "metadata": {},
   "outputs": [],
   "source": [
    "modelk5.fit(Xtrain, ytrain, validation_split=0.3, epochs=100, batch_size=32, verbose=1)"
   ]
  },
  {
   "cell_type": "code",
   "execution_count": null,
   "metadata": {},
   "outputs": [],
   "source": [
    "loss2 = modelk5.history.history['loss']\n",
    "val_loss2 = modelk5.history.history['val_loss']\n",
    "epochs2 = range(1, len(loss2) + 1)\n",
    "plt.figure(dpi=120)\n",
    "plt.plot(epochs2, loss2, 'bo', label='Training loss')\n",
    "plt.plot(epochs2, val_loss2, 'b', label='Validation loss')\n",
    "plt.title('Training and validation loss')\n",
    "plt.xlabel('Epochs')\n",
    "plt.ylabel('Loss')\n",
    "plt.legend()\n",
    "plt.show()"
   ]
  },
  {
   "cell_type": "markdown",
   "metadata": {},
   "source": [
    "**Model with BatchNormalization and 3 CNNs with 128 as filter size**"
   ]
  },
  {
   "cell_type": "code",
   "execution_count": null,
   "metadata": {},
   "outputs": [],
   "source": [
    "model3 = Sequential()\n",
    "embedding_layer = Embedding(len(embedding_matrix),           # Words in the embedding.\n",
    "                            300,                           # Embedding dimension\n",
    "                            weights=[embedding_matrix],    # The weights we just calculated\n",
    "                            input_length=88,              # The maximum number of words.\n",
    "                            trainable=False)               # To NOT recalculate weights!\n",
    "\n",
    "model3.add(embedding_layer)\n",
    "model3.add(Dropout(0.6))\n",
    "model3.add(BatchNormalization())\n",
    "model3.add(Conv1D(filters=128,           # How many filters to calculate. 128 sentences of length 3\n",
    "                 kernel_size=3,         # How many words to calculate per filter.\n",
    "                 padding='valid',       # Add padding? pre,or pos padd # pre padding at the end \n",
    "                 activation='relu',     # What activation to use?\n",
    "                 strides=2))\n",
    "\n",
    "\n",
    "model3.add(Conv1D(filters=128,           # How many filters to calculate. 128 sentences of length 3\n",
    "                 kernel_size=3,         # How many words to calculate per filter.\n",
    "                 padding='valid',       # Add padding? pre,or pos padd # pre padding at the end \n",
    "                 activation='relu',     # What activation to use?\n",
    "                 strides=2))\n",
    "\n",
    "\n",
    "model3.add(Conv1D(filters=128,           # How many filters to calculate. 128 sentences of length 3\n",
    "                 kernel_size=3,         # How many words to calculate per filter.\n",
    "                 padding='valid',       # Add padding? pre,or pos padd # pre padding at the end \n",
    "                 activation='relu',     # What activation to use?\n",
    "                 strides=2))\n",
    "\n",
    "model3.add(GlobalMaxPool1D())\n",
    "\n",
    "model3.add(Flatten())\n",
    "model3.add(Dense(128, activation = 'relu'))\n",
    "model3.add(Dropout(0.6))\n",
    "model3.add(Dense(128, activation='relu'))\n",
    "model3.add(Dropout(0.6))\n",
    "model3.add(Dense(1, activation='sigmoid'))\n",
    "model3.compile(loss='binary_crossentropy', optimizer='adam', metrics=['accuracy'])\n",
    "## Fit train data"
   ]
  },
  {
   "cell_type": "code",
   "execution_count": null,
   "metadata": {},
   "outputs": [],
   "source": [
    "model3.fit(Xtrain, ytrain, validation_split=0.3, epochs=100, batch_size=32, verbose=1)"
   ]
  },
  {
   "cell_type": "code",
   "execution_count": null,
   "metadata": {},
   "outputs": [],
   "source": [
    "loss3 = model3.history.history['loss']\n",
    "val_loss3 = model3.history.history['val_loss']\n",
    "epochs3 = range(1, len(loss3) + 1)\n",
    "plt.figure(dpi=120)\n",
    "plt.plot(epochs3, loss3, 'bo', label='Training loss')\n",
    "plt.plot(epochs3, val_loss3, 'b', label='Validation loss')\n",
    "plt.title('Training and validation loss')\n",
    "plt.xlabel('Epochs')\n",
    "plt.ylabel('Loss')\n",
    "plt.legend()\n",
    "plt.show()"
   ]
  },
  {
   "cell_type": "markdown",
   "metadata": {},
   "source": [
    "**Model with BatchNormalization and 3 CNNs with 128 as filter size**"
   ]
  },
  {
   "cell_type": "code",
   "execution_count": null,
   "metadata": {},
   "outputs": [],
   "source": [
    "model4 = Sequential()\n",
    "embedding_layer = Embedding(len(embedding_matrix),           # Words in the embedding.\n",
    "                            300,                           # Embedding dimension\n",
    "                            weights=[embedding_matrix],    # The weights we just calculated\n",
    "                            input_length=88,              # The maximum number of words.\n",
    "                            trainable=False)               # To NOT recalculate weights!\n",
    "\n",
    "model4.add(embedding_layer)\n",
    "model4.add(Dropout(0.6))\n",
    "#model3.add(BatchNormalization())\n",
    "model4.add(Conv1D(filters=64,           # How many filters to calculate.\n",
    "                 kernel_size=3,         # How many words to calculate per filter.\n",
    "                 padding='valid',       # Add padding? pre,or pos padd # pre padding at the end \n",
    "                 activation='relu',     # What activation to use?\n",
    "                 strides=2))\n",
    "\n",
    "\n",
    "model4.add(Conv1D(filters=64,           # How many filters to calculate.\n",
    "                 kernel_size=3,         # How many words to calculate per filter.\n",
    "                 padding='valid',       # Add padding? pre,or pos padd # pre padding at the end \n",
    "                 activation='relu',     # What activation to use?\n",
    "                 strides=2))\n",
    "\n",
    "\n",
    "model4.add(Conv1D(filters=64,           # How many filters to calculate.\n",
    "                 kernel_size=3,         # How many words to calculate per filter.\n",
    "                 padding='valid',       # Add padding? pre,or pos padd # pre padding at the end \n",
    "                 activation='relu',     # What activation to use?\n",
    "                 strides=2))\n",
    "\n",
    "model4.add(Conv1D(filters=64,           # How many filters to calculate.\n",
    "                 kernel_size=3,         # How many words to calculate per filter.\n",
    "                 padding='valid',       # Add padding? pre,or pos padd # pre padding at the end \n",
    "                 activation='relu',     # What activation to use?\n",
    "                 strides=2))\n",
    "\n",
    "model4.add(GlobalMaxPool1D())\n",
    "\n",
    "model4.add(Flatten())\n",
    "model4.add(Dense(128, activation = 'relu'))\n",
    "model4.add(Dropout(0.6))\n",
    "model4.add(Dense(128, activation='relu'))\n",
    "model4.add(Dropout(0.6))\n",
    "model4.add(Dense(1, activation='sigmoid'))\n",
    "model4.compile(loss='binary_crossentropy', optimizer='adam', metrics=['accuracy'])\n",
    "## Fit train data"
   ]
  },
  {
   "cell_type": "code",
   "execution_count": null,
   "metadata": {},
   "outputs": [],
   "source": [
    "model4.fit(Xtrain, ytrain, validation_split=0.3, epochs=100, batch_size=32, verbose=1)"
   ]
  },
  {
   "cell_type": "code",
   "execution_count": null,
   "metadata": {},
   "outputs": [],
   "source": [
    "loss4 = model4.history.history['loss']\n",
    "val_loss4 = model4.history.history['val_loss']\n",
    "epochs4 = range(1, len(loss4) + 1)\n",
    "plt.figure(dpi=120)\n",
    "plt.plot(epochs4, loss4, 'bo', label='Training loss')\n",
    "plt.plot(epochs4, val_loss4, 'b', label='Validation loss')\n",
    "plt.title('Training and validation loss')\n",
    "plt.xlabel('Epochs')\n",
    "plt.ylabel('Loss')\n",
    "plt.legend()\n",
    "plt.show()"
   ]
  },
  {
   "cell_type": "markdown",
   "metadata": {},
   "source": [
    "**Model with BatchNormalization and 3 CNNs with 128 as filter size adding a Max Pooling**"
   ]
  },
  {
   "cell_type": "code",
   "execution_count": null,
   "metadata": {},
   "outputs": [],
   "source": [
    "model5 = Sequential()\n",
    "embedding_layer = Embedding(len(embedding_matrix),           # Words in the embedding.\n",
    "                            300,                           # Embedding dimension\n",
    "                            weights=[embedding_matrix],    # The weights we just calculated\n",
    "                            input_length=88,              # The maximum number of words.\n",
    "                            trainable=False)               # To NOT recalculate weights!\n",
    "\n",
    "model5.add(embedding_layer)\n",
    "model5.add(Dropout(0.6))\n",
    "model5.add(BatchNormalization())\n",
    "model5.add(Conv1D(filters=128,           # How many filters to calculate. 128 sentences of length 3\n",
    "                 kernel_size=3,         # How many words to calculate per filter.\n",
    "                 padding='valid',       # Add padding? pre,or pos padd # pre padding at the end \n",
    "                 activation='relu',     # What activation to use?\n",
    "                 strides=2))\n",
    "\n",
    "#model5.add(BatchNormalization())\n",
    "model5.add(Conv1D(filters=128,           # How many filters to calculate. 128 sentences of length 3\n",
    "                 kernel_size=3,         # How many words to calculate per filter.\n",
    "                 padding='valid',       # Add padding? pre,or pos padd # pre padding at the end \n",
    "                 activation='relu',     # What activation to use?\n",
    "                 strides=2))\n",
    "model.add(MaxPooling1D(pool_size = 2))\n",
    "\n",
    "model5.add(Conv1D(filters=128,           # How many filters to calculate. 128 sentences of length 3\n",
    "                 kernel_size=3,         # How many words to calculate per filter.\n",
    "                 padding='valid',       # Add padding? pre,or pos padd # pre padding at the end \n",
    "                 activation='relu',     # What activation to use?\n",
    "                 strides=2))\n",
    "\n",
    "model5.add(Conv1D(filters=128,           # How many filters to calculate. 128 sentences of length 3\n",
    "                 kernel_size=3,         # How many words to calculate per filter.\n",
    "                 padding='valid',       # Add padding? pre,or pos padd # pre padding at the end \n",
    "                 activation='relu',     # What activation to use?\n",
    "                 strides=2))\n",
    "\n",
    "model5.add(GlobalMaxPool1D())\n",
    "\n",
    "model5.add(Flatten())\n",
    "model5.add(Dense(128, activation = 'relu'))\n",
    "model5.add(Dropout(0.6))\n",
    "model5.add(Dense(128, activation='relu'))\n",
    "model5.add(Dropout(0.6))\n",
    "model5.add(Dense(1, activation='sigmoid'))\n",
    "model5.compile(loss='binary_crossentropy', optimizer='adam', metrics=['accuracy'])\n",
    "## Fit train data"
   ]
  },
  {
   "cell_type": "code",
   "execution_count": null,
   "metadata": {},
   "outputs": [],
   "source": [
    "model5.fit(Xtrain, ytrain, validation_split=0.3, epochs=100, batch_size=32, verbose=1)"
   ]
  },
  {
   "cell_type": "code",
   "execution_count": null,
   "metadata": {},
   "outputs": [],
   "source": [
    "loss5 = model5.history.history['loss']\n",
    "val_loss5 = model5.history.history['val_loss']\n",
    "epochs5 = range(1, len(loss5) + 1)\n",
    "plt.figure(dpi=120)\n",
    "plt.plot(epochs5, loss5, 'bo', label='Training loss')\n",
    "plt.plot(epochs5, val_loss5, 'b', label='Validation loss')\n",
    "plt.title('Training and validation loss')\n",
    "plt.xlabel('Epochs')\n",
    "plt.ylabel('Loss')\n",
    "plt.legend()\n",
    "plt.show()"
   ]
  },
  {
   "cell_type": "markdown",
   "metadata": {},
   "source": [
    "**Model with BatchNormalization and 3 CNNs changing kernel size to (5, 4, 3)**"
   ]
  },
  {
   "cell_type": "code",
   "execution_count": null,
   "metadata": {},
   "outputs": [],
   "source": [
    "model6 = Sequential()\n",
    "embedding_layer = Embedding(len(embedding_matrix),           # Words in the embedding.\n",
    "                            300,                           # Embedding dimension\n",
    "                            weights=[embedding_matrix],    # The weights we just calculated\n",
    "                            input_length=88,              # The maximum number of words.\n",
    "                            trainable=False)               # To NOT recalculate weights!\n",
    "\n",
    "model6.add(embedding_layer)\n",
    "model6.add(Dropout(0.6))\n",
    "model6.add(BatchNormalization())\n",
    "model6.add(Conv1D(filters=64,           # How many filters to calculate.\n",
    "                 kernel_size=5,         # How many words to calculate per filter.\n",
    "                 padding='valid',       # Add padding? pre,or pos padd # pre padding at the end \n",
    "                 activation='relu',     # What activation to use?\n",
    "                 strides=2))\n",
    "\n",
    "#model5.add(BatchNormalization())\n",
    "model6.add(Conv1D(filters=64,           # How many filters to calculate.\n",
    "                 kernel_size=5,         # How many words to calculate per filter.\n",
    "                 padding='valid',       # Add padding? pre,or pos padd # pre padding at the end \n",
    "                 activation='relu',     # What activation to use?\n",
    "                 strides=2))\n",
    "\n",
    "\n",
    "model6.add(Conv1D(filters=128,           # How many filters to calculate.\n",
    "                 kernel_size=4,         # How many words to calculate per filter.\n",
    "                 padding='valid',       # Add padding? pre,or pos padd # pre padding at the end \n",
    "                 activation='relu',     # What activation to use?\n",
    "                 strides=2))\n",
    "\n",
    "model6.add(Conv1D(filters=128,           # How many filters to calculate.\n",
    "                 kernel_size=4,         # How many words to calculate per filter.\n",
    "                 padding='valid',       # Add padding? pre,or pos padd # pre padding at the end \n",
    "                 activation='relu',     # What activation to use?\n",
    "                 strides=2))\n",
    "\n",
    "model6.add(GlobalMaxPool1D())\n",
    "\n",
    "model6.add(Flatten())\n",
    "model6.add(Dense(128, activation = 'relu'))\n",
    "model6.add(Dropout(0.6))\n",
    "model6.add(Dense(128, activation='relu'))\n",
    "model6.add(Dropout(0.6))\n",
    "model6.add(Dense(1, activation='sigmoid'))\n",
    "model6.compile(loss='binary_crossentropy', optimizer='adam', metrics=['accuracy'])\n",
    "## Fit train data"
   ]
  },
  {
   "cell_type": "code",
   "execution_count": null,
   "metadata": {},
   "outputs": [],
   "source": [
    "model6.fit(Xtrain, ytrain, validation_split=0.3, epochs=100, batch_size=32, verbose=1)"
   ]
  },
  {
   "cell_type": "code",
   "execution_count": null,
   "metadata": {},
   "outputs": [],
   "source": [
    "loss6 = model6.history.history['loss']\n",
    "val_loss6 = model6.history.history['val_loss']\n",
    "epochs6 = range(1, len(loss6) + 1)\n",
    "plt.figure(dpi=120)\n",
    "plt.plot(epochs6, loss6, 'bo', label='Training loss')\n",
    "plt.plot(epochs6, val_loss6, 'b', label='Validation loss')\n",
    "plt.title('Training and validation loss')\n",
    "plt.xlabel('Epochs')\n",
    "plt.ylabel('Loss')\n",
    "plt.legend()\n",
    "plt.show()"
   ]
  },
  {
   "cell_type": "markdown",
   "metadata": {},
   "source": [
    "**Changing kernel filters (64, 128, 128)**"
   ]
  },
  {
   "cell_type": "code",
   "execution_count": null,
   "metadata": {},
   "outputs": [],
   "source": [
    "model7 = Sequential()\n",
    "embedding_layer = Embedding(len(embedding_matrix),           # Words in the embedding.\n",
    "                            300,                           # Embedding dimension\n",
    "                            weights=[embedding_matrix],    # The weights we just calculated\n",
    "                            input_length=88,              # The maximum number of words.\n",
    "                            trainable=False)               # To NOT recalculate weights!\n",
    "\n",
    "model7.add(embedding_layer)\n",
    "model7.add(Dropout(0.6))\n",
    "model7.add(BatchNormalization())\n",
    "model7.add(Conv1D(filters=64,           # How many filters to calculate.\n",
    "                 kernel_size=5,         # How many words to calculate per filter.\n",
    "                 padding='valid',       # Add padding? pre,or pos padd # pre padding at the end \n",
    "                 activation='relu',     # What activation to use?\n",
    "                 strides=2))\n",
    "\n",
    "#model5.add(BatchNormalization())\n",
    "model7.add(Conv1D(filters=64,           # How many filters to calculate.\n",
    "                 kernel_size=5,         # How many words to calculate per filter.\n",
    "                 padding='valid',       # Add padding? pre,or pos padd # pre padding at the end \n",
    "                 activation='relu',     # What activation to use?\n",
    "                 strides=2))\n",
    "\n",
    "\n",
    "model7.add(Conv1D(filters=128,           # How many filters to calculate.\n",
    "                 kernel_size=4,         # How many words to calculate per filter.\n",
    "                 padding='valid',       # Add padding? pre,or pos padd # pre padding at the end \n",
    "                 activation='relu',     # What activation to use?\n",
    "                 strides=2))\n",
    "\n",
    "model7.add(Conv1D(filters=128,           # How many filters to calculate.\n",
    "                 kernel_size=4,         # How many words to calculate per filter.\n",
    "                 padding='valid',       # Add padding? pre,or pos padd # pre padding at the end \n",
    "                 activation='relu',     # What activation to use?\n",
    "                 strides=2))\n",
    "\n",
    "model7.add(GlobalMaxPool1D())\n",
    "\n",
    "model7.add(Flatten())\n",
    "model7.add(Dense(128, activation = 'relu'))\n",
    "model7.add(Dropout(0.6))\n",
    "model7.add(Dense(128, activation='relu'))\n",
    "model7.add(Dropout(0.6))\n",
    "model7.add(Dense(1, activation='sigmoid'))\n",
    "model7.compile(loss='binary_crossentropy', optimizer='adam', metrics=['accuracy'])\n",
    "## Fit train data"
   ]
  },
  {
   "cell_type": "code",
   "execution_count": null,
   "metadata": {},
   "outputs": [],
   "source": [
    "model7.fit(Xtrain, ytrain, validation_split=0.3, epochs=100, batch_size=32, verbose=1)"
   ]
  },
  {
   "cell_type": "code",
   "execution_count": null,
   "metadata": {},
   "outputs": [],
   "source": [
    "loss7 = model7.history.history['loss']\n",
    "val_loss7 = model7.history.history['val_loss']\n",
    "epochs7 = range(1, len(loss7) + 1)\n",
    "plt.figure(dpi=120)\n",
    "plt.plot(epochs7, loss7, 'bo', label='Training loss')\n",
    "plt.plot(epochs7, val_loss7, 'b', label='Validation loss')\n",
    "plt.title('Training and validation loss')\n",
    "plt.xlabel('Epochs')\n",
    "plt.ylabel('Loss')\n",
    "plt.legend()\n",
    "plt.show()"
   ]
  },
  {
   "cell_type": "markdown",
   "metadata": {},
   "source": [
    "**Kim's Model changing the filter sizes**"
   ]
  },
  {
   "cell_type": "code",
   "execution_count": null,
   "metadata": {},
   "outputs": [],
   "source": [
    "# Filter sizes to use.\n",
    "filter_sizes = (3,4,4,5,6) \n",
    "\n",
    "# Initialize.\n",
    "graph_in = Input(shape=(88, 300)) # will keep the input layer without any connections\n",
    "convs = []\n",
    "avgs = []\n",
    "\n",
    "# This for stacks the layers. Inside each for, we build the sequence of layer. The command \"append\" adds\n",
    "# that to the \"conv\" variable, which is simply a stack of convolutions.\n",
    "for fsz in filter_sizes:\n",
    "    conv = Conv1D(filters=32,\n",
    "                  kernel_size=fsz,\n",
    "                         padding='valid',\n",
    "                         activation='relu',\n",
    "                         strides=1)(graph_in) # Note the (graph_in). This means \"put this layer AFTER the graph_in layer.\n",
    "                         #max looking for the very best variable, \n",
    "    pool = MaxPooling1D(pool_size=88 - fsz + 1)(conv) # Put this layer AFTER the convolution just created.connnect to the con\n",
    "    flattenMax = Flatten()(pool) # Flatten the pooling layer.\n",
    "    convs.append(flattenMax) # Append this to the convs object that saves the stack.\n",
    "    \n",
    "# Concatenate layers.\n",
    "if len(filter_sizes)>1:\n",
    "    out = Concatenate()(convs)\n",
    "else:\n",
    "    out = convs[0]\n",
    "\n",
    "graph = Model(inputs=graph_in, outputs=out, name=\"graphModel\")\n",
    "\n",
    "graph.summary()"
   ]
  },
  {
   "cell_type": "code",
   "execution_count": null,
   "metadata": {},
   "outputs": [],
   "source": [
    "# Final model\n",
    "model = Sequential()\n",
    "embedding_layer = Embedding(len(embedding_matrix),           # Words in the embedding.\n",
    "                            300,                           # Embedding dimension\n",
    "                            weights=[embedding_matrix],    # The weights we just calculated\n",
    "                            input_length=88,              # The maximum number of words.\n",
    "                            trainable=False)               # To NOT recalculate weights!\n",
    "\n",
    "model.add(embedding_layer)\n",
    "model.add(Dropout(0.5))\n",
    "model7.add(BatchNormalization())\n",
    "# Now we add our graph model\n",
    "\n",
    "#model.add(Flatten())\n",
    "model.add(graph)\n",
    "\n",
    "\n",
    "\n",
    "\n",
    "\n",
    "model.add(Dense(32, activation='relu'))\n",
    "\n",
    "# Add a few layers\n",
    "model.add(Dense(32, activation='relu'))\n",
    "model.add(Dropout(0.5))\n",
    "model.add(Dense(1, activation='sigmoid'))\n",
    "\n",
    "# adam = Adam(clipnorm=.1)\n",
    "model.compile(loss='binary_crossentropy',\n",
    "              optimizer='adam',\n",
    "              metrics=['acc'])"
   ]
  },
  {
   "cell_type": "code",
   "execution_count": null,
   "metadata": {},
   "outputs": [],
   "source": [
    "model.fit(Xtrain, ytrain, validation_split=0.3, epochs=100, batch_size=32, verbose=1)"
   ]
  },
  {
   "cell_type": "code",
   "execution_count": null,
   "metadata": {},
   "outputs": [],
   "source": [
    "loss8 = model.history.history['loss']\n",
    "val_loss8 = model.history.history['val_loss']\n",
    "epochs8 = range(1, len(loss8) + 1)\n",
    "plt.figure(dpi=120)\n",
    "plt.plot(epochs8, loss8, 'bo', label='Training loss')\n",
    "plt.plot(epochs8, val_loss8, 'b', label='Validation loss')\n",
    "plt.title('Training and validation loss')\n",
    "plt.xlabel('Epochs')\n",
    "plt.ylabel('Loss')\n",
    "plt.legend()\n",
    "plt.show()"
   ]
  },
  {
   "cell_type": "code",
   "execution_count": null,
   "metadata": {},
   "outputs": [],
   "source": [
    "# Filter sizes to use.\n",
    "filter_sizes = (4,5,6) \n",
    "\n",
    "# Initialize.\n",
    "graph_in2 = Input(shape=(88, 300)) # will keep the input layer without any connections\n",
    "convs2 = []\n",
    "avgs2 = []\n",
    "\n",
    "# This for stacks the layers. Inside each for, we build the sequence of layer. The command \"append\" adds\n",
    "# that to the \"conv\" variable, which is simply a stack of convolutions.\n",
    "for fsz in filter_sizes:\n",
    "    conv = Conv1D(filters=32,\n",
    "                  kernel_size=fsz,\n",
    "                         padding='valid',\n",
    "                         activation='relu',\n",
    "                         strides=1)(graph_in2) # Note the (graph_in). This means \"put this layer AFTER the graph_in layer.\n",
    "                         #max looking for the very best variable, \n",
    "    pool = MaxPooling1D(pool_size=fsz-2)(conv) # Put this layer AFTER the convolution just created.connnect to the con\n",
    "    flattenMax = Flatten()(pool) # Flatten the pooling layer.\n",
    "    convs2.append(flattenMax) # Append this to the convs object that saves the stack.\n",
    "    \n",
    "# Concatenate layers.\n",
    "if len(filter_sizes)>1:\n",
    "    out = Concatenate()(convs2)\n",
    "else:\n",
    "    out = convs2[0]\n",
    "\n",
    "graph2 = Model(inputs=graph_in2, outputs=out, name=\"graphModel\")\n",
    "\n",
    "graph2.summary()"
   ]
  },
  {
   "cell_type": "code",
   "execution_count": null,
   "metadata": {},
   "outputs": [],
   "source": [
    "# Final model\n",
    "model9 = Sequential()\n",
    "embedding_layer = Embedding(len(embedding_matrix),           # Words in the embedding.\n",
    "                            300,                           # Embedding dimension\n",
    "                            weights=[embedding_matrix],    # The weights we just calculated\n",
    "                            input_length=88,              # The maximum number of words.\n",
    "                            trainable=False)               # To NOT recalculate weights!\n",
    "\n",
    "model9.add(embedding_layer)\n",
    "model9.add(Dropout(0.5))\n",
    "\n",
    "# Now we add our graph model\n",
    "\n",
    "#model.add(Flatten())\n",
    "model9.add(graph2)\n",
    "\n",
    "\n",
    "model9.add(Dense(32, activation='relu'))\n",
    "\n",
    "# Add a few layers\n",
    "model9.add(Dense(32, activation='relu'))\n",
    "model9.add(Dropout(0.5))\n",
    "model9.add(Dense(1, activation='sigmoid'))\n",
    "\n",
    "# adam = Adam(clipnorm=.1)\n",
    "model9.compile(loss='binary_crossentropy',\n",
    "              optimizer='adam',\n",
    "              metrics=['acc'])"
   ]
  },
  {
   "cell_type": "code",
   "execution_count": null,
   "metadata": {},
   "outputs": [],
   "source": [
    "model9.fit(Xtrain, ytrain, validation_split=0.3, epochs=50, batch_size=16, verbose=1)"
   ]
  },
  {
   "cell_type": "code",
   "execution_count": null,
   "metadata": {},
   "outputs": [],
   "source": [
    "loss9 = model9.history.history['loss']\n",
    "val_loss9 = model9.history.history['val_loss']\n",
    "epochs9 = range(1, len(loss9) + 1)\n",
    "plt.figure(dpi=120)\n",
    "plt.plot(epochs9, loss9, 'bo', label='Training loss')\n",
    "plt.plot(epochs9, val_loss9, 'b', label='Validation loss')\n",
    "plt.title('Training and validation loss')\n",
    "plt.xlabel('Epochs')\n",
    "plt.ylabel('Loss')\n",
    "plt.legend()\n",
    "plt.show()"
   ]
  },
  {
   "cell_type": "code",
   "execution_count": null,
   "metadata": {},
   "outputs": [],
   "source": [
    "model10 = Sequential()\n",
    "embedding_layer = Embedding(len(embedding_matrix),           # Words in the embedding.\n",
    "                            300,                           # Embedding dimension\n",
    "                            weights=[embedding_matrix],    # The weights we just calculated\n",
    "                            input_length=88,              # The maximum number of words.\n",
    "                            trainable=False)               # To NOT recalculate weights!\n",
    "\n",
    "model10.add(embedding_layer)\n",
    "model10.add(Dropout(0.3))\n",
    "#model10.add(BatchNormalization())\n",
    "model10.add(Conv1D(filters=128,           # How many filters to calculate. 128 sentences of length 5\n",
    "                 kernel_size=5,         # How many words to calculate per filter.\n",
    "                 padding='valid',       # Add padding? pre,or pos padd # pre padding at the end \n",
    "                 activation='relu',     # What activation to use?\n",
    "                 strides=2))\n",
    "\n",
    "#model5.add(BatchNormalization())\n",
    "model10.add(Conv1D(filters=128,           # How many filters to calculate. 128 sentences of length 5\n",
    "                 kernel_size=5,         # How many words to calculate per filter.\n",
    "                 padding='valid',       # Add padding? pre,or pos padd # pre padding at the end \n",
    "                 activation='relu',     # What activation to use?\n",
    "                 strides=2))\n",
    "\n",
    "\n",
    "model10.add(Conv1D(filters=128,           # How many filters to calculate. 128 sentences of length 3\n",
    "                 kernel_size=4,         # How many words to calculate per filter.\n",
    "                 padding='valid',       # Add padding? pre,or pos padd # pre padding at the end \n",
    "                 activation='relu',     # What activation to use?\n",
    "                 strides=2))\n",
    "\n",
    "model10.add(Conv1D(filters=128,           # How many filters to calculate. 128 sentences of length 4\n",
    "                 kernel_size=4,         # How many words to calculate per filter.\n",
    "                 padding='valid',       # Add padding? pre,or pos padd # pre padding at the end \n",
    "                 activation='relu',     # What activation to use?\n",
    "                 strides=2))\n",
    "\n",
    "model10.add(GlobalMaxPool1D())\n",
    "\n",
    "model10.add(Flatten())\n",
    "model10.add(Dense(128, activation = 'relu'))\n",
    "model10.add(Dropout(0.3))\n",
    "model10.add(Dense(128, activation='relu'))\n",
    "model10.add(Dropout(0.3))\n",
    "model10.add(Dense(1, activation='sigmoid'))\n",
    "model10.compile(loss='binary_crossentropy', optimizer='adam', metrics=['accuracy'])\n",
    "## Fit train data"
   ]
  },
  {
   "cell_type": "code",
   "execution_count": null,
   "metadata": {},
   "outputs": [],
   "source": [
    "model10.fit(Xtrain, ytrain, validation_split=0.3, epochs=100, batch_size=32, verbose=1)"
   ]
  },
  {
   "cell_type": "code",
   "execution_count": null,
   "metadata": {},
   "outputs": [],
   "source": [
    "loss10 = model10.history.history['loss']\n",
    "val_loss10 = model10.history.history['val_loss']\n",
    "epochs10 = range(1, len(loss10) + 1)\n",
    "plt.figure(dpi=120)\n",
    "plt.plot(epochs10, loss10, 'bo', label='Training loss')\n",
    "plt.plot(epochs10, val_loss10, 'b', label='Validation loss')\n",
    "plt.title('Training and validation loss')\n",
    "plt.xlabel('Epochs')\n",
    "plt.ylabel('Loss')\n",
    "plt.legend()\n",
    "plt.show()\n",
    "# model withou"
   ]
  },
  {
   "cell_type": "code",
   "execution_count": null,
   "metadata": {},
   "outputs": [],
   "source": [
    "model11 = Sequential()\n",
    "embedding_layer = Embedding(len(embedding_matrix),           # Words in the embedding.\n",
    "                            300,                           # Embedding dimension\n",
    "                            weights=[embedding_matrix],    # The weights we just calculated\n",
    "                            input_length=88,              # The maximum number of words.\n",
    "                            trainable=False) \n",
    "model11.add(embedding_layer)\n",
    "\n",
    "model11.add(Bidirectional(CuDNNLSTM(64, return_sequences=True)))\n",
    "\n",
    "model11.add(GlobalMaxPooling1D())\n",
    "model11.add(Dropout(0.5))\n",
    "model11.add(Dense(128, activation='relu'))\n",
    "#model.add(Dropout(0.5))\n",
    "model11.add(Dense(128, activation='relu'))\n",
    "model11.add(Dropout(0.5))\n",
    "model11.add(Dense(1, activation='sigmoid'))\n",
    "\n",
    "model11.compile(optimizer=optimizers.Adam(learning_rate=0.001),loss='binary_crossentropy', metrics=['accuracy'])"
   ]
  },
  {
   "cell_type": "code",
   "execution_count": null,
   "metadata": {},
   "outputs": [],
   "source": [
    "model11.fit(Xtrain, ytrain, validation_split=0.3, epochs=50, batch_size=32, verbose=1)"
   ]
  },
  {
   "cell_type": "code",
   "execution_count": null,
   "metadata": {},
   "outputs": [],
   "source": [
    "loss11 = model11.history.history['loss']\n",
    "val_loss11 = model11.history.history['val_loss']\n",
    "epochs11 = range(1, len(loss11) + 1)\n",
    "plt.figure(dpi=120)\n",
    "plt.plot(epochs11, loss11, 'bo', label='Training loss')\n",
    "plt.plot(epochs11, val_loss11, 'b', label='Validation loss')\n",
    "plt.title('Training and validation loss')\n",
    "plt.xlabel('Epochs')\n",
    "plt.ylabel('Loss')\n",
    "plt.legend()\n",
    "plt.show()"
   ]
  },
  {
   "cell_type": "code",
   "execution_count": null,
   "metadata": {},
   "outputs": [],
   "source": [
    "# Structure 2\n",
    "model_ft = Sequential()\n",
    "embedding_layer = Embedding(len(embedding_matrix),           # Words in the embedding.\n",
    "                            300,                           # Embedding dimension\n",
    "                            weights=[embedding_matrix],    # The weights we just calculated\n",
    "                            input_length=88,              # The maximum number of words.\n",
    "                            trainable=False)               # To NOT recalculate weights!\n",
    "\n",
    "model_ft.add(embedding_layer)\n",
    "model_ft.add(Dropout(0.4))\n",
    "\n",
    "model_ft.add(Bidirectional(GRU(64, return_sequences=True)))\n",
    "\n",
    "model_ft.add(Conv1D(filters=64,           # How many filters to calculate.\n",
    "                 kernel_size=5,         # How many words to calculate per filter.\n",
    "                 padding='valid',       # Add padding? pre,or pos padd # pre padding at the end \n",
    "                 activation='relu',     # What activation to use?\n",
    "                 strides=3))\n",
    "\n",
    "model_ft.add(Conv1D(filters=64,           # How many filters to calculate.\n",
    "                 kernel_size=4,         # How many words to calculate per filter.\n",
    "                 padding='valid',       # Add padding? pre,or pos padd # pre padding at the end \n",
    "                 activation='relu',     # What activation to use?\n",
    "                 strides=2))\n",
    "model_ft.add(GlobalMaxPool1D())\n",
    "\n",
    "model_ft.add(Dense(64, activation='relu'))\n",
    "model_ft.add(Dense(64, activation='relu'))\n",
    "model_ft.add(Dropout(0.4))\n",
    "model_ft.add(Dense(1, activation='sigmoid'))\n",
    "model_ft.compile(loss='binary_crossentropy', optimizer='adam', metrics=['accuracy'])\n",
    "## Fit train data\n",
    "model_ft.fit(data, np.array(labels), validation_split=0.3, epochs = 50)"
   ]
  },
  {
   "cell_type": "code",
   "execution_count": null,
   "metadata": {},
   "outputs": [],
   "source": [
    "loss_ft = model_ft.history.history['loss']\n",
    "val_loss_ft = model_ft.history.history['val_loss']\n",
    "epochs_ft = range(1, len(loss_ft) + 1)\n",
    "plt.figure(dpi=120)\n",
    "plt.plot(epochs_ft, loss_ft, 'bo', label='Training loss')\n",
    "plt.plot(epochs_ft, val_loss_ft, 'b', label='Validation loss')\n",
    "plt.title('Training and validation loss')\n",
    "plt.xlabel('Epochs')\n",
    "plt.ylabel('Loss')\n",
    "plt.legend()\n",
    "plt.show()"
   ]
  },
  {
   "cell_type": "markdown",
   "metadata": {},
   "source": [
    "### Changing the parameters of the architectures using Glove embedding"
   ]
  },
  {
   "cell_type": "markdown",
   "metadata": {},
   "source": [
    "**This model used different only 3 filters in the graph model**"
   ]
  },
  {
   "cell_type": "code",
   "execution_count": null,
   "metadata": {},
   "outputs": [],
   "source": [
    "#This model used different only 3 filters in the hraph model\n",
    "modelg = Sequential()\n",
    "embedding_layerg = Embedding(len(embedding_glove),           # Words in the embedding.\n",
    "                            300,                           # Embedding dimension\n",
    "                            weights=[embedding_glove],    # The weights we just calculated\n",
    "                            input_length=88,              # The maximum number of words.\n",
    "                            trainable=False)               # To NOT recalculate weights!\n",
    "\n",
    "modelg.add(embedding_layerg)\n",
    "modelg.add(Dropout(0.6))\n",
    "# Now we add our graph model\n",
    "modelg.add(graph3)\n",
    "\n",
    "# Add a few layers\n",
    "\n",
    "modelg.add(Flatten())\n",
    "modelg.add(Dense(64, activation='relu'))\n",
    "modelg.add(Dropout(0.5))\n",
    "modelg.add(Dense(64, activation = 'relu'))\n",
    "modelg.add(Dropout(0.5))\n",
    "modelg.add(Dense(1))\n",
    "modelg.add(Dense(1, activation='sigmoid'))\n",
    "\n",
    "# adam = Adam(clipnorm=.1)\n",
    "modelg.compile(loss='binary_crossentropy',\n",
    "              optimizer='adam',\n",
    "              metrics=['acc'])"
   ]
  },
  {
   "cell_type": "code",
   "execution_count": null,
   "metadata": {},
   "outputs": [],
   "source": [
    "modelg.fit(Xtraing, ytraing, validation_split=0.3, epochs=100, batch_size=32, verbose=1)"
   ]
  },
  {
   "cell_type": "code",
   "execution_count": null,
   "metadata": {},
   "outputs": [],
   "source": [
    "loss_g = modelg.history.history['loss']\n",
    "val_lossg = modelg.history.history['val_loss']\n",
    "epochs_g = range(1, len(loss_g) + 1)\n",
    "plt.figure(dpi=120)\n",
    "plt.plot(epochs_g, loss_g, 'bo', label='Training loss')\n",
    "plt.plot(epochs_g, val_lossg, 'b', label='Validation loss')\n",
    "plt.title('Training and validation loss')\n",
    "plt.xlabel('Epochs')\n",
    "plt.ylabel('Loss')\n",
    "plt.legend()\n",
    "plt.show()"
   ]
  },
  {
   "cell_type": "markdown",
   "metadata": {},
   "source": [
    "#### This model used in the graph model 4 filters of size 4"
   ]
  },
  {
   "cell_type": "code",
   "execution_count": null,
   "metadata": {},
   "outputs": [],
   "source": [
    "\n",
    "modelg1 = Sequential()\n",
    "embedding_layerg = Embedding(len(embedding_glove),           # Words in the embedding.\n",
    "                            300,                           # Embedding dimension\n",
    "                            weights=[embedding_glove],    # The weights we just calculated\n",
    "                            input_length=88,              # The maximum number of words.\n",
    "                            trainable=False)               # To NOT recalculate weights!\n",
    "\n",
    "modelg1.add(embedding_layerg)\n",
    "modelg1.add(Dropout(0.5))\n",
    "# Now we add our graph model\n",
    "modelg1.add(graph3)\n",
    "\n",
    "\n",
    "modelg1.add(Conv1D(filters=64,           # How many filters to calculate.\n",
    "                 kernel_size=4,         # How many words to calculate per filter.\n",
    "                 padding='valid',       # Add padding? pre,or pos padd # pre padding at the end \n",
    "                 activation='relu',     # What activation to use?\n",
    "                 strides=2))\n",
    "# Add a few layers\n",
    "\n",
    "modelg1.add(Flatten())\n",
    "modelg1.add(Dense(64, activation='relu'))\n",
    "modelg1.add(Dropout(0.5))\n",
    "modelg1.add(Dense(64, activation = 'relu'))\n",
    "modelg1.add(Dropout(0.5))\n",
    "modelg1.add(Dense(1))\n",
    "modelg1.add(Dense(1, activation='sigmoid'))\n",
    "\n",
    "# adam = Adam(clipnorm=.1)\n",
    "modelg1.compile(loss='binary_crossentropy',\n",
    "              optimizer='adam',\n",
    "              metrics=['acc'])"
   ]
  },
  {
   "cell_type": "code",
   "execution_count": null,
   "metadata": {},
   "outputs": [],
   "source": [
    "modelg1.fit(Xtraing, ytraing, validation_split=0.3, epochs=100, batch_size=32, verbose=1)"
   ]
  },
  {
   "cell_type": "code",
   "execution_count": null,
   "metadata": {},
   "outputs": [],
   "source": [
    "loss_g1 = modelg1.history.history['loss']\n",
    "val_lossg1 = modelg1.history.history['val_loss']\n",
    "epochs_g1 = range(1, len(loss_g1) + 1)\n",
    "plt.figure(dpi=120)\n",
    "plt.plot(epochs_g1, loss_g1, 'bo', label='Training loss')\n",
    "plt.plot(epochs_g1, val_lossg1, 'b', label='Validation loss')\n",
    "plt.title('Training and validation loss')\n",
    "plt.xlabel('Epochs')\n",
    "plt.ylabel('Loss')\n",
    "plt.legend()\n",
    "plt.show()"
   ]
  },
  {
   "cell_type": "markdown",
   "metadata": {},
   "source": [
    "**Bidirectional model removing dense layer**"
   ]
  },
  {
   "cell_type": "code",
   "execution_count": null,
   "metadata": {},
   "outputs": [],
   "source": [
    "model_glove = Sequential()\n",
    "embedding_layerg = Embedding(len(embedding_glove),           # Words in the embedding.\n",
    "                            300,                           # Embedding dimension\n",
    "                            weights=[embedding_glove],    # The weights we just calculated\n",
    "                            input_length=88,              # The maximum number of words.\n",
    "                            trainable=False)               # To NOT recalculate weights!\n",
    "\n",
    "model_glove.add(embedding_layerg)\n",
    "model_glove.add(Dropout(0.5))\n",
    "\n",
    "model_glove.add(Bidirectional(GRU(64, return_sequences=True)))\n",
    "\n",
    "model_glove.add(Conv1D(filters=64,           # How many filters to calculate.\n",
    "                 kernel_size=4,         # How many words to calculate per filter.\n",
    "                 padding='valid',       # Add padding? pre,or pos padd # pre padding at the end \n",
    "                 activation='relu',     # What activation to use?\n",
    "                 strides=2))\n",
    "model_glove.add(Conv1D(filters=64,           # How many filters to calculate.\n",
    "                 kernel_size=4,         # How many words to calculate per filter.\n",
    "                 padding='valid',       # Add padding? pre,or pos padd # pre padding at the end \n",
    "                 activation='relu',     # What activation to use?\n",
    "                 strides=2))\n",
    "model_glove.add(GlobalMaxPool1D())\n",
    "\n",
    "model_glove.add(Dense(64, activation='relu'))\n",
    "model_glove.add(Dropout(0.5))\n",
    "model_glove.add(Dense(1, activation='sigmoid'))\n",
    "model_glove.compile(loss='binary_crossentropy', optimizer='adam', metrics=['accuracy'])\n",
    "## Fit train data\n",
    "model_glove.fit(Xtraing, ytraing, validation_split=0.3, epochs=50, batch_size=32, verbose=1)"
   ]
  },
  {
   "cell_type": "code",
   "execution_count": null,
   "metadata": {
    "scrolled": true
   },
   "outputs": [],
   "source": [
    "model_glove.fit(Xtraing, ytraing, validation_split=0.3, epochs=50, batch_size=256, verbose=1)"
   ]
  },
  {
   "cell_type": "code",
   "execution_count": null,
   "metadata": {},
   "outputs": [],
   "source": [
    "loss_g2 = model_glove.history.history['loss']\n",
    "val_lossg2 = model_glove.history.history['val_loss']\n",
    "epochs_g2 = range(1, len(loss_g2) + 1)\n",
    "plt.figure(dpi=120)\n",
    "plt.plot(epochs_g2, loss_g2, 'bo', label='Training loss')\n",
    "plt.plot(epochs_g2, val_lossg2, 'b', label='Validation loss')\n",
    "plt.title('Training and validation loss')\n",
    "plt.xlabel('Epochs')\n",
    "plt.ylabel('Loss')\n",
    "plt.legend()\n",
    "plt.show()"
   ]
  },
  {
   "cell_type": "code",
   "execution_count": null,
   "metadata": {},
   "outputs": [],
   "source": [
    "modelk31g = Sequential()\n",
    "embedding_layerk31g = Embedding(len(embedding_glove),           # Words in the embedding.\n",
    "                            300,                           # Embedding dimension\n",
    "                            weights=[embedding_glove],    # The weights we just calculated\n",
    "                            input_length=88,              # The maximum number of words.\n",
    "                            trainable=False)               # To NOT recalculate weights!\n",
    "\n",
    "modelk31g.add(embedding_layerk31g)\n",
    "modelk31g.add(Dropout(0.6))\n",
    "# Now we add our graph model\n",
    "modelk31g.add(graph31)\n",
    "\n",
    "# Add a few layers\n",
    "\n",
    "modelk31g.add(Flatten())\n",
    "modelk31g.add(Dense(64, activation='relu'))\n",
    "modelk31g.add(Dropout(0.5))\n",
    "modelk31g.add(Dense(64, activation = 'relu'))\n",
    "modelk31g.add(Dropout(0.5))\n",
    "modelk31g.add(Dense(1))\n",
    "modelk31g.add(Dense(1, activation='sigmoid'))\n",
    "\n",
    "# adam = Adam(clipnorm=.1)\n",
    "modelk31g.compile(loss='binary_crossentropy',optimizer='adam',metrics=['acc'])"
   ]
  },
  {
   "cell_type": "code",
   "execution_count": null,
   "metadata": {},
   "outputs": [],
   "source": [
    "modelk31g.fit(Xtraing, ytraing, validation_split=0.3, epochs=100, batch_size=32, verbose=1)"
   ]
  },
  {
   "cell_type": "code",
   "execution_count": null,
   "metadata": {},
   "outputs": [],
   "source": [
    "modelk31g.summary()"
   ]
  },
  {
   "cell_type": "code",
   "execution_count": null,
   "metadata": {},
   "outputs": [],
   "source": [
    "lossk31g = modelk31g.history.history['loss']\n",
    "valk31g = modelk31g.history.history['val_loss']\n",
    "epochsk31g = range(1, len(lossk31g) + 1)\n",
    "plt.figure(dpi=120)\n",
    "plt.plot(epochsk31g, lossk31g, 'bo', label='Training loss')\n",
    "plt.plot(epochsk31g, valk31g, 'b', label='Validation loss')\n",
    "plt.title('Training and validation loss')\n",
    "plt.xlabel('Epochs')\n",
    "plt.ylabel('Loss')\n",
    "plt.legend()\n",
    "plt.show()"
   ]
  },
  {
   "cell_type": "markdown",
   "metadata": {},
   "source": [
    "**Model that used kims model with 4 filters of size 4 and outside of this layer 3 dense layers were applied**"
   ]
  },
  {
   "cell_type": "code",
   "execution_count": null,
   "metadata": {},
   "outputs": [],
   "source": [
    "# Filter sizes to use.\n",
    "filter_sizes312 = (4,4,4,4)\n",
    "\n",
    "# Initialize.\n",
    "graph_in312 = Input(shape=(88, 300)) # will keep the input layer without any connections\n",
    "convs312 = []\n",
    "avgs312 = []\n",
    "\n",
    "# This for stacks the layers. Inside each for, we build the sequence of layer. The command \"append\" adds\n",
    "# that to the \"conv\" variable, which is simply a stack of convolutions.\n",
    "for fsz in filter_sizes312:\n",
    "    conv = Conv1D(filters=32,\n",
    "                  kernel_size=fsz,\n",
    "                         padding='valid',\n",
    "                         activation='relu',\n",
    "                         strides=2)(graph_in312) # Note the (graph_in). This means \"put this layer AFTER the graph_in layer.\n",
    "                         #max looking for the very best variable, \n",
    "    pool = MaxPooling1D(pool_size=fsz)(conv) # Put this layer AFTER the convolution just created.connnect to the con\n",
    "    #flattenMax = Flatten()(pool) # Flatten the pooling layer.\n",
    "    convs312.append(pool) # Append this to the convs object that saves the stack.\n",
    "    \n",
    "# Concatenate layers.\n",
    "if len(filter_sizes312)>1:\n",
    "    out = Concatenate()(convs312)\n",
    "else:\n",
    "    out = convs312[0]\n",
    "\n",
    "graph312 = Model(inputs=graph_in312, outputs=out, name=\"graphModel\")\n",
    "\n",
    "graph312.summary()"
   ]
  },
  {
   "cell_type": "code",
   "execution_count": null,
   "metadata": {},
   "outputs": [],
   "source": [
    "modelk312g = Sequential()\n",
    "embedding_layerk312g = Embedding(len(embedding_glove),           # Words in the embedding.\n",
    "                            300,                           # Embedding dimension\n",
    "                            weights=[embedding_glove],    # The weights we just calculated\n",
    "                            input_length=88,              # The maximum number of words.\n",
    "                            trainable=False)               # To NOT recalculate weights!\n",
    "\n",
    "modelk312g.add(embedding_layerk312g)\n",
    "modelk312g.add(Dropout(0.6))\n",
    "# Now we add our graph model\n",
    "modelk312g.add(graph312)\n",
    "\n",
    "# Add a few layers\n",
    "\n",
    "modelk312g.add(Flatten())\n",
    "modelk312g.add(Dense(64, activation='relu'))\n",
    "modelk312g.add(Dropout(0.5))\n",
    "modelk312g.add(Dense(64, activation='relu'))\n",
    "modelk312g.add(Dropout(0.5))\n",
    "modelk312g.add(Dense(64, activation = 'relu'))\n",
    "modelk312g.add(Dropout(0.5))\n",
    "modelk312g.add(Dense(1))\n",
    "modelk312g.add(Dense(1, activation='sigmoid'))\n",
    "\n",
    "# adam = Adam(clipnorm=.1)\n",
    "modelk312g.compile(loss='binary_crossentropy',optimizer='adam',metrics=['acc'])"
   ]
  },
  {
   "cell_type": "code",
   "execution_count": null,
   "metadata": {},
   "outputs": [],
   "source": [
    "modelk312g.fit(Xtraing, ytraing, validation_split=0.3, epochs=50, batch_size=32, verbose=1)"
   ]
  },
  {
   "cell_type": "code",
   "execution_count": null,
   "metadata": {},
   "outputs": [],
   "source": [
    "lossk312g = modelk312g.history.history['loss']\n",
    "valk312g = modelk312g.history.history['val_loss']\n",
    "epochsk312g = range(1, len(lossk312g) + 1)\n",
    "plt.figure(dpi=120)\n",
    "plt.plot(epochsk312g, lossk312g, 'bo', label='Training loss')\n",
    "plt.plot(epochsk312g, valk312g, 'b', label='Validation loss')\n",
    "plt.title('Training and validation loss')\n",
    "plt.xlabel('Epochs')\n",
    "plt.ylabel('Loss')\n",
    "plt.legend()\n",
    "plt.show()"
   ]
  },
  {
   "cell_type": "markdown",
   "metadata": {},
   "source": [
    "**Bidirectional Model with only 1 Convolutional Layer**"
   ]
  },
  {
   "cell_type": "code",
   "execution_count": null,
   "metadata": {},
   "outputs": [],
   "source": [
    "# Model using Bidirectional with only one convolutional layer\n",
    "model_glove = Sequential()\n",
    "embedding_layerg = Embedding(len(embedding_glove),           # Words in the embedding.\n",
    "                            300,                           # Embedding dimension\n",
    "                            weights=[embedding_glove],    # The weights we just calculated\n",
    "                            input_length=88,              # The maximum number of words.\n",
    "                            trainable=False)               # To NOT recalculate weights!\n",
    "\n",
    "model_glove.add(embedding_layerg)\n",
    "model_glove.add(Dropout(0.5))\n",
    "\n",
    "model_glove.add(Bidirectional(GRU(64, return_sequences=True)))\n",
    "\n",
    "model_glove.add(Conv1D(filters=64,           # How many filters to calculate.\n",
    "                 kernel_size=4,         # How many words to calculate per filter.\n",
    "                 padding='valid',       # Add padding? pre,or pos padd # pre padding at the end \n",
    "                 activation='relu',     # What activation to use?\n",
    "                 strides=2))\n",
    "model_glove.add(GlobalMaxPool1D())\n",
    "\n",
    "model_glove.add(Dense(64, activation='relu'))\n",
    "model_glove.add(Dropout(0.5))\n",
    "model_glove.add(Dense(1, activation='sigmoid'))\n",
    "model_glove.compile(loss='binary_crossentropy', optimizer='adam', metrics=['accuracy'])\n",
    "## Fit train data\n"
   ]
  },
  {
   "cell_type": "code",
   "execution_count": null,
   "metadata": {},
   "outputs": [],
   "source": [
    "lossk31g2 = modelk31g2.history.history['loss']\n",
    "valk31g2 = modelk31g2.history.history['val_loss']\n",
    "epochsk31g2 = range(1, len(lossk31g2) + 1)\n",
    "plt.figure(dpi=120)\n",
    "plt.plot(epochsk31g2, lossk31g2, 'bo', label='Training loss')\n",
    "plt.plot(epochsk31g2, valk31g2, 'b', label='Validation loss')\n",
    "plt.title('Training and validation loss')\n",
    "plt.xlabel('Epochs')\n",
    "plt.ylabel('Loss')\n",
    "plt.legend()\n",
    "plt.show()"
   ]
  }
 ],
 "metadata": {
  "kernelspec": {
   "display_name": "Python 3",
   "language": "python",
   "name": "python3"
  },
  "language_info": {
   "codemirror_mode": {
    "name": "ipython",
    "version": 3
   },
   "file_extension": ".py",
   "mimetype": "text/x-python",
   "name": "python",
   "nbconvert_exporter": "python",
   "pygments_lexer": "ipython3",
   "version": "3.7.4"
  }
 },
 "nbformat": 4,
 "nbformat_minor": 2
}
