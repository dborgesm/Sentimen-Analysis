{
  "nbformat": 4,
  "nbformat_minor": 0,
  "metadata": {
    "colab": {
      "name": "Data preprocessing and Embeddings.ipynb",
      "provenance": [],
      "collapsed_sections": [],
      "include_colab_link": true
    },
    "kernelspec": {
      "name": "python3",
      "display_name": "Python 3"
    },
    "accelerator": "GPU"
  },
  "cells": [
    {
      "cell_type": "markdown",
      "metadata": {
        "id": "view-in-github",
        "colab_type": "text"
      },
      "source": [
        "<a href=\"https://colab.research.google.com/github/dborgesm/Sentiment-Analysis/blob/master/Data_preprocessing_and_Embeddings.ipynb\" target=\"_parent\"><img src=\"https://colab.research.google.com/assets/colab-badge.svg\" alt=\"Open In Colab\"/></a>"
      ]
    },
    {
      "cell_type": "markdown",
      "metadata": {
        "id": "RQRQb6R7n-n6",
        "colab_type": "text"
      },
      "source": [
        "# Data preprocessing"
      ]
    },
    {
      "cell_type": "code",
      "metadata": {
        "id": "TTWmEb9a8cuI",
        "colab_type": "code",
        "outputId": "1811428b-faa3-49de-837b-ef70e8ed1dc0",
        "colab": {
          "base_uri": "https://localhost:8080/",
          "height": 147
        }
      },
      "source": [
        "%tensorflow_version 2.x\n",
        "# General imports\n",
        "import string\n",
        "import numpy as np\n",
        "import pandas as pd\n",
        "import sklearn.feature_extraction as skprep\n",
        "from sklearn.metrics import roc_curve, auc\n",
        "import matplotlib.pyplot as plt\n",
        "from itertools import compress\n",
        "import seaborn as sns\n",
        "import random\n",
        "random.seed(251082976)\n",
        "%matplotlib inline\n",
        "\n",
        "# Keras imports\n",
        "import tensorflow as tf\n",
        "import tensorflow.keras as keras\n",
        "from tensorflow.keras.utils import to_categorical\n",
        "from tensorflow.keras.models import Sequential, Model\n",
        "from tensorflow.keras.layers import Input, Embedding, Reshape, MaxPooling1D\n",
        "from tensorflow.keras.layers import Activation\n",
        "from tensorflow.keras.layers import Flatten, Dense, Dropout, Lambda\n",
        "from tensorflow.keras.layers import BatchNormalization\n",
        "from tensorflow.keras.optimizers import SGD, RMSprop, Adam\n",
        "from tensorflow.keras.metrics import categorical_crossentropy, categorical_accuracy\n",
        "from tensorflow.keras.layers import *\n",
        "from tensorflow.keras.preprocessing import image, sequence\n",
        "from tensorflow.keras.preprocessing.text import Tokenizer\n",
        "from tensorflow.keras.preprocessing.sequence import pad_sequences\n",
        "\n",
        "#Lemmatizer libraries\n",
        "import nltk\n",
        "nltk.download('wordnet')\n",
        "from nltk.stem import WordNetLemmatizer\n",
        "wordnet_lemmatizer = WordNetLemmatizer()\n",
        "from nltk.tokenize import word_tokenize\n",
        "nltk.download('punkt')\n",
        "from nltk.corpus import stopwords\n",
        "nltk.download('stopwords')\n"
      ],
      "execution_count": 0,
      "outputs": [
        {
          "output_type": "stream",
          "text": [
            "TensorFlow 2.x selected.\n",
            "[nltk_data] Downloading package wordnet to /root/nltk_data...\n",
            "[nltk_data]   Unzipping corpora/wordnet.zip.\n",
            "[nltk_data] Downloading package punkt to /root/nltk_data...\n",
            "[nltk_data]   Unzipping tokenizers/punkt.zip.\n",
            "[nltk_data] Downloading package stopwords to /root/nltk_data...\n",
            "[nltk_data]   Unzipping corpora/stopwords.zip.\n"
          ],
          "name": "stdout"
        },
        {
          "output_type": "execute_result",
          "data": {
            "text/plain": [
              "True"
            ]
          },
          "metadata": {
            "tags": []
          },
          "execution_count": 1
        }
      ]
    },
    {
      "cell_type": "code",
      "metadata": {
        "id": "3ulHmBHBAzli",
        "colab_type": "code",
        "outputId": "0d0d400f-30e8-46be-cbad-db5400ca1639",
        "colab": {
          "base_uri": "https://localhost:8080/",
          "height": 82
        }
      },
      "source": [
        "!gdown https://drive.google.com/uc?id=1Yh50gZOHTISHj6GPhaV1uGzZGtmPZyR6\n"
      ],
      "execution_count": 0,
      "outputs": [
        {
          "output_type": "stream",
          "text": [
            "Downloading...\n",
            "From: https://drive.google.com/uc?id=1Yh50gZOHTISHj6GPhaV1uGzZGtmPZyR6\n",
            "To: /content/Full_Data.csv\n",
            "38.4MB [00:00, 122MB/s] \n"
          ],
          "name": "stdout"
        }
      ]
    },
    {
      "cell_type": "code",
      "metadata": {
        "id": "C2YZwcTdA9p6",
        "colab_type": "code",
        "colab": {}
      },
      "source": [
        "# Reading the data set\n",
        "data = pd.read_csv('/content/Full_Data.csv', encoding=\"Latin-1\")"
      ],
      "execution_count": 0,
      "outputs": []
    },
    {
      "cell_type": "code",
      "metadata": {
        "id": "yVCkEK1BQIYQ",
        "colab_type": "code",
        "colab": {}
      },
      "source": [
        "data.head()"
      ],
      "execution_count": 0,
      "outputs": []
    },
    {
      "cell_type": "code",
      "metadata": {
        "id": "Zb6EwLs72a-A",
        "colab_type": "code",
        "outputId": "693c82ef-80b7-4a08-fb11-db953363bc97",
        "colab": {
          "base_uri": "https://localhost:8080/",
          "height": 34
        }
      },
      "source": [
        "data.shape"
      ],
      "execution_count": 0,
      "outputs": [
        {
          "output_type": "execute_result",
          "data": {
            "text/plain": [
              "(204058, 3)"
            ]
          },
          "metadata": {
            "tags": []
          },
          "execution_count": 6
        }
      ]
    },
    {
      "cell_type": "markdown",
      "metadata": {
        "id": "a3-Bgn-hD41G",
        "colab_type": "text"
      },
      "source": [
        "**The confidence parameter was going to be helpful to determine how strong is the sentiment for each case (strongly positve, neutral positive, weakly positive and so fort). I will be removing the sentences where the confidence level is less than 0 they do not capture the sentiment of the reviewers.**\n",
        "\n",
        "**Also, there are many values where the confidence where above 1, this cases mean that the person is really confidence about the postive or negative sentiment. It was assumed that the values greater than 1 were humans errors, hence they were converted to percentage instead.**"
      ]
    },
    {
      "cell_type": "code",
      "metadata": {
        "id": "yLx-RA-jAdqm",
        "colab_type": "code",
        "colab": {}
      },
      "source": [
        "def new_confidence(x):\n",
        "  if x > 1: \n",
        "    return x/100\n",
        "  else: \n",
        "    return x"
      ],
      "execution_count": 0,
      "outputs": []
    },
    {
      "cell_type": "code",
      "metadata": {
        "id": "raRIetawAwk0",
        "colab_type": "code",
        "colab": {}
      },
      "source": [
        "data['new_confidence'] = data.apply(lambda x: new_confidence(x['confidence']), axis =1)"
      ],
      "execution_count": 0,
      "outputs": []
    },
    {
      "cell_type": "code",
      "metadata": {
        "id": "GqM1eJXFBQc7",
        "colab_type": "code",
        "outputId": "ae656b1c-26ba-46e4-bb8a-5363519af705",
        "colab": {
          "base_uri": "https://localhost:8080/",
          "height": 295
        }
      },
      "source": [
        "sns.distplot(data[\"confidence\"])"
      ],
      "execution_count": 0,
      "outputs": [
        {
          "output_type": "execute_result",
          "data": {
            "text/plain": [
              "<matplotlib.axes._subplots.AxesSubplot at 0x7faedd85be80>"
            ]
          },
          "metadata": {
            "tags": []
          },
          "execution_count": 15
        },
        {
          "output_type": "display_data",
          "data": {
            "image/png": "[encoded data removed]",
            "text/plain": [
              "<Figure size 432x288 with 1 Axes>"
            ]
          },
          "metadata": {
            "tags": []
          }
        }
      ]
    },
    {
      "cell_type": "code",
      "metadata": {
        "id": "mxHwA07tBFCk",
        "colab_type": "code",
        "outputId": "4b008c90-a178-4777-c9a7-7c20856defbd",
        "colab": {
          "base_uri": "https://localhost:8080/",
          "height": 296
        }
      },
      "source": [
        "sns.distplot(data[\"new_confidence\"], kde=False)"
      ],
      "execution_count": 0,
      "outputs": [
        {
          "output_type": "execute_result",
          "data": {
            "text/plain": [
              "<matplotlib.axes._subplots.AxesSubplot at 0x7faedae0ec18>"
            ]
          },
          "metadata": {
            "tags": []
          },
          "execution_count": 13
        },
        {
          "output_type": "display_data",
          "data": {
            "image/png": "[encoded data removed]",
            "text/plain": [
              "<Figure size 432x288 with 1 Axes>"
            ]
          },
          "metadata": {
            "tags": []
          }
        }
      ]
    },
    {
      "cell_type": "code",
      "metadata": {
        "colab_type": "code",
        "id": "_hGB3PlxX8z3",
        "colab": {}
      },
      "source": [
        "data = data.loc[(data.new_confidence > 0.1)]"
      ],
      "execution_count": 0,
      "outputs": []
    },
    {
      "cell_type": "code",
      "metadata": {
        "colab_type": "code",
        "outputId": "14d06912-8360-4224-bc64-d23df3561e98",
        "id": "X4RU9cTPX6hN",
        "colab": {
          "base_uri": "https://localhost:8080/",
          "height": 296
        }
      },
      "source": [
        "sns.distplot(data[\"new_confidence\"], kde=False)"
      ],
      "execution_count": 0,
      "outputs": [
        {
          "output_type": "execute_result",
          "data": {
            "text/plain": [
              "<matplotlib.axes._subplots.AxesSubplot at 0x7faeda6fe828>"
            ]
          },
          "metadata": {
            "tags": []
          },
          "execution_count": 19
        },
        {
          "output_type": "display_data",
          "data": {
            "image/png": "[encoded data removed]",
            "text/plain": [
              "<Figure size 432x288 with 1 Axes>"
            ]
          },
          "metadata": {
            "tags": []
          }
        }
      ]
    },
    {
      "cell_type": "code",
      "metadata": {
        "id": "r24p2BEUG61V",
        "colab_type": "code",
        "outputId": "88f8f442-b935-418b-cd4c-fa1d1dc85f1c",
        "colab": {
          "base_uri": "https://localhost:8080/",
          "height": 66
        }
      },
      "source": [
        "data.new_confidence.value_counts(bins=2)"
      ],
      "execution_count": 0,
      "outputs": [
        {
          "output_type": "execute_result",
          "data": {
            "text/plain": [
              "(-0.002, 0.5]    149194\n",
              "(0.5, 1.0]        54864\n",
              "Name: new_confidence, dtype: int64"
            ]
          },
          "metadata": {
            "tags": []
          },
          "execution_count": 17
        }
      ]
    },
    {
      "cell_type": "markdown",
      "metadata": {
        "id": "wNBCwiQrIjPz",
        "colab_type": "text"
      },
      "source": [
        "**The confidence parameter was going to be helpful to determine how strong is the sentiment for each case (strongly positve, neutral positive, weakly positive and so fort). However after normalization, most of the values are weakly positve (less than 0.5). Also will be removing the sentences where the confidence level is less than 0.001 they do not capture the sentiment of the reviewers.**"
      ]
    },
    {
      "cell_type": "code",
      "metadata": {
        "id": "THZZGV95Epup",
        "colab_type": "code",
        "colab": {}
      },
      "source": [
        "from bs4 import BeautifulSoup\n",
        "import re\n",
        "import itertools\n",
        "#import emoji"
      ],
      "execution_count": 0,
      "outputs": []
    },
    {
      "cell_type": "code",
      "metadata": {
        "id": "Ta8Gmd__P8AI",
        "colab_type": "code",
        "outputId": "8c65ed1d-6e0f-4b94-cd70-5440b5fe76a0",
        "colab": {
          "base_uri": "https://localhost:8080/",
          "height": 54
        }
      },
      "source": [
        "data['pre_clean_len'] = [len(t) for t in data.text]\n",
        "from pprint import pprint\n",
        "data_dict = {\n",
        "    'sentiment':{\n",
        "        'type':data.sentiment.dtype,\n",
        "        'description':'sentiment class - 0:negative, 1:positive'\n",
        "    },\n",
        "    'text':{\n",
        "        'type':data.text.dtype,\n",
        "        'description':'sentence text'\n",
        "    },\n",
        "    'pre_clean_len':{\n",
        "        'type':data.pre_clean_len.dtype,\n",
        "        'description':'Length of the sentence before cleaning'\n",
        "    },\n",
        "    'dataset_shape':data.shape\n",
        "}\n",
        "\n",
        "print(data_dict)"
      ],
      "execution_count": 0,
      "outputs": [
        {
          "output_type": "stream",
          "text": [
            "{'sentiment': {'type': dtype('int64'), 'description': 'sentiment class - 0:negative, 1:positive'}, 'text': {'type': dtype('O'), 'description': 'sentence text'}, 'pre_clean_len': {'type': dtype('int64'), 'description': 'Length of the sentence before cleaning'}, 'dataset_shape': (181538, 5)}\n"
          ],
          "name": "stdout"
        }
      ]
    },
    {
      "cell_type": "code",
      "metadata": {
        "id": "KuopoaNqQmXQ",
        "colab_type": "code",
        "outputId": "edbba62f-c827-47fb-e0f4-1c921d609d94",
        "colab": {
          "base_uri": "https://localhost:8080/",
          "height": 320
        }
      },
      "source": [
        "fig, ax = plt.subplots(figsize=(5, 5))\n",
        "plt.boxplot(data.pre_clean_len)\n",
        "plt.show()"
      ],
      "execution_count": 0,
      "outputs": [
        {
          "output_type": "display_data",
          "data": {
            "image/png": "[encoded data removed]",
            "text/plain": [
              "<Figure size 360x360 with 1 Axes>"
            ]
          },
          "metadata": {
            "tags": []
          }
        }
      ]
    },
    {
      "cell_type": "code",
      "metadata": {
        "id": "2eIYFfTyQPnr",
        "colab_type": "code",
        "colab": {}
      },
      "source": [
        "data['pre_word_num'] = [len(t.split()) for t in data.text]"
      ],
      "execution_count": 0,
      "outputs": []
    },
    {
      "cell_type": "code",
      "metadata": {
        "id": "jPgiXxisQWyU",
        "colab_type": "code",
        "outputId": "640e6e04-cf4f-4692-bae6-dc014484f6bb",
        "colab": {
          "base_uri": "https://localhost:8080/",
          "height": 320
        }
      },
      "source": [
        "fig, ax = plt.subplots(figsize=(5, 5))\n",
        "plt.boxplot(data.pre_word_num)\n",
        "plt.show()"
      ],
      "execution_count": 0,
      "outputs": [
        {
          "output_type": "display_data",
          "data": {
            "image/png": "[encoded data removed]",
            "text/plain": [
              "<Figure size 360x360 with 1 Axes>"
            ]
          },
          "metadata": {
            "tags": []
          }
        }
      ]
    },
    {
      "cell_type": "markdown",
      "metadata": {
        "id": "ITJZP3FUODtD",
        "colab_type": "text"
      },
      "source": [
        "**There are some reviews that do not contain important information for the model (words less than 4), for example CSS, itai. Hence these records  will be removed.**"
      ]
    },
    {
      "cell_type": "code",
      "metadata": {
        "id": "AsYp1Ds5Qv2Z",
        "colab_type": "code",
        "colab": {}
      },
      "source": [
        "data = data[data.pre_clean_len > 4]\n",
        "data.reset_index(inplace=True)"
      ],
      "execution_count": 0,
      "outputs": []
    },
    {
      "cell_type": "code",
      "metadata": {
        "id": "1fdLrkcBSyy0",
        "colab_type": "code",
        "outputId": "0732801e-5ce3-4c29-ce16-13a629aa3c51",
        "colab": {
          "base_uri": "https://localhost:8080/",
          "height": 170
        }
      },
      "source": [
        "data.pre_clean_len.describe()"
      ],
      "execution_count": 0,
      "outputs": [
        {
          "output_type": "execute_result",
          "data": {
            "text/plain": [
              "count    181516.000000\n",
              "mean        178.797742\n",
              "std         163.652889\n",
              "min           5.000000\n",
              "25%          74.000000\n",
              "50%         134.000000\n",
              "75%         233.000000\n",
              "max        8999.000000\n",
              "Name: pre_clean_len, dtype: float64"
            ]
          },
          "metadata": {
            "tags": []
          },
          "execution_count": 21
        }
      ]
    },
    {
      "cell_type": "markdown",
      "metadata": {
        "id": "WvRf1ojIvwaS",
        "colab_type": "text"
      },
      "source": [
        "**Finding how many sentences have url links**\n",
        "\n"
      ]
    },
    {
      "cell_type": "code",
      "metadata": {
        "id": "wy9awSBevMH8",
        "colab_type": "code",
        "colab": {}
      },
      "source": [
        "counter = 0\n",
        "for s in data.text:\n",
        "  c = re.findall(r'(\\w+:\\/\\/\\S+)',s)\n",
        "  if c != []:\n",
        "    counter=counter+1"
      ],
      "execution_count": 0,
      "outputs": []
    },
    {
      "cell_type": "code",
      "metadata": {
        "id": "44n7W0TTvd1U",
        "colab_type": "code",
        "outputId": "6f651946-1454-4ecf-8eff-e19b1adb6cd3",
        "colab": {
          "base_uri": "https://localhost:8080/",
          "height": 35
        }
      },
      "source": [
        "counter"
      ],
      "execution_count": 0,
      "outputs": [
        {
          "output_type": "execute_result",
          "data": {
            "text/plain": [
              "5078"
            ]
          },
          "metadata": {
            "tags": []
          },
          "execution_count": 14
        }
      ]
    },
    {
      "cell_type": "markdown",
      "metadata": {
        "id": "tiikUCCuv36f",
        "colab_type": "text"
      },
      "source": [
        "**There are only 5078 sentences with urls meaning that including them in the data won't be necessary.**"
      ]
    },
    {
      "cell_type": "markdown",
      "metadata": {
        "id": "xtsDvhGpsB02",
        "colab_type": "text"
      },
      "source": [
        "Steps for data preprocessing:\n",
        "\n",
        "- Setting all sentence to lower case\n",
        "- Removing websites\n",
        "- Removing of punctuation\n",
        "- Labeling emojis\n",
        "- Removing character removal\n",
        "- Replacing contractions\n",
        "-"
      ]
    },
    {
      "cell_type": "code",
      "metadata": {
        "id": "IgW1frSNETow",
        "colab_type": "code",
        "colab": {}
      },
      "source": [
        "def load_dict_smileys():\n",
        "    \n",
        "    return {\n",
        "        \"; )\":\"smiley\",\n",
        "        \";)\":\"smiley\",\n",
        "        \";D\":\"smiley\",\n",
        "        \"; D\":\"smiley\",\n",
        "        \":-)\":\"smiley\",\n",
        "        \": )\":\"smiley\",\n",
        "        \":‑)\":\"smiley\",\n",
        "        \":-]\":\"smiley\",\n",
        "        \":-3\":\"smiley\",\n",
        "        \":->\":\"smiley\",\n",
        "        \"8-)\":\"smiley\",\n",
        "        \":-}\":\"smiley\",\n",
        "        \":)\":\"smiley\",\n",
        "        \":]\":\"smiley\",\n",
        "        \":3\":\"smiley\",\n",
        "        \":>\":\"smiley\",\n",
        "        \"8)\":\"smiley\",\n",
        "        \":}\":\"smiley\",\n",
        "        \":o)\":\"smiley\",\n",
        "        \":c)\":\"smiley\",\n",
        "        \":^)\":\"smiley\",\n",
        "        \"=]\":\"smiley\",\n",
        "        \"=)\":\"smiley\",\n",
        "        \":-))\":\"smiley\",\n",
        "        \":‑D\":\"smiley\",\n",
        "        \"8‑D\":\"smiley\",\n",
        "        \"x‑D\":\"smiley\",\n",
        "        \"X‑D\":\"smiley\",\n",
        "        \": D\":\"smiley\",\n",
        "        \":D\":\"smiley\",\n",
        "        \"8D\":\"smiley\",\n",
        "        \"xD\":\"smiley\",\n",
        "        \"XD\":\"smiley\",\n",
        "        \": (\":\"sad\",\n",
        "        \":,(\":\"sad\",\n",
        "        \":‑(\":\"sad\",\n",
        "        \":‑c\":\"sad\",\n",
        "        \":‑<\":\"sad\",\n",
        "        \":‑[\":\"sad\",\n",
        "        \":(\":\"sad\",\n",
        "        \":c\":\"sad\",\n",
        "        \":<\":\"sad\",\n",
        "        \":[\":\"sad\",\n",
        "        \":-||\":\"sad\",\n",
        "        \">:[\":\"sad\",\n",
        "        \":{\":\"sad\",\n",
        "        \":@\":\"sad\",\n",
        "        \">:(\":\"sad\",\n",
        "        \":'‑(\":\"sad\",\n",
        "        \":'(\":\"sad\",\n",
        "        \":‑P\":\"playful\",\n",
        "        \"X‑P\":\"playful\",\n",
        "        \"x‑p\":\"playful\",\n",
        "        \":‑p\":\"playful\",\n",
        "        \":‑Þ\":\"playful\",\n",
        "        \":‑þ\":\"playful\",\n",
        "        \":‑b\":\"playful\",\n",
        "        \":P\":\"playful\",\n",
        "        \"XP\":\"playful\",\n",
        "        \"xp\":\"playful\",\n",
        "        \":p\":\"playful\",\n",
        "        \":Þ\":\"playful\",\n",
        "        \":þ\":\"playful\",\n",
        "        \":b\":\"playful\",\n",
        "        \"<3\":\"love\",\n",
        "        \"< 3\":\"love\"\n",
        "        }\n",
        "\n",
        "\n",
        "def load_dict_contractions():\n",
        "    \n",
        "    return {\n",
        "        \"ain't\":\"is not\",\n",
        "        \"amn't\":\"am not\",\n",
        "        \"aren't\":\"are not\",\n",
        "        \"can't\":\"cannot\",\n",
        "        \"'cause\":\"because\",\n",
        "        \"couldn't\":\"could not\",\n",
        "        \"couldn't've\":\"could not have\",\n",
        "        \"could've\":\"could have\",\n",
        "        \"daren't\":\"dare not\",\n",
        "        \"daresn't\":\"dare not\",\n",
        "        \"dasn't\":\"dare not\",\n",
        "        \"didn't\":\"did not\",\n",
        "        \"doesn't\":\"does not\",\n",
        "        \"don't\":\"do not\",\n",
        "        \"e'er\":\"ever\",\n",
        "        \"em\":\"them\",\n",
        "        \"everyone's\":\"everyone is\",\n",
        "        \"finna\":\"fixing to\",\n",
        "        \"gimme\":\"give me\",\n",
        "        \"gonna\":\"going to\",\n",
        "        \"gon't\":\"go not\",\n",
        "        \"gotta\":\"got to\",\n",
        "        \"hadn't\":\"had not\",\n",
        "        \"hasn't\":\"has not\",\n",
        "        \"haven't\":\"have not\",\n",
        "        \"he'd\":\"he would\",\n",
        "        \"he'll\":\"he will\",\n",
        "        \"he's\":\"he is\",\n",
        "        \"he've\":\"he have\",\n",
        "        \"how'd\":\"how would\",\n",
        "        \"how'll\":\"how will\",\n",
        "        \"how're\":\"how are\",\n",
        "        \"how's\":\"how is\",\n",
        "        \"i'd\":\"i would\",\n",
        "        \"i'll\":\"i will\",\n",
        "        \"i'm\":\"i am\",\n",
        "        \"i'm'a\":\"i am about to\",\n",
        "        \"i'm'o\":\"i am going to\",\n",
        "        \"isn't\":\"is not\",\n",
        "        \"it'd\":\"it would\",\n",
        "        \"it'll\":\"it will\",\n",
        "        \"it's\":\"it is\",\n",
        "        \"i've\":\"i have\",\n",
        "        \"kinda\":\"kind of\",\n",
        "        \"let's\":\"let us\",\n",
        "        \"mayn't\":\"may not\",\n",
        "        \"may've\":\"may have\",\n",
        "        \"mightn't\":\"might not\",\n",
        "        \"might've\":\"might have\",\n",
        "        \"mustn't\":\"must not\",\n",
        "        \"mustn't've\":\"must not have\",\n",
        "        \"must've\":\"must have\",\n",
        "        \"needn't\":\"need not\",\n",
        "        \"ne'er\":\"never\",\n",
        "        \"o'\":\"of\",\n",
        "        \"o'er\":\"over\",\n",
        "        \"ol'\":\"old\",\n",
        "        \"oughtn't\":\"ought not\",\n",
        "        \"shalln't\":\"shall not\",\n",
        "        \"shan't\":\"shall not\",\n",
        "        \"she'd\":\"she would\",\n",
        "        \"she'll\":\"she will\",\n",
        "        \"she's\":\"she is\",\n",
        "        \"shouldn't\":\"should not\",\n",
        "        \"shouldn't've\":\"should not have\",\n",
        "        \"should've\":\"should have\",\n",
        "        \"somebody's\":\"somebody is\",\n",
        "        \"someone's\":\"someone is\",\n",
        "        \"something's\":\"something is\",\n",
        "        \"that'd\":\"that would\",\n",
        "        \"that'll\":\"that will\",\n",
        "        \"that're\":\"that are\",\n",
        "        \"that's\":\"that is\",\n",
        "        \"there'd\":\"there would\",\n",
        "        \"there'll\":\"there will\",\n",
        "        \"there're\":\"there are\",\n",
        "        \"there's\":\"there is\",\n",
        "        \"these're\":\"these are\",\n",
        "        \"they'd\":\"they would\",\n",
        "        \"they'll\":\"they will\",\n",
        "        \"they're\":\"they are\",\n",
        "        \"they've\":\"they have\",\n",
        "        \"this's\":\"this is\",\n",
        "        \"those're\":\"those are\",\n",
        "        \"'tis\":\"it is\",\n",
        "        \"'twas\":\"it was\",\n",
        "        \"wanna\":\"want to\",\n",
        "        \"wasn't\":\"was not\",\n",
        "        \"we'd\":\"we would\",\n",
        "        \"we'd've\":\"we would have\",\n",
        "        \"we'll\":\"we will\",\n",
        "        \"we're\":\"we are\",\n",
        "        \"weren't\":\"were not\",\n",
        "        \"we've\":\"we have\",\n",
        "        \"what'd\":\"what did\",\n",
        "        \"what'll\":\"what will\",\n",
        "        \"what're\":\"what are\",\n",
        "        \"what's\":\"what is\",\n",
        "        \"what've\":\"what have\",\n",
        "        \"when's\":\"when is\",\n",
        "        \"where'd\":\"where did\",\n",
        "        \"where're\":\"where are\",\n",
        "        \"where's\":\"where is\",\n",
        "        \"where've\":\"where have\",\n",
        "        \"which's\":\"which is\",\n",
        "        \"who'd\":\"who would\",\n",
        "        \"who'd've\":\"who would have\",\n",
        "        \"who'll\":\"who will\",\n",
        "        \"who're\":\"who are\",\n",
        "        \"who's\":\"who is\",\n",
        "        \"who've\":\"who have\",\n",
        "        \"why'd\":\"why did\",\n",
        "        \"why're\":\"why are\",\n",
        "        \"why's\":\"why is\",\n",
        "        \"won't\":\"will not\",\n",
        "        \"wouldn't\":\"would not\",\n",
        "        \"would've\":\"would have\",\n",
        "        \"y'all\":\"you all\",\n",
        "        \"you'd\":\"you would\",\n",
        "        \"you'll\":\"you will\",\n",
        "        \"you're\":\"you are\",\n",
        "        \"you've\":\"you have\",\n",
        "        \"whatcha\":\"what are you\",\n",
        "        \"luv\":\"love\",\n",
        "        \"sux\":\"sucks\",\n",
        "        \"nd\":\"and\"\n",
        "        }\n",
        "\n",
        "def data_cleaning(sentence):    \n",
        "    \n",
        "    #Escaping HTML characters\n",
        "    sentence = BeautifulSoup(sentence).get_text()\n",
        "    #Special case not handled previously.\n",
        "    sentence = sentence.replace('\\x92',\"'\")\n",
        "    #Removing url\n",
        "    sentence = re.sub('https?://[A-Za-z0-9./]+','',sentence)\n",
        "    #Removal of hastags/account\n",
        "    SMILEY = load_dict_smileys()  \n",
        "    words = sentence.split()\n",
        "    reformed = [SMILEY[word] if word in SMILEY.keys() else word for word in words]\n",
        "    sentence = \" \".join(reformed)\n",
        "    #Removal of hastags/account\n",
        "    sentence = ' '.join(re.sub(\"(@[A-Za-z0-9]+)|(#[A-Za-z0-9]+)\", \" \", sentence).split())\n",
        "    #Removal of address\n",
        "    sentence = ' '.join(re.sub(\"(\\w+:\\/\\/\\S+)\", \" \", sentence).split())\n",
        "    #Removal of Punctuation\n",
        "    sentence = ' '.join(re.sub(\"[\\.\\,\\!\\?\\:\\;\\-\\=\\@]\", \" \", sentence).split())\n",
        "    #Lower case\n",
        "    sentence = sentence.lower()\n",
        "\n",
        "    #CONTRACTIONS source: https://en.wikipedia.org/wiki/Contraction_%28grammar%29\n",
        "    CONTRACTIONS = load_dict_contractions()\n",
        "    sentence = sentence.replace(\"’\",\"'\")\n",
        "    words = sentence.split()\n",
        "    reformed = [CONTRACTIONS[word] if word in CONTRACTIONS else word for word in words]\n",
        "    sentence = \" \".join(reformed)\n",
        "    # Standardizing words\n",
        "    sentence = ''.join(''.join(s)[:2] for _, s in itertools.groupby(sentence))\n",
        "\n",
        "    sentence = re.sub('[^a-zA-Z]', ' ', sentence)\n",
        "\n",
        "    # Removing numbers\n",
        "    sentence = re.sub(r'\\d+','',sentence)\n",
        "    # Single character removal\n",
        "    sentence = re.sub(r\"\\s+[a-zA-Z]\\s+\", ' ', sentence)\n",
        "\n",
        "    # Removing multiple spaces\n",
        "    sentence = re.sub(r'\\s+', ' ', sentence)\n",
        "\n",
        "    sentence = sentence.strip()\n",
        "    # DO NOT REMOVE STOP WORDS FOR SENTIMENT ANALYSIS - OR AT LEAST NOT NEGATIVE ONES\n",
        "\n",
        "    return sentence"
      ],
      "execution_count": 0,
      "outputs": []
    },
    {
      "cell_type": "code",
      "metadata": {
        "id": "jqcEY8ciR_HC",
        "colab_type": "code",
        "outputId": "02e38d05-35ef-4be8-d5b4-d40490942d54",
        "colab": {
          "base_uri": "https://localhost:8080/",
          "height": 275
        }
      },
      "source": [
        "# Cleaning the data\n",
        "data.text = data.apply(lambda x: data_cleaning(x['text']), axis=1 )"
      ],
      "execution_count": 0,
      "outputs": [
        {
          "output_type": "stream",
          "text": [
            "/usr/local/lib/python3.6/dist-packages/bs4/__init__.py:336: UserWarning: \"http://s205.photobucket.com/user/RByers91/media/EDC%20Related/fbb9a67d-b062-48d8-aa63-4200fdef267f.jpg.htmlâ¦\" looks like a URL. Beautiful Soup is not an HTTP client. You should probably use an HTTP client like requests to get the document behind the URL, and feed that document to Beautiful Soup.\n",
            "  ' that document to Beautiful Soup.' % decoded_markup\n",
            "/usr/local/lib/python3.6/dist-packages/bs4/__init__.py:336: UserWarning: \"https://forum.pjrc.com/threads/38029-Who-has-already-got-his-her-kickstarter-teensies-(international-shipping)\" looks like a URL. Beautiful Soup is not an HTTP client. You should probably use an HTTP client like requests to get the document behind the URL, and feed that document to Beautiful Soup.\n",
            "  ' that document to Beautiful Soup.' % decoded_markup\n",
            "/usr/local/lib/python3.6/dist-packages/bs4/__init__.py:336: UserWarning: \"https://twitter.com/holi_officialâ¦\n",
            "https://www.vocall.ai/\n",
            "https://medium.com/@Holi_Official/voice-assistant-and-health-assistant-cfdfd2492ebd\" looks like a URL. Beautiful Soup is not an HTTP client. You should probably use an HTTP client like requests to get the document behind the URL, and feed that document to Beautiful Soup.\n",
            "  ' that document to Beautiful Soup.' % decoded_markup\n",
            "/usr/local/lib/python3.6/dist-packages/pandas/core/generic.py:5208: SettingWithCopyWarning: \n",
            "A value is trying to be set on a copy of a slice from a DataFrame.\n",
            "Try using .loc[row_indexer,col_indexer] = value instead\n",
            "\n",
            "See the caveats in the documentation: http://pandas.pydata.org/pandas-docs/stable/user_guide/indexing.html#returning-a-view-versus-a-copy\n",
            "  self[name] = value\n"
          ],
          "name": "stderr"
        }
      ]
    },
    {
      "cell_type": "markdown",
      "metadata": {
        "id": "3OLmxCY1uTAv",
        "colab_type": "text"
      },
      "source": [
        "**Removing conjuctions and other words that do not add significant meaning**"
      ]
    },
    {
      "cell_type": "code",
      "metadata": {
        "id": "wR3b2td_5Dny",
        "colab_type": "code",
        "colab": {}
      },
      "source": [
        "stop_words_conj = {'for',\n",
        "              'and',\n",
        "              'nor',\n",
        "              'but',\n",
        "              'or',\n",
        "              'yet',\n",
        "              'so',\n",
        "              'after',\n",
        "              'although',\n",
        "              'as',\n",
        "              'as if',\n",
        "              'as long as',\n",
        "              'as much as',\n",
        "              'as soon as',\n",
        "              'as though',\n",
        "              'because', \n",
        "              'before', \n",
        "              'by the time', \n",
        "              'even if',\n",
        "              'even though',\n",
        "              'if', \n",
        "              'in order that',\n",
        "              'in case',\n",
        "              'lest',\n",
        "              'once',\n",
        "              'only if',\n",
        "              'since',\n",
        "              'so that',\n",
        "              'than',\n",
        "              'that',\n",
        "              'though',\n",
        "              'till',\n",
        "              'unless',\n",
        "              'until',\n",
        "              'what',\n",
        "              'when',\n",
        "              'whenever',\n",
        "              'where',\n",
        "              'wherever',\n",
        "              'while',\n",
        "              'both',\n",
        "              'either',\n",
        "              'neither',\n",
        "              'not only',\n",
        "              'but also',\n",
        "              'whether',\n",
        "              'in',\n",
        "              'on',\n",
        "              'from',\n",
        "              'who',\n",
        "              'which',\n",
        "              'whom',\n",
        "              'so',\n",
        "              'by',\n",
        "              'between',\n",
        "              'whom',\n",
        "              'this',\n",
        "              'these',\n",
        "              'those',\n",
        "              'up',\n",
        "              'too',\n",
        "              'to',\n",
        "              'once',\n",
        "              'only',\n",
        "              'such',\n",
        "              'into',\n",
        "              'most',\n",
        "              'more',\n",
        "              'of',\n",
        "              'a',\n",
        "              'an',\n",
        "              'the',\n",
        "              'then',\n",
        "              'there',\n",
        "              'with',\n",
        "              'up',\n",
        "              'how',\n",
        "              'few',\n",
        "              'below',\n",
        "              'down',\n",
        "              'it',\n",
        "              'wa'}"
      ],
      "execution_count": 0,
      "outputs": []
    },
    {
      "cell_type": "code",
      "metadata": {
        "id": "RokUhFuyGZ5b",
        "colab_type": "code",
        "colab": {}
      },
      "source": [
        "# Removing stop words and lemmatizing \n",
        "stop_words = set(stopwords.words('english'))\n",
        "# We will not eliminate not from the data because we already have done haven't to have not, being not a negative \n",
        "st_words = []\n",
        "for w in stop_words:\n",
        "  if (w != \"not\") & (w != \"no\"):\n",
        "    st_words.append(w)\n"
      ],
      "execution_count": 0,
      "outputs": []
    },
    {
      "cell_type": "markdown",
      "metadata": {
        "id": "EphSNfOD0bLp",
        "colab_type": "text"
      },
      "source": [
        "## Removing Stop Words and using Lemmatization\n",
        "\n",
        "**Only not negative stop words will be removed, because if we have this phrase \"I am not happy\" and not is remove the final phrase that the model will analize after cleaning is \"happy\" which will be incorrect because the sentiment in this phrase is negative.**\n",
        "\n",
        "**Also, lemmatization will be used, which \"reduces the inflected words properly ensuring that the root word belongs to the language\". (DataCamp)**\n"
      ]
    },
    {
      "cell_type": "code",
      "metadata": {
        "id": "XcAYNf12rgo7",
        "colab_type": "code",
        "colab": {}
      },
      "source": [
        "# Removing stop words and lemmatizing. \n",
        "\n",
        "def st_lem(sentence,sentiment):\n",
        "  sentence = sentence.split()\n",
        "  filtered_sentence = [w for w in sentence if not w in stop_words_conj]\n",
        "  new_sen = []\n",
        "  sentiment = 0\n",
        "  if sentiment == 1:\n",
        "    m = \"v\"\n",
        "  else:\n",
        "    m = \"n\"\n",
        "  \n",
        "  for s in filtered_sentence:\n",
        "    k = wordnet_lemmatizer.lemmatize(s, pos=m)\n",
        "    new_sen.append(k)\n",
        "\n",
        "  sentence = \" \".join(new_sen)\n",
        "  # Single character removal\n",
        "  sentence = re.sub(r\"\\s+[a-zA-Z]\\s+\", ' ', sentence)\n",
        "  \n",
        "  return sentence  "
      ],
      "execution_count": 0,
      "outputs": []
    },
    {
      "cell_type": "code",
      "metadata": {
        "id": "KyqhV_F1vG3j",
        "colab_type": "code",
        "outputId": "49e1363d-dbd5-4f43-de6b-e9967296b347",
        "colab": {
          "base_uri": "https://localhost:8080/",
          "height": 119
        }
      },
      "source": [
        "data.text = data.apply(lambda x: st_lem(x['text'],x['sentiment']), axis=1 )"
      ],
      "execution_count": 0,
      "outputs": [
        {
          "output_type": "stream",
          "text": [
            "/usr/local/lib/python3.6/dist-packages/pandas/core/generic.py:5208: SettingWithCopyWarning: \n",
            "A value is trying to be set on a copy of a slice from a DataFrame.\n",
            "Try using .loc[row_indexer,col_indexer] = value instead\n",
            "\n",
            "See the caveats in the documentation: http://pandas.pydata.org/pandas-docs/stable/user_guide/indexing.html#returning-a-view-versus-a-copy\n",
            "  self[name] = value\n"
          ],
          "name": "stderr"
        }
      ]
    },
    {
      "cell_type": "code",
      "metadata": {
        "id": "kzsu3Y-Bl0g8",
        "colab_type": "code",
        "outputId": "ce922478-8810-4138-b087-231c245636b9",
        "colab": {
          "base_uri": "https://localhost:8080/",
          "height": 119
        }
      },
      "source": [
        "#Counting the lenght of the sentences after cleaning\n",
        "data['pos_clean_len'] = [len(t) for t in data.text]"
      ],
      "execution_count": 0,
      "outputs": [
        {
          "output_type": "stream",
          "text": [
            "/usr/local/lib/python3.6/dist-packages/ipykernel_launcher.py:1: SettingWithCopyWarning: \n",
            "A value is trying to be set on a copy of a slice from a DataFrame.\n",
            "Try using .loc[row_indexer,col_indexer] = value instead\n",
            "\n",
            "See the caveats in the documentation: http://pandas.pydata.org/pandas-docs/stable/user_guide/indexing.html#returning-a-view-versus-a-copy\n",
            "  \"\"\"Entry point for launching an IPython kernel.\n"
          ],
          "name": "stderr"
        }
      ]
    },
    {
      "cell_type": "code",
      "metadata": {
        "id": "RGZgbkfrLDBp",
        "colab_type": "code",
        "colab": {}
      },
      "source": [
        "data['pos_word_number'] = [len(t.split()) for t in data.text]"
      ],
      "execution_count": 0,
      "outputs": []
    },
    {
      "cell_type": "code",
      "metadata": {
        "id": "Vlevxyl6RxH_",
        "colab_type": "code",
        "colab": {}
      },
      "source": [
        "data.drop(['index'], inplace=True, axis=1)"
      ],
      "execution_count": 0,
      "outputs": []
    },
    {
      "cell_type": "code",
      "metadata": {
        "id": "UTYm_UU2Rid8",
        "colab_type": "code",
        "outputId": "ca4acd83-4471-4ee6-d05a-3b53650f0dbc",
        "colab": {
          "base_uri": "https://localhost:8080/",
          "height": 204
        }
      },
      "source": [
        "data.head()"
      ],
      "execution_count": 0,
      "outputs": [
        {
          "output_type": "execute_result",
          "data": {
            "text/html": [
              "<div>\n",
              "<style scoped>\n",
              "    .dataframe tbody tr th:only-of-type {\n",
              "        vertical-align: middle;\n",
              "    }\n",
              "\n",
              "    .dataframe tbody tr th {\n",
              "        vertical-align: top;\n",
              "    }\n",
              "\n",
              "    .dataframe thead th {\n",
              "        text-align: right;\n",
              "    }\n",
              "</style>\n",
              "<table border=\"1\" class=\"dataframe\">\n",
              "  <thead>\n",
              "    <tr style=\"text-align: right;\">\n",
              "      <th></th>\n",
              "      <th>text</th>\n",
              "      <th>sentiment</th>\n",
              "      <th>confidence</th>\n",
              "      <th>confidence_norm</th>\n",
              "      <th>pre_clean_len</th>\n",
              "      <th>pre_word_num</th>\n",
              "      <th>pos_clean_len</th>\n",
              "      <th>pos_word_number</th>\n",
              "    </tr>\n",
              "  </thead>\n",
              "  <tbody>\n",
              "    <tr>\n",
              "      <th>0</th>\n",
              "      <td>trying wait patient can lol</td>\n",
              "      <td>1</td>\n",
              "      <td>0.3</td>\n",
              "      <td>0.013453</td>\n",
              "      <td>37</td>\n",
              "      <td>9</td>\n",
              "      <td>27</td>\n",
              "      <td>5</td>\n",
              "    </tr>\n",
              "    <tr>\n",
              "      <th>1</th>\n",
              "      <td>good morning fotopro team noticed some comment...</td>\n",
              "      <td>1</td>\n",
              "      <td>0.6</td>\n",
              "      <td>0.026906</td>\n",
              "      <td>182</td>\n",
              "      <td>34</td>\n",
              "      <td>131</td>\n",
              "      <td>23</td>\n",
              "    </tr>\n",
              "    <tr>\n",
              "      <th>2</th>\n",
              "      <td>still track ahead behind</td>\n",
              "      <td>1</td>\n",
              "      <td>0.2</td>\n",
              "      <td>0.008969</td>\n",
              "      <td>36</td>\n",
              "      <td>6</td>\n",
              "      <td>24</td>\n",
              "      <td>4</td>\n",
              "    </tr>\n",
              "    <tr>\n",
              "      <th>3</th>\n",
              "      <td>product nice had get twice</td>\n",
              "      <td>1</td>\n",
              "      <td>0.5</td>\n",
              "      <td>0.022422</td>\n",
              "      <td>35</td>\n",
              "      <td>8</td>\n",
              "      <td>26</td>\n",
              "      <td>5</td>\n",
              "    </tr>\n",
              "    <tr>\n",
              "      <th>4</th>\n",
              "      <td>just curious will you have any extension goal ...</td>\n",
              "      <td>1</td>\n",
              "      <td>0.4</td>\n",
              "      <td>0.017937</td>\n",
              "      <td>106</td>\n",
              "      <td>21</td>\n",
              "      <td>71</td>\n",
              "      <td>14</td>\n",
              "    </tr>\n",
              "  </tbody>\n",
              "</table>\n",
              "</div>"
            ],
            "text/plain": [
              "                                                text  ...  pos_word_number\n",
              "0                        trying wait patient can lol  ...                5\n",
              "1  good morning fotopro team noticed some comment...  ...               23\n",
              "2                           still track ahead behind  ...                4\n",
              "3                         product nice had get twice  ...                5\n",
              "4  just curious will you have any extension goal ...  ...               14\n",
              "\n",
              "[5 rows x 8 columns]"
            ]
          },
          "metadata": {
            "tags": []
          },
          "execution_count": 34
        }
      ]
    },
    {
      "cell_type": "code",
      "metadata": {
        "id": "mCdEfTmpl_1x",
        "colab_type": "code",
        "outputId": "0c79658d-ec51-4363-ee3b-c69f7a823288",
        "colab": {
          "base_uri": "https://localhost:8080/",
          "height": 320
        }
      },
      "source": [
        "fig, ax = plt.subplots(figsize=(5, 5))\n",
        "plt.boxplot(data.pos_clean_len)\n",
        "plt.show()\n"
      ],
      "execution_count": 0,
      "outputs": [
        {
          "output_type": "display_data",
          "data": {
            "image/png": "[encoded data removed]",
            "text/plain": [
              "<Figure size 360x360 with 1 Axes>"
            ]
          },
          "metadata": {
            "tags": []
          }
        }
      ]
    },
    {
      "cell_type": "code",
      "metadata": {
        "id": "Fn1pDW_nLSLP",
        "colab_type": "code",
        "colab": {}
      },
      "source": [
        "fig, ax = plt.subplots(figsize=(5, 5))\n",
        "plt.boxplot(data.word_number)\n",
        "plt.show()\n"
      ],
      "execution_count": 0,
      "outputs": []
    },
    {
      "cell_type": "code",
      "metadata": {
        "id": "duwfXzbiSipV",
        "colab_type": "code",
        "outputId": "ab833d8d-6dde-42da-fa9d-699e1b747c6c",
        "colab": {
          "base_uri": "https://localhost:8080/",
          "height": 170
        }
      },
      "source": [
        "data.pos_word_number.describe()"
      ],
      "execution_count": 0,
      "outputs": [
        {
          "output_type": "execute_result",
          "data": {
            "text/plain": [
              "count    181516.000000\n",
              "mean         22.367598\n",
              "std          19.563486\n",
              "min           0.000000\n",
              "25%          10.000000\n",
              "50%          17.000000\n",
              "75%          29.000000\n",
              "max         807.000000\n",
              "Name: pos_word_number, dtype: float64"
            ]
          },
          "metadata": {
            "tags": []
          },
          "execution_count": 37
        }
      ]
    },
    {
      "cell_type": "code",
      "metadata": {
        "id": "w0lV2laSLa2h",
        "colab_type": "code",
        "colab": {}
      },
      "source": [
        "data.word_number.describe()"
      ],
      "execution_count": 0,
      "outputs": []
    },
    {
      "cell_type": "markdown",
      "metadata": {
        "id": "EluqQpZks2BE",
        "colab_type": "text"
      },
      "source": [
        "**After cleaning the reviews less than 4 letters will be removed, again they are just saying random names or are blank spaces.**"
      ]
    },
    {
      "cell_type": "code",
      "metadata": {
        "id": "Gemsu0DDmQMr",
        "colab_type": "code",
        "colab": {}
      },
      "source": [
        "data = data[data.pos_clean_len >= 4]\n",
        "data.reset_index(inplace=True, drop=True)"
      ],
      "execution_count": 0,
      "outputs": []
    },
    {
      "cell_type": "code",
      "metadata": {
        "id": "JBce0NAdEwsY",
        "colab_type": "code",
        "outputId": "47ee76d6-a511-44d5-cc9f-cbd81d9b4f50",
        "colab": {
          "base_uri": "https://localhost:8080/",
          "height": 170
        }
      },
      "source": [
        "data.pos_clean_len.describe()"
      ],
      "execution_count": 0,
      "outputs": [
        {
          "output_type": "execute_result",
          "data": {
            "text/plain": [
              "count    181388.000000\n",
              "mean        131.272240\n",
              "std         118.326063\n",
              "min           4.000000\n",
              "25%          55.000000\n",
              "50%          99.000000\n",
              "75%         171.000000\n",
              "max        4954.000000\n",
              "Name: pos_clean_len, dtype: float64"
            ]
          },
          "metadata": {
            "tags": []
          },
          "execution_count": 39
        }
      ]
    },
    {
      "cell_type": "code",
      "metadata": {
        "id": "6_W6e9aTPKT9",
        "colab_type": "code",
        "outputId": "a126ee21-a11f-4325-fb51-5b7bf59f7c6b",
        "colab": {
          "base_uri": "https://localhost:8080/",
          "height": 237
        }
      },
      "source": [
        "data[data.pos_word_number == 42 ].text"
      ],
      "execution_count": 0,
      "outputs": [
        {
          "output_type": "execute_result",
          "data": {
            "text/plain": [
              "8         hi looking forward getting product size tablet...\n",
              "72        duty pay local value added tax may change depe...\n",
              "96        got bag month ago first day using button insid...\n",
              "663       yay rt arrived today playing first impression ...\n",
              "880       please respond email people chose refund optio...\n",
              "                                ...                        \n",
              "203179    backer think time start considering legal opti...\n",
              "203204    message backer ignored sectorqube time time pl...\n",
              "203207    creator perfectly fine delay crowdfunded proje...\n",
              "203433    got mine christmas finally gotten chance play ...\n",
              "203540    provide better instruction later add pin jst c...\n",
              "Name: text, Length: 932, dtype: object"
            ]
          },
          "metadata": {
            "tags": []
          },
          "execution_count": 100
        }
      ]
    },
    {
      "cell_type": "code",
      "metadata": {
        "id": "jaAAlTrVcX7p",
        "colab_type": "code",
        "outputId": "65ab0de2-6204-4551-c177-86959907697a",
        "colab": {
          "base_uri": "https://localhost:8080/",
          "height": 320
        }
      },
      "source": [
        "fig, ax = plt.subplots(figsize=(5, 5))\n",
        "plt.boxplot(data.pos_word_number)\n",
        "plt.show()"
      ],
      "execution_count": 0,
      "outputs": [
        {
          "output_type": "display_data",
          "data": {
            "image/png": "[encoded data removed]",
            "text/plain": [
              "<Figure size 360x360 with 1 Axes>"
            ]
          },
          "metadata": {
            "tags": []
          }
        }
      ]
    },
    {
      "cell_type": "code",
      "metadata": {
        "id": "k07EbayPQVNT",
        "colab_type": "code",
        "outputId": "19fe41b0-2925-4776-bb41-afae97103eae",
        "colab": {
          "base_uri": "https://localhost:8080/",
          "height": 296
        }
      },
      "source": [
        "sns.distplot(data.sentiment, kde=False)"
      ],
      "execution_count": 0,
      "outputs": [
        {
          "output_type": "execute_result",
          "data": {
            "text/plain": [
              "<matplotlib.axes._subplots.AxesSubplot at 0x7fe0f1eec0f0>"
            ]
          },
          "metadata": {
            "tags": []
          },
          "execution_count": 41
        },
        {
          "output_type": "display_data",
          "data": {
            "image/png": "[encoded data removed]",
            "text/plain": [
              "<Figure size 432x288 with 1 Axes>"
            ]
          },
          "metadata": {
            "tags": []
          }
        }
      ]
    },
    {
      "cell_type": "code",
      "metadata": {
        "id": "3bj4C7Jz58e0",
        "colab_type": "code",
        "outputId": "7b1e7fac-e507-47b2-87e9-200e164b4aeb",
        "colab": {
          "base_uri": "https://localhost:8080/",
          "height": 68
        }
      },
      "source": [
        "data.sentiment.value_counts()"
      ],
      "execution_count": 0,
      "outputs": [
        {
          "output_type": "execute_result",
          "data": {
            "text/plain": [
              "1    122021\n",
              "0     59367\n",
              "Name: sentiment, dtype: int64"
            ]
          },
          "metadata": {
            "tags": []
          },
          "execution_count": 43
        }
      ]
    },
    {
      "cell_type": "code",
      "metadata": {
        "id": "Qa8ie94tc5JQ",
        "colab_type": "code",
        "outputId": "0b34e8fb-2872-4057-9652-dcbe04b83450",
        "colab": {
          "base_uri": "https://localhost:8080/",
          "height": 297
        }
      },
      "source": [
        "sns.distplot(data.confidence_norm,kde=False)"
      ],
      "execution_count": 0,
      "outputs": [
        {
          "output_type": "execute_result",
          "data": {
            "text/plain": [
              "<matplotlib.axes._subplots.AxesSubplot at 0x7fe0f2595320>"
            ]
          },
          "metadata": {
            "tags": []
          },
          "execution_count": 45
        },
        {
          "output_type": "display_data",
          "data": {
            "image/png": "[encoded data removed]",
            "text/plain": [
              "<Figure size 432x288 with 1 Axes>"
            ]
          },
          "metadata": {
            "tags": []
          }
        }
      ]
    },
    {
      "cell_type": "code",
      "metadata": {
        "id": "lNRqICBtdBvM",
        "colab_type": "code",
        "outputId": "b514a8b3-bcab-4655-e88a-03b56a10f496",
        "colab": {
          "base_uri": "https://localhost:8080/",
          "height": 297
        }
      },
      "source": [
        "sns.distplot(data.pos_word_number,kde=False)"
      ],
      "execution_count": 0,
      "outputs": [
        {
          "output_type": "execute_result",
          "data": {
            "text/plain": [
              "<matplotlib.axes._subplots.AxesSubplot at 0x7fe0f2c96748>"
            ]
          },
          "metadata": {
            "tags": []
          },
          "execution_count": 46
        },
        {
          "output_type": "display_data",
          "data": {
            "image/png": "[encoded data removed]",
            "text/plain": [
              "<Figure size 432x288 with 1 Axes>"
            ]
          },
          "metadata": {
            "tags": []
          }
        }
      ]
    },
    {
      "cell_type": "code",
      "metadata": {
        "id": "gkuhGcHJdJ6e",
        "colab_type": "code",
        "colab": {}
      },
      "source": [
        "data.clean_word_count.value_counts()"
      ],
      "execution_count": 0,
      "outputs": []
    },
    {
      "cell_type": "code",
      "metadata": {
        "id": "Bw9ifjXsovuY",
        "colab_type": "code",
        "colab": {}
      },
      "source": [
        "from io import StringIO\n",
        "import csv"
      ],
      "execution_count": 0,
      "outputs": []
    },
    {
      "cell_type": "code",
      "metadata": {
        "id": "3cXdB-Mkd4zB",
        "colab_type": "code",
        "outputId": "e1d79dd2-9ef4-41e3-904f-8a1f7cf45ec3",
        "colab": {
          "base_uri": "https://localhost:8080/",
          "height": 419
        }
      },
      "source": [
        "data"
      ],
      "execution_count": 0,
      "outputs": [
        {
          "output_type": "execute_result",
          "data": {
            "text/html": [
              "<div>\n",
              "<style scoped>\n",
              "    .dataframe tbody tr th:only-of-type {\n",
              "        vertical-align: middle;\n",
              "    }\n",
              "\n",
              "    .dataframe tbody tr th {\n",
              "        vertical-align: top;\n",
              "    }\n",
              "\n",
              "    .dataframe thead th {\n",
              "        text-align: right;\n",
              "    }\n",
              "</style>\n",
              "<table border=\"1\" class=\"dataframe\">\n",
              "  <thead>\n",
              "    <tr style=\"text-align: right;\">\n",
              "      <th></th>\n",
              "      <th>text</th>\n",
              "      <th>sentiment</th>\n",
              "      <th>confidence</th>\n",
              "      <th>confidence_norm</th>\n",
              "      <th>pre_clean_len</th>\n",
              "      <th>pre_word_num</th>\n",
              "      <th>pos_clean_len</th>\n",
              "      <th>pos_word_number</th>\n",
              "    </tr>\n",
              "  </thead>\n",
              "  <tbody>\n",
              "    <tr>\n",
              "      <th>0</th>\n",
              "      <td>trying wait patient can lol</td>\n",
              "      <td>1</td>\n",
              "      <td>0.3</td>\n",
              "      <td>0.013453</td>\n",
              "      <td>37</td>\n",
              "      <td>9</td>\n",
              "      <td>27</td>\n",
              "      <td>5</td>\n",
              "    </tr>\n",
              "    <tr>\n",
              "      <th>1</th>\n",
              "      <td>good morning fotopro team noticed some comment...</td>\n",
              "      <td>1</td>\n",
              "      <td>0.6</td>\n",
              "      <td>0.026906</td>\n",
              "      <td>182</td>\n",
              "      <td>34</td>\n",
              "      <td>131</td>\n",
              "      <td>23</td>\n",
              "    </tr>\n",
              "    <tr>\n",
              "      <th>2</th>\n",
              "      <td>still track ahead behind</td>\n",
              "      <td>1</td>\n",
              "      <td>0.2</td>\n",
              "      <td>0.008969</td>\n",
              "      <td>36</td>\n",
              "      <td>6</td>\n",
              "      <td>24</td>\n",
              "      <td>4</td>\n",
              "    </tr>\n",
              "    <tr>\n",
              "      <th>3</th>\n",
              "      <td>product nice had get twice</td>\n",
              "      <td>1</td>\n",
              "      <td>0.5</td>\n",
              "      <td>0.022422</td>\n",
              "      <td>35</td>\n",
              "      <td>8</td>\n",
              "      <td>26</td>\n",
              "      <td>5</td>\n",
              "    </tr>\n",
              "    <tr>\n",
              "      <th>4</th>\n",
              "      <td>just curious will you have any extension goal ...</td>\n",
              "      <td>1</td>\n",
              "      <td>0.4</td>\n",
              "      <td>0.017937</td>\n",
              "      <td>106</td>\n",
              "      <td>21</td>\n",
              "      <td>71</td>\n",
              "      <td>14</td>\n",
              "    </tr>\n",
              "    <tr>\n",
              "      <th>...</th>\n",
              "      <td>...</td>\n",
              "      <td>...</td>\n",
              "      <td>...</td>\n",
              "      <td>...</td>\n",
              "      <td>...</td>\n",
              "      <td>...</td>\n",
              "      <td>...</td>\n",
              "      <td>...</td>\n",
              "    </tr>\n",
              "    <tr>\n",
              "      <th>181383</th>\n",
              "      <td>i am curious you have looked at working partic...</td>\n",
              "      <td>1</td>\n",
              "      <td>0.7</td>\n",
              "      <td>0.031390</td>\n",
              "      <td>239</td>\n",
              "      <td>39</td>\n",
              "      <td>200</td>\n",
              "      <td>34</td>\n",
              "    </tr>\n",
              "    <tr>\n",
              "      <th>181384</th>\n",
              "      <td>looking forward another awesome campaign kevin...</td>\n",
              "      <td>1</td>\n",
              "      <td>1.7</td>\n",
              "      <td>0.076233</td>\n",
              "      <td>86</td>\n",
              "      <td>15</td>\n",
              "      <td>70</td>\n",
              "      <td>11</td>\n",
              "    </tr>\n",
              "    <tr>\n",
              "      <th>181385</th>\n",
              "      <td>nice thanks all answer cheer</td>\n",
              "      <td>1</td>\n",
              "      <td>1.4</td>\n",
              "      <td>0.062780</td>\n",
              "      <td>37</td>\n",
              "      <td>6</td>\n",
              "      <td>28</td>\n",
              "      <td>5</td>\n",
              "    </tr>\n",
              "    <tr>\n",
              "      <th>181386</th>\n",
              "      <td>wink wa still amazing wa le enthusiast about p...</td>\n",
              "      <td>1</td>\n",
              "      <td>1.7</td>\n",
              "      <td>0.076233</td>\n",
              "      <td>226</td>\n",
              "      <td>42</td>\n",
              "      <td>172</td>\n",
              "      <td>30</td>\n",
              "    </tr>\n",
              "    <tr>\n",
              "      <th>181387</th>\n",
              "      <td>good luck bring project smiley</td>\n",
              "      <td>1</td>\n",
              "      <td>0.7</td>\n",
              "      <td>0.031390</td>\n",
              "      <td>41</td>\n",
              "      <td>9</td>\n",
              "      <td>30</td>\n",
              "      <td>5</td>\n",
              "    </tr>\n",
              "  </tbody>\n",
              "</table>\n",
              "<p>181388 rows × 8 columns</p>\n",
              "</div>"
            ],
            "text/plain": [
              "                                                     text  ...  pos_word_number\n",
              "0                             trying wait patient can lol  ...                5\n",
              "1       good morning fotopro team noticed some comment...  ...               23\n",
              "2                                still track ahead behind  ...                4\n",
              "3                              product nice had get twice  ...                5\n",
              "4       just curious will you have any extension goal ...  ...               14\n",
              "...                                                   ...  ...              ...\n",
              "181383  i am curious you have looked at working partic...  ...               34\n",
              "181384  looking forward another awesome campaign kevin...  ...               11\n",
              "181385                       nice thanks all answer cheer  ...                5\n",
              "181386  wink wa still amazing wa le enthusiast about p...  ...               30\n",
              "181387                     good luck bring project smiley  ...                5\n",
              "\n",
              "[181388 rows x 8 columns]"
            ]
          },
          "metadata": {
            "tags": []
          },
          "execution_count": 49
        }
      ]
    },
    {
      "cell_type": "code",
      "metadata": {
        "id": "ElcIc3VA8Cw0",
        "colab_type": "code",
        "outputId": "8edde887-7182-4fd2-b993-b2dfcfdc04b8",
        "colab": {
          "base_uri": "https://localhost:8080/",
          "height": 119
        }
      },
      "source": [
        "data['label'] = data['sentiment']"
      ],
      "execution_count": 0,
      "outputs": [
        {
          "output_type": "stream",
          "text": [
            "/usr/local/lib/python3.6/dist-packages/ipykernel_launcher.py:1: SettingWithCopyWarning: \n",
            "A value is trying to be set on a copy of a slice from a DataFrame.\n",
            "Try using .loc[row_indexer,col_indexer] = value instead\n",
            "\n",
            "See the caveats in the documentation: http://pandas.pydata.org/pandas-docs/stable/user_guide/indexing.html#returning-a-view-versus-a-copy\n",
            "  \"\"\"Entry point for launching an IPython kernel.\n"
          ],
          "name": "stderr"
        }
      ]
    },
    {
      "cell_type": "code",
      "metadata": {
        "id": "-e-5l-edMANI",
        "colab_type": "code",
        "colab": {}
      },
      "source": [
        "# selection the columns that will be useful\n",
        "col = [\"label\",\"text\"]\n",
        "clean_data = data[col]"
      ],
      "execution_count": 0,
      "outputs": []
    },
    {
      "cell_type": "code",
      "metadata": {
        "id": "TvyHcS7CIesH",
        "colab_type": "code",
        "outputId": "ed5781dd-19ab-42b7-ad61-0ea4e5a8a26a",
        "colab": {
          "base_uri": "https://localhost:8080/",
          "height": 419
        }
      },
      "source": [
        "clean_data"
      ],
      "execution_count": 0,
      "outputs": [
        {
          "output_type": "execute_result",
          "data": {
            "text/html": [
              "<div>\n",
              "<style scoped>\n",
              "    .dataframe tbody tr th:only-of-type {\n",
              "        vertical-align: middle;\n",
              "    }\n",
              "\n",
              "    .dataframe tbody tr th {\n",
              "        vertical-align: top;\n",
              "    }\n",
              "\n",
              "    .dataframe thead th {\n",
              "        text-align: right;\n",
              "    }\n",
              "</style>\n",
              "<table border=\"1\" class=\"dataframe\">\n",
              "  <thead>\n",
              "    <tr style=\"text-align: right;\">\n",
              "      <th></th>\n",
              "      <th>label</th>\n",
              "      <th>text</th>\n",
              "    </tr>\n",
              "  </thead>\n",
              "  <tbody>\n",
              "    <tr>\n",
              "      <th>0</th>\n",
              "      <td>1</td>\n",
              "      <td>trying wait patient can lol</td>\n",
              "    </tr>\n",
              "    <tr>\n",
              "      <th>1</th>\n",
              "      <td>1</td>\n",
              "      <td>good morning fotopro team noticed some comment...</td>\n",
              "    </tr>\n",
              "    <tr>\n",
              "      <th>2</th>\n",
              "      <td>1</td>\n",
              "      <td>still track ahead behind</td>\n",
              "    </tr>\n",
              "    <tr>\n",
              "      <th>3</th>\n",
              "      <td>1</td>\n",
              "      <td>product nice had get twice</td>\n",
              "    </tr>\n",
              "    <tr>\n",
              "      <th>4</th>\n",
              "      <td>1</td>\n",
              "      <td>just curious will you have any extension goal ...</td>\n",
              "    </tr>\n",
              "    <tr>\n",
              "      <th>...</th>\n",
              "      <td>...</td>\n",
              "      <td>...</td>\n",
              "    </tr>\n",
              "    <tr>\n",
              "      <th>181383</th>\n",
              "      <td>1</td>\n",
              "      <td>i am curious you have looked at working partic...</td>\n",
              "    </tr>\n",
              "    <tr>\n",
              "      <th>181384</th>\n",
              "      <td>1</td>\n",
              "      <td>looking forward another awesome campaign kevin...</td>\n",
              "    </tr>\n",
              "    <tr>\n",
              "      <th>181385</th>\n",
              "      <td>1</td>\n",
              "      <td>nice thanks all answer cheer</td>\n",
              "    </tr>\n",
              "    <tr>\n",
              "      <th>181386</th>\n",
              "      <td>1</td>\n",
              "      <td>wink wa still amazing wa le enthusiast about p...</td>\n",
              "    </tr>\n",
              "    <tr>\n",
              "      <th>181387</th>\n",
              "      <td>1</td>\n",
              "      <td>good luck bring project smiley</td>\n",
              "    </tr>\n",
              "  </tbody>\n",
              "</table>\n",
              "<p>181388 rows × 2 columns</p>\n",
              "</div>"
            ],
            "text/plain": [
              "        label                                               text\n",
              "0           1                        trying wait patient can lol\n",
              "1           1  good morning fotopro team noticed some comment...\n",
              "2           1                           still track ahead behind\n",
              "3           1                         product nice had get twice\n",
              "4           1  just curious will you have any extension goal ...\n",
              "...       ...                                                ...\n",
              "181383      1  i am curious you have looked at working partic...\n",
              "181384      1  looking forward another awesome campaign kevin...\n",
              "181385      1                       nice thanks all answer cheer\n",
              "181386      1  wink wa still amazing wa le enthusiast about p...\n",
              "181387      1                     good luck bring project smiley\n",
              "\n",
              "[181388 rows x 2 columns]"
            ]
          },
          "metadata": {
            "tags": []
          },
          "execution_count": 52
        }
      ]
    },
    {
      "cell_type": "code",
      "metadata": {
        "id": "V8WsVD8MGCNv",
        "colab_type": "code",
        "outputId": "1e22d6d2-48d1-4475-b759-2be567394233",
        "colab": {
          "base_uri": "https://localhost:8080/",
          "height": 34
        }
      },
      "source": [
        "len(clean_data.text)*.70"
      ],
      "execution_count": 0,
      "outputs": [
        {
          "output_type": "execute_result",
          "data": {
            "text/plain": [
              "126971.59999999999"
            ]
          },
          "metadata": {
            "tags": []
          },
          "execution_count": 55
        }
      ]
    },
    {
      "cell_type": "code",
      "metadata": {
        "id": "n-bIlhkkGXD4",
        "colab_type": "code",
        "outputId": "42912856-da9c-4002-cdf6-1b11d400a410",
        "colab": {
          "base_uri": "https://localhost:8080/",
          "height": 34
        }
      },
      "source": [
        "len(clean_data.text)*.30"
      ],
      "execution_count": 0,
      "outputs": [
        {
          "output_type": "execute_result",
          "data": {
            "text/plain": [
              "54416.4"
            ]
          },
          "metadata": {
            "tags": []
          },
          "execution_count": 56
        }
      ]
    },
    {
      "cell_type": "code",
      "metadata": {
        "id": "2DptO8gE81Yl",
        "colab_type": "code",
        "outputId": "b057d930-3b06-4b6c-af4d-ce50b08a4ae2",
        "colab": {
          "base_uri": "https://localhost:8080/",
          "height": 34
        }
      },
      "source": [
        "clean_data.shape"
      ],
      "execution_count": 0,
      "outputs": [
        {
          "output_type": "execute_result",
          "data": {
            "text/plain": [
              "(181388, 2)"
            ]
          },
          "metadata": {
            "tags": []
          },
          "execution_count": 62
        }
      ]
    },
    {
      "cell_type": "markdown",
      "metadata": {
        "id": "iNRQEl1f6PJz",
        "colab_type": "text"
      },
      "source": [
        "# Training embeddings\n",
        "## fasttext\n",
        "\n",
        "The last version of fasttext will be used [fasttext embeddings](https://github.com/facebookresearch/fastText)\n",
        "\n"
      ]
    },
    {
      "cell_type": "code",
      "metadata": {
        "colab_type": "code",
        "id": "rsXoJpcd2m-9",
        "colab": {}
      },
      "source": [
        "!wget https://github.com/facebookresearch/fastText/archive/v0.9.1.zip\n",
        "  \n",
        "!unzip v0.9.1.zip"
      ],
      "execution_count": 0,
      "outputs": []
    },
    {
      "cell_type": "markdown",
      "metadata": {
        "colab_type": "text",
        "id": "K609SjUH2m_E"
      },
      "source": [
        "**Compiling the library using the command make**\n",
        "\n"
      ]
    },
    {
      "cell_type": "code",
      "metadata": {
        "colab_type": "code",
        "id": "7q0VgvCw2m_G",
        "colab": {}
      },
      "source": [
        "%cd fastText-0.9.1\n",
        "!make"
      ],
      "execution_count": 0,
      "outputs": []
    },
    {
      "cell_type": "code",
      "metadata": {
        "colab_type": "code",
        "id": "0wIC29-62m_O",
        "colab": {}
      },
      "source": [
        "!wget https://dl.fbaipublicfiles.com/fasttext/vectors-crawl/cc.en.300.bin.gz # WIkipeduo with subword information for the course work embedding\n",
        "\n",
        "!gunzip -v -f cc.en.300.bin.gz\n",
        "#!wget https://dl.fbaipublicfiles.com/fasttext/vectors-english/wiki-news-300d-1M-subword.bin.zip\n",
        "#!gunzip -v -f wiki-news-300d-1M-subword.bin.zip\n",
        "\n",
        "#! wget https://dl.fbaipublicfiles.com/fasttext/vectors-english/wiki-news-300d-1M-subword.vec.zip"
      ],
      "execution_count": 0,
      "outputs": []
    },
    {
      "cell_type": "code",
      "metadata": {
        "id": "fYLBQOPaDOug",
        "colab_type": "code",
        "colab": {}
      },
      "source": [
        "# Come back to the original work folder\n",
        "%cd /content"
      ],
      "execution_count": 0,
      "outputs": []
    },
    {
      "cell_type": "code",
      "metadata": {
        "id": "dCfqw8F-G7rG",
        "colab_type": "code",
        "colab": {}
      },
      "source": [
        "tokenizer = Tokenizer() # Creates tokenizer model.\n",
        "tokenizer.fit_on_texts(clean_data.text) # Trains it over the tokens that we have.\n",
        "\n",
        "# Get words\n",
        "Vals = list(tokenizer.word_index.keys())"
      ],
      "execution_count": 0,
      "outputs": []
    },
    {
      "cell_type": "code",
      "metadata": {
        "id": "9BYA_EHj6VK4",
        "colab_type": "code",
        "colab": {}
      },
      "source": [
        "import codecs\n",
        "# Write CSV with the output.\n",
        "file = codecs.open('cw3Words.csv', \"w\", \"utf-8\") #Save the words in here\n",
        "\n",
        "for item in Vals:\n",
        "    file.write(\"%s\\r\\n\" % item)\n",
        "    \n",
        "file.close()"
      ],
      "execution_count": 0,
      "outputs": []
    },
    {
      "cell_type": "code",
      "metadata": {
        "id": "btVnIPZNtUJo",
        "colab_type": "code",
        "colab": {}
      },
      "source": [
        "!head cw3Words.csv"
      ],
      "execution_count": 0,
      "outputs": []
    },
    {
      "cell_type": "code",
      "metadata": {
        "id": "B_QzekextA_U",
        "colab_type": "code",
        "outputId": "c33e477e-7106-4605-8ce8-0fbd84a5e5c6",
        "colab": {
          "base_uri": "https://localhost:8080/",
          "height": 34
        }
      },
      "source": [
        "!ls"
      ],
      "execution_count": 0,
      "outputs": [
        {
          "output_type": "stream",
          "text": [
            "cw3Words.csv  fastText-0.9.1  Full_Data.csv  sample_data  v0.9.1.zip\n"
          ],
          "name": "stdout"
        }
      ]
    },
    {
      "cell_type": "code",
      "metadata": {
        "id": "_SKYmO-D61v9",
        "colab_type": "code",
        "outputId": "f38024da-6910-4ec3-bc61-72b8009e4530",
        "colab": {
          "base_uri": "https://localhost:8080/",
          "height": 51
        }
      },
      "source": [
        "# Getting the embeddings\n",
        "!./fastText-0.9.1/fasttext print-sentence-vectors fastText-0.9.1/cc.en.300.bin < cw3Words.csv > Embeddingcw3.tsv"
      ],
      "execution_count": 0,
      "outputs": [
        {
          "output_type": "stream",
          "text": [
            "tcmalloc: large alloc 4800004096 bytes == 0x55eac67de000 @  0x7f81b110c887 0x55eab381085f 0x55eab381bae4 0x55eab381c5d1 0x55eab3828113 0x55eab37f1ef8 0x7f81b01a9b97 0x55eab37f1f8a\n",
            "tcmalloc: large alloc 2400002048 bytes == 0x55ebe4982000 @  0x7f81b110c887 0x55eab381085f 0x55eab381bb28 0x55eab381c5d1 0x55eab3828113 0x55eab37f1ef8 0x7f81b01a9b97 0x55eab37f1f8a\n"
          ],
          "name": "stdout"
        }
      ]
    },
    {
      "cell_type": "code",
      "metadata": {
        "id": "TkiuA5cBuSaV",
        "colab_type": "code",
        "outputId": "fd0cbe52-4f91-4023-ac69-bc300508d587",
        "colab": {
          "base_uri": "https://localhost:8080/",
          "height": 221
        }
      },
      "source": [
        "!head Embeddingcw3.tsv"
      ],
      "execution_count": 0,
      "outputs": [
        {
          "output_type": "stream",
          "text": [
            "-0.043788 0.010765 -0.0093959 0.17058 -0.063025 -0.041678 -0.037263 -0.044098 0.01462 -0.028619 -0.0059088 0.029382 0.0048629 -0.0089858 0.0034845 0.069706 0.012286 -0.015933 -0.021485 0.13178 -0.002054 0.0032793 0.028974 0.0048759 0.047416 -0.039125 -0.022167 0.0041181 0.013321 0.014957 -0.067949 0.0088651 0.012891 0.032443 -0.017372 -0.012832 -0.021684 0.0031289 0.060738 -0.030396 -0.0049018 -0.0036517 0.024868 0.046457 -0.010245 -0.015817 -0.0093585 -0.035147 -0.0051291 -0.018584 -0.05635 -0.0092457 0.016998 -0.011408 -0.0077003 0.019772 -0.019994 -0.11217 -0.111 -0.00021544 -0.041821 -0.0025578 -0.026482 -0.086762 -0.025815 -0.021474 -0.018721 -0.0099812 -0.0052388 -0.017952 -0.071238 -0.0074522 0.057443 -0.02947 0.0068156 0.011459 0.055759 0.058265 -0.11308 -0.13251 -0.033243 0.021942 -0.030434 0.083691 -0.02453 -0.025112 0.095722 -0.075692 0.017203 0.10259 -0.026604 -0.038565 0.072339 -0.016736 0.027283 -0.033852 -0.13892 0.026435 -0.042506 -0.035658 0.0031628 0.012742 -0.01137 -0.11812 0.036807 0.033286 0.037954 0.0092385 -0.010517 -0.0041892 0.055706 -0.014953 -0.031332 -0.14533 -0.036741 -0.052322 -0.071802 -0.020598 0.01891 -0.011422 -0.0053982 0.025475 0.050483 0.0089071 0.096947 0.033434 0.012693 -0.043887 -0.04697 0.042998 -0.031349 -0.011091 -0.0496 0.011863 0.071795 0.041496 -0.062079 -0.0026503 0.00066459 0.054856 -0.023848 0.010116 0.01864 0.020244 0.0075507 0.064478 -0.20926 -0.0050888 -0.031096 -0.053039 -0.13303 -0.0048806 0.021678 0.032091 0.0042455 0.017185 0.046484 0.064079 -0.01721 0.026774 -0.0016303 -0.023694 0.013632 -0.064219 -0.039408 0.01091 -0.062023 -0.017753 0.046288 0.021115 0.014956 0.0049968 0.047692 0.0014027 0.038762 -0.048444 -0.047365 -0.037253 -0.0049195 -0.066579 -0.061657 -0.040039 -0.022934 -0.074922 0.047443 0.065981 -0.0098607 0.021711 0.017386 0.0066517 -0.00056564 0.027142 -0.053407 -0.040133 0.0392 0.060998 -0.043319 0.062183 0.0043065 0.096076 -0.10851 0.07756 0.013776 -0.0077558 0.0015134 -0.046176 -0.066571 -0.0081616 -0.050111 0.086248 -0.02298 -0.0087762 -0.018205 0.029613 0.05668 -0.0062271 0.035596 0.016738 0.024205 0.0089116 0.077963 -0.02856 0.068802 0.080602 0.01858 -0.024115 0.077193 0.044918 0.029606 -0.051086 -0.033411 -0.037122 -0.026919 -0.01832 0.029463 -0.076455 0.013645 0.051242 0.059664 0.029176 -0.067267 -0.11404 -0.059079 -0.16502 0.2861 -0.036184 0.024996 0.0074754 -0.055063 0.011854 0.0025796 0.0054606 -0.019123 0.012315 0.012271 -0.023882 -0.060388 -0.0574 0.052953 -0.00071113 0.056264 0.14759 0.0076202 0.071909 0.013663 -0.074257 -0.045351 -0.040847 0.085504 -0.12511 -0.0030571 -0.099299 -0.1022 0.10322 0.080685 -0.027239 -0.064388 0.17932 -0.14001 -0.0084312 -0.089382 0.012091 -0.21567 -0.061228 -0.062765 -0.019877 0.093589 -0.082976 -0.052628 -0.020546 0.042476 -0.013845 -0.11717 0.028992 0.013567 0.052655 0.015694 0.13364 -0.00080556 -0.0058011 \n",
            "0.015776 0.024481 0.029798 0.062023 0.096902 0.054694 -0.014075 -0.013612 -0.03019 -0.024149 -0.054732 0.025169 -0.046369 -0.015121 0.0080534 0.040013 0.11283 0.078623 0.020461 0.026577 0.016215 -0.010691 0.084151 -0.075088 -0.051402 0.055197 0.0027718 0.1441 -0.111 0.098099 0.020975 0.015231 -0.078266 -0.051521 0.11865 0.11011 -0.0087915 0.024402 -0.064933 0.041049 0.026359 -0.046977 -0.048932 0.021324 -0.037054 0.10489 0.15763 -0.00050167 0.14702 0.012355 0.012901 -0.047059 0.0091614 0.0175 0.06606 -0.070227 0.06413 0.0060067 -0.074893 0.073026 -0.077504 0.089785 -0.020401 -0.008456 -0.0090726 0.072319 -0.075583 -0.055409 0.068613 -0.086005 -0.057918 -0.065066 0.050943 -0.014171 -0.020077 0.0062252 -0.10612 0.067049 -0.040843 -0.039652 -0.034212 -0.019673 0.0060086 0.096939 0.022999 0.054788 -0.022841 0.014758 0.043429 0.065873 0.023535 -0.080573 0.096398 0.0062188 0.1007 0.014574 -0.0041499 0.082545 -0.023045 0.083953 -0.016242 -0.0010228 0.011901 0.092536 -0.047106 -0.14034 0.077004 0.0047571 0.046532 -0.061454 0.021209 0.049237 0.014231 0.010845 -0.13044 -0.054333 0.057331 -0.06985 -0.065511 0.047065 0.099009 -0.021634 0.0080677 -0.065338 0.03027 0.031336 -0.051143 0.025117 0.046822 0.012845 -0.08679 0.03036 -0.055522 0.06105 0.076109 0.013215 -0.011489 0.028765 0.0043291 -0.0088818 0.0045363 -0.016538 -0.041692 0.0063649 -0.11024 0.016843 -0.13078 -0.054253 0.00836 -0.070945 -0.045622 -0.10015 0.085157 0.0093072 -0.032603 0.08559 0.094484 0.023217 0.020065 -0.012302 0.0088638 -0.032628 0.0028115 0.0016707 -0.071795 -0.0020681 0.010224 -0.063579 -0.035616 -0.0089187 0.083009 -0.014475 -0.0080601 0.038879 -0.019094 0.093382 -0.033929 0.040815 0.032722 0.087898 0.061463 0.010911 0.014372 -0.016701 0.0071779 -0.018145 -0.03385 -0.067055 0.064507 0.12424 -0.099733 -0.055441 -0.084433 -0.031171 0.048024 -0.029399 -0.057467 -0.0015146 0.11864 0.10373 -0.018832 0.011942 0.0302 0.011576 0.0056626 0.01506 0.061666 0.034425 0.074834 0.046026 -0.0053379 -0.090334 0.11252 -0.040265 -0.0067798 0.025957 0.02639 -0.0082551 -0.030528 -0.01968 -0.0015411 0.04805 0.039537 0.00054052 0.070128 -0.091617 -0.12823 -0.03401 -0.031511 -0.062822 0.016527 -0.02064 -0.031809 0.039151 -0.032286 -0.035688 -0.017989 0.097416 0.059664 -0.015203 -0.00015071 0.026855 -0.070884 -0.053057 0.072539 0.030409 0.048953 0.088797 0.02499 -0.013227 0.01173 -0.023335 0.030806 -0.055682 0.012388 -0.0036143 0.060422 -0.0015653 0.035212 -0.033906 -0.071147 0.013127 0.029041 0.089503 -0.076261 -0.055554 -0.048815 -0.11594 -0.0532 -0.047749 0.081684 -0.11466 0.0095576 -0.078508 0.087996 0.003221 -0.020295 0.024393 0.087839 0.02241 -0.0042676 -0.048286 -0.078437 0.057075 -0.048489 0.037105 -0.065331 -0.11231 -0.00082079 0.027251 0.16896 0.00064015 -0.030316 0.0092641 -0.012398 0.045176 0.029453 -0.027886 -0.091715 0.011503 \n",
            "-0.018778 0.034609 0.049082 0.14178 -0.074934 -0.02035 -0.014039 -0.070869 0.0028968 0.033498 -0.060331 -0.03148 -0.015623 0.014859 0.0085291 0.025853 0.0014355 0.0082571 -0.056326 0.095828 -0.014655 -0.039833 -0.011102 -0.011386 -0.11728 -0.060179 0.027445 0.022893 0.027978 0.012821 0.034163 -0.036252 0.01273 0.021222 -0.026573 -0.021641 -0.074051 0.022669 -0.04383 0.024559 -0.050138 0.029577 0.023629 0.030938 0.079213 0.074044 0.01629 0.067291 -0.03342 -0.04361 -0.021867 0.064296 0.0033985 -0.005378 -0.028131 -0.0046723 -0.062133 0.052794 -0.11542 -0.051208 0.0046167 -0.024678 0.011348 -0.034751 -0.076901 0.047027 -0.078478 0.043825 0.038033 -0.023281 -0.076625 -0.0065364 0.06236 -0.037064 0.017775 -0.043738 -0.0012401 0.087531 -0.11667 -0.036004 -0.041832 -0.015864 -0.011972 0.035657 -0.02812 -0.029054 -0.024432 -0.026431 -0.012907 -0.075016 -0.041943 -0.0034567 0.056418 0.020209 0.05502 -0.096278 -0.072136 0.015287 -0.028511 -0.017341 0.019198 0.040244 0.046708 -0.15109 0.052551 -0.016461 -0.035068 0.017269 -0.058218 -0.032894 0.04419 -0.079567 -0.070319 -0.12907 -0.050833 -0.10271 -0.034623 -0.024319 0.031468 -0.0048556 0.033375 -0.04361 0.054815 -0.012486 0.0082574 0.072129 -0.077632 -0.032465 -0.064567 0.0031578 -0.073087 0.02401 -0.024687 0.069964 0.11096 -0.026194 -0.12784 0.0026671 0.039312 -0.0074451 -0.01823 0.0056091 0.082641 -0.0060747 0.028336 0.020614 -0.23261 0.037579 -0.040778 0.0035711 -0.032194 0.037893 0.046524 0.04267 0.026704 -0.011932 0.017941 -0.027195 -0.059056 0.070006 -0.0036519 0.054278 -0.093297 -0.071562 0.0251 -0.018032 -0.03037 -0.041859 -0.0064334 0.016478 0.047575 -0.015688 0.054783 0.0033415 -0.059704 0.0038793 -0.028198 -0.14957 0.054532 -0.021188 0.023059 -0.037112 -0.041885 -0.019063 0.02988 0.10877 0.051583 0.075521 -0.019937 -0.061911 -0.051121 0.072071 0.029184 -0.12784 0.0094669 0.044208 0.014109 0.060387 -0.0030569 0.032097 -0.078409 -0.011868 0.040115 -0.10431 -0.02992 0.039023 -0.09279 0.0025268 0.027917 0.016041 -0.023421 -0.06042 -0.014638 0.0051232 0.078811 0.00054172 -0.01134 -0.0062602 0.0018704 0.031763 0.049083 0.041948 0.015225 0.052802 0.02542 0.044146 -0.016383 0.0091719 0.04957 -0.016283 0.0013176 0.014814 -0.039853 -0.082812 0.01747 -0.12126 -0.021519 0.0025318 -0.018379 0.014077 -0.029901 0.025269 0.017237 -0.15973 0.31863 0.055868 -0.0042054 0.0063056 -0.045082 0.027952 0.036341 0.022866 -0.0081646 0.048344 0.022535 -0.025434 -0.055294 -0.12507 0.013866 0.036176 -0.042637 0.12696 0.024723 0.056525 -0.085517 0.016531 0.066593 -0.0040101 0.098866 -0.09425 -0.064223 -0.035226 -0.050247 0.061568 -0.010151 0.056134 -0.054776 0.14241 -0.089218 0.059917 -0.048577 0.0046088 -0.19213 0.009616 -0.05576 -0.075097 -0.0046181 -0.034592 -0.031888 -0.026816 0.095684 0.039424 -0.043812 -0.032905 0.072384 0.025641 0.0082751 -0.040942 0.056991 -0.01436 \n",
            "0.0014267 0.038212 0.10839 0.13788 -0.13988 0.015571 -0.02197 -0.024845 -0.0059852 -0.053588 -0.01495 0.02492 -0.0055519 0.033062 -0.019382 0.064414 0.075921 -0.015192 -0.046169 0.053867 -0.028171 0.0044872 -0.027174 -0.046292 -0.094142 -0.046168 -0.052756 0.041926 -0.016282 0.040023 -0.013401 -0.037024 -0.03476 0.015022 0.0040531 0.089716 -0.087951 0.07839 -0.017452 -0.0099811 0.047086 -0.016792 -0.050144 0.11803 0.029269 0.068931 0.0097794 5.4215e-05 0.035794 0.030156 0.011001 -0.0032408 -0.015253 -0.030719 -0.038015 -0.080917 0.04077 0.03385 -0.11214 -0.076102 0.0068201 -0.037118 -0.047572 -0.069283 -0.0098261 -0.046199 -0.06608 -0.034407 -0.033771 -0.0054114 -0.039439 0.069263 0.031362 0.0098518 0.025977 0.011847 -0.019878 -0.0054236 -0.017454 -0.032722 0.020446 -0.0054696 -0.05753 0.031998 0.10861 0.020299 0.00634 -0.054946 0.078986 -0.024751 0.054137 -0.018574 0.16524 -0.043594 0.066032 0.038824 0.032024 0.10796 -0.0017377 0.010984 0.013545 0.022751 0.036405 -0.0071992 -0.067595 -0.0045992 -0.0092197 0.0047617 -0.017518 0.049755 0.051388 0.037787 0.017699 0.054468 -0.0037185 -0.037041 -0.026671 0.0048911 0.035367 -0.010136 0.011338 -0.014256 -0.051955 0.0012051 0.048145 0.058219 0.061803 -0.083988 0.0064264 0.10667 0.0037099 -0.023695 -0.072447 0.075552 -0.049677 -0.041025 -0.01173 0.03681 -0.030254 -0.017851 -0.067525 -0.02681 -0.046794 0.021945 0.024335 0.059696 -0.1947 0.0038483 0.01697 -0.010307 -0.11057 0.022426 0.035298 0.052213 -0.024806 -0.010686 0.047764 0.083464 -0.0095058 0.03057 -0.0053015 0.032555 0.036995 -0.031183 0.017025 0.042863 0.056609 0.0061508 0.053516 0.077618 0.006254 0.015668 -0.057221 -0.04026 -0.028893 -0.035476 -0.039748 0.0094346 0.038437 0.0027107 0.027569 -0.060144 0.065054 -0.1088 0.019694 -0.02547 -0.036007 -0.027491 -0.027576 -0.024154 -0.033233 0.037338 0.035035 -0.037696 -0.0053687 -0.0051411 0.018615 -0.018655 0.0723 0.11558 -0.039827 0.087466 -0.041814 -0.045541 -0.016399 0.052844 -0.068431 -0.029128 -0.025279 -0.037355 0.092259 -0.091927 -0.011653 0.0030081 -0.015484 -0.042982 -0.037771 -0.054481 0.018439 0.074896 0.014622 0.057716 -0.012536 0.086638 -0.001375 0.022287 -0.040234 -0.061303 -0.028966 0.036047 -0.017057 0.023838 -0.18208 0.032976 -0.015709 -0.033589 -0.0047332 0.0017299 0.0083477 0.03044 0.011281 -0.01004 -0.13146 -0.15411 0.24583 0.013185 -0.019276 0.036987 0.079718 0.11796 0.068301 -0.079496 0.0024991 -0.089822 -0.020388 0.026775 -0.12768 0.022808 0.070048 0.032794 0.020598 0.018471 0.055978 0.021928 -0.036121 -0.0019676 0.014648 -0.019036 -0.09801 -0.085889 -0.083616 -0.012196 -0.12936 0.14169 0.065999 0.045631 0.10269 0.11121 0.095596 0.16277 0.016794 0.082062 -0.11647 -0.036066 0.035995 -0.0096306 -0.032852 -0.11031 -0.0078765 -0.040465 0.090201 0.13053 -0.062463 0.023378 -0.040717 0.04071 0.0016584 0.0076058 -0.041654 -0.09889 \n",
            "0.03791 0.076705 0.038701 0.046082 0.054942 0.018945 0.056626 0.053845 -0.0094576 0.022649 -0.10694 -0.0050879 -0.018616 -0.031202 0.0075654 -0.041702 0.0051482 0.043273 -0.058879 -0.022445 -0.02185 0.082927 -0.063379 -0.066635 -0.084479 -0.021198 0.052734 0.0085038 -0.047732 0.033457 -0.019413 -0.066527 0.014265 0.039397 -0.034206 -0.068804 0.068952 -0.066525 -0.10348 0.075877 -0.062173 0.024384 0.030403 -0.039257 0.069508 0.0152 -0.038752 0.00028241 -0.0076315 0.037974 0.055501 -0.033138 -0.0031266 -0.0077381 -0.041797 0.084487 -0.0085956 0.077955 -0.022037 0.033028 -0.099317 0.042104 -0.044634 -0.0061882 0.11884 -0.016249 -0.069022 0.013399 0.034546 0.0075814 -0.014284 -0.0098682 -0.013267 0.060434 -0.072109 0.070372 -0.084326 0.065322 0.05323 0.038575 -0.00050306 -0.0061435 -0.00042544 0.022476 0.031349 0.033073 -0.013205 -0.00032701 0.012877 0.041054 -0.012178 -0.01261 0.11445 0.013025 -0.0019738 0.022779 0.0053558 -0.025414 0.061728 0.10194 0.027843 -0.03024 0.062206 0.12744 -0.010129 -0.045058 -0.031873 -0.041589 -0.026739 0.034531 0.041251 -0.054681 0.032671 0.095716 -0.017564 0.00091687 0.03128 -0.025142 0.070706 0.033858 0.089066 -0.0456 -0.015287 0.0016851 0.024292 0.02549 -0.039769 -0.075812 -0.0053496 -0.087696 0.075105 -0.03279 -0.029363 0.11245 -0.043545 -0.095871 -0.055358 -0.03817 0.00016865 -0.074101 -0.087267 0.031412 0.064706 -0.0066377 0.078407 -0.07645 -0.18283 -0.054922 0.029895 0.1182 -7.3505e-05 0.04142 -0.082661 0.073611 -0.10535 -0.027307 0.061463 -0.026037 0.02004 -0.0034201 -0.00034667 0.12184 -0.073869 -0.054003 -0.089728 0.074106 -0.011484 -0.035381 -0.051003 -0.050088 -0.0029899 -0.063621 -0.013878 -0.037506 -0.0047958 0.017406 -0.076007 -0.017395 0.038497 -0.094948 0.066815 0.068784 0.063021 0.01469 0.013994 0.021516 -0.0093883 -0.084926 -0.053408 -0.051333 -0.031661 0.033776 -0.069227 -0.060245 -0.038484 0.0065562 -0.061784 0.12392 0.083683 0.079287 -0.056603 0.041273 0.032998 0.0072149 -0.085446 -0.008091 0.076834 0.013988 -0.092784 0.10793 -0.0076434 0.027138 0.086244 0.0028112 0.0055398 -0.023637 0.038158 0.030982 0.032772 0.067103 -0.066531 -0.016066 -0.052238 -0.018041 0.049637 -0.052377 -0.10489 -0.016409 -0.10384 0.10713 -0.014583 -0.013539 0.065791 -0.055156 -0.029159 0.15679 -0.039533 0.051845 0.019935 -0.037859 -0.013023 -0.086538 0.0054218 -0.075207 0.10863 -0.0066591 -0.034294 0.027395 0.020687 -0.04652 -0.017689 -0.087553 -0.047855 -0.0056858 0.040433 -0.0083068 -0.015013 -0.054678 0.15441 -0.024908 0.030283 -0.02922 0.0070181 0.059343 -0.065875 -0.023315 -0.05178 0.075228 0.022744 -0.14482 -0.020699 -0.065474 -0.033884 -0.052276 0.026575 -0.0053679 0.069763 -0.018129 -0.035934 0.20409 -0.060902 -0.11305 -0.10331 0.039399 -0.020796 0.0076722 -0.005705 -0.073598 -0.027022 -0.053373 0.11274 0.01914 -0.15959 0.003453 -0.014114 -0.063945 0.0013499 0.048235 -0.029129 -0.010041 \n",
            "0.043509 -0.015438 0.082583 0.06252 0.029582 -0.088336 0.02519 -0.038751 0.070352 0.016444 0.019615 -0.020932 -0.10354 0.0053624 -0.040759 0.00083232 -0.0060957 -0.02966 -0.0063913 0.094128 -0.0091492 0.048415 -0.0059853 -0.042003 -0.055684 0.053694 0.048873 0.018683 0.015725 0.11403 -0.0626 -0.029126 -0.0572 -0.0022943 -0.055017 0.0027998 -0.05096 0.055605 -0.12333 0.0022047 -0.029339 0.064256 -0.027417 0.011401 0.083477 0.14351 -0.0082145 0.044142 0.045876 0.043744 0.021028 0.002479 0.021684 -0.049849 0.081191 -0.082745 -0.043648 0.084918 -0.11583 0.051142 0.015329 0.048035 -0.0019471 0.071234 -0.0050783 -0.013932 0.081531 0.0054965 0.11862 -0.044804 -0.036677 0.0021003 -0.046652 -0.043117 -0.0061381 0.032579 -0.010067 0.028183 -0.043851 -0.075406 0.015252 0.023123 0.051136 0.039598 0.020455 -0.062512 0.031939 0.11679 -0.0087199 0.003547 -0.032166 -0.041739 0.13875 -0.010002 -0.05143 -0.034725 -0.069578 0.081196 0.042833 -0.0041862 0.040252 0.035893 0.080556 -0.020479 -0.025785 -0.035241 0.097389 -0.021294 -0.068747 0.02947 0.10457 -0.0020418 0.02725 -0.013581 -0.00032917 -0.082653 -0.01198 0.016966 0.011557 -0.010199 -0.058101 0.099752 0.07315 -0.027433 0.032686 0.011182 -0.032987 -0.025618 0.040406 0.048697 -0.03009 -0.07694 0.0069482 0.024945 0.11496 -0.0094667 -0.11034 -0.067068 -0.035907 -0.038708 -0.037554 0.03677 0.0014429 -0.063953 0.087371 0.007301 -0.10545 -0.025655 0.019138 -0.078083 0.015916 -0.036992 -0.019228 0.012083 0.010073 -0.0067646 0.071748 -0.031129 0.0057205 -0.034569 -0.05927 0.03188 -0.070567 -0.043705 -0.08998 0.045675 -0.008127 -0.066372 -0.035217 0.047187 0.041089 -0.032378 0.0049472 0.056088 0.019942 0.0099116 -0.071272 0.054425 -0.017939 -0.043828 0.095211 -0.029791 0.10892 0.026394 0.16312 -0.10687 0.01106 0.015894 0.079761 0.0057382 0.017619 0.00093688 -0.043089 -0.07028 -0.026154 0.12381 0.10895 0.047523 0.030511 0.061581 -0.11321 0.006658 -0.026955 -0.01161 0.034417 -0.065285 -0.020472 -0.009398 0.06219 0.085007 0.035017 -0.0085913 0.057448 -0.095805 0.074957 0.011851 -0.02649 0.0039352 -0.032602 0.049357 -0.0052472 -0.0062292 0.089801 0.055593 0.0090454 -0.11805 -0.037408 -0.10095 -0.073387 0.04868 0.016929 0.004044 -0.086961 -0.039512 0.016262 -0.0062783 -0.032466 0.095067 -0.0092887 -0.042133 -0.038293 -0.035929 -0.051962 -0.1783 0.17841 -0.028134 -0.059568 0.045389 0.10338 -0.021548 -0.021965 -0.0070823 0.034531 -0.052153 0.0069379 -0.0093319 0.039013 -0.0057388 0.051783 0.051701 -0.0096116 0.062603 0.017584 0.095601 -0.11048 -0.017153 -0.023543 0.0091056 0.00075463 -0.083037 0.0075707 -0.081815 -0.056289 0.035032 -0.016881 0.049688 0.068051 0.025559 -0.058542 0.085938 0.048517 -0.040457 -0.087235 0.076723 -0.1494 0.0097141 0.053553 -0.098495 0.033143 -0.099227 0.16605 0.0087911 -0.059894 0.030219 0.0021978 0.04052 0.070045 0.0077195 -0.061237 -0.0050242 \n",
            "-0.040389 0.15474 0.028241 0.046519 0.091003 0.073898 0.033705 0.0067017 -0.047939 0.02002 -0.04444 -0.026733 0.014066 0.0098985 -0.04365 0.04814 -0.013354 -0.0006253 0.014049 -0.058581 -0.026743 0.0078449 -0.093914 0.0054418 -0.044403 -0.046262 0.029387 0.051879 -0.031967 0.025559 0.10325 -0.019434 0.02308 0.03901 -0.086428 0.017973 0.046588 -0.070755 0.031795 0.056054 -0.030811 0.07124 0.028658 0.089121 0.063875 0.038229 0.086626 -0.097104 -0.056146 -0.030782 -0.054504 0.061231 0.053116 -0.051956 0.027364 0.093438 -0.0013805 0.028096 -0.047154 -0.007463 -0.052022 0.0014104 0.10505 -0.079288 -0.0010919 -0.0048922 0.0077842 -0.018471 0.077983 -0.030114 -0.14197 0.081297 0.015219 -0.025432 0.041666 -0.078386 -0.0034461 -0.0071046 0.023663 0.038712 -0.0020481 -0.0080809 -0.021147 0.030396 0.086037 -0.017534 -0.052399 -0.090771 -0.020051 -0.023184 0.017339 -0.0011855 -0.050178 0.018476 0.071967 0.088508 0.090528 -0.068386 0.018844 0.12933 0.098689 -0.02888 -0.026983 0.073047 0.012532 0.029753 0.023103 0.091634 -0.021325 0.005932 0.0088231 -0.030109 0.003344 0.030491 0.012601 -0.094981 0.04089 -0.012629 0.045904 -0.040402 -0.021434 0.050937 -0.0013941 0.096924 0.0021026 -0.017664 -0.043235 -0.086106 0.0035435 -0.035072 -0.038025 0.047871 -0.0082292 0.040782 0.011369 0.080956 -0.044612 0.01897 -0.050932 -0.045741 0.090061 0.022208 -0.041125 -0.027894 -0.019459 -0.10588 -0.13957 -0.00023792 -0.058603 -0.018824 -0.074132 0.01292 0.02076 0.021327 -0.029062 0.035741 0.038092 0.027801 0.011455 0.039852 0.0096799 0.035082 0.038468 -0.014088 -0.14136 -0.069322 -0.019881 0.075043 0.011733 0.067397 0.013182 0.051504 0.021654 -0.029079 0.025889 0.1261 -0.0094431 -0.028188 0.059997 -0.029288 0.066874 0.053693 0.091349 -0.087094 -0.017336 0.097851 0.012116 -0.086265 0.049459 -0.0085224 0.043798 0.08224 -0.044846 -0.072977 0.088585 0.022848 -0.077747 0.022563 0.10698 0.071305 -0.013831 0.10015 0.00049479 -0.02827 -0.012702 0.051987 0.055678 0.10021 0.031777 -0.079329 -0.0022556 -0.072381 -0.032704 0.092679 -0.05989 0.063165 0.058693 0.052128 -0.063818 0.046623 -0.035329 -0.0083555 -0.043114 0.023179 0.0047791 0.044297 -0.039772 0.014269 -0.01307 0.042876 -0.012362 -0.12903 -0.006552 -0.011655 0.091004 0.13104 0.051319 0.053532 0.142 -0.0079127 -0.032001 0.0094073 0.0056655 -0.055306 0.20005 -0.044356 0.033255 0.027593 0.040676 0.12004 0.048541 0.0012073 0.023403 -0.036274 0.056352 -0.0091416 -0.065442 0.066031 0.10803 0.11233 0.059309 0.12451 -0.023855 0.046295 -0.033323 0.0049323 0.00016578 -0.036203 -0.0021306 -0.070862 -0.0219 -0.058721 -0.059512 -0.055971 0.050332 0.043395 -0.0018019 0.010369 0.021624 0.035583 -0.111 -0.14744 -0.038065 -0.055934 -0.12432 0.038731 0.018122 -0.046501 -0.035818 -0.021108 -0.04129 0.07163 -0.0053058 0.052776 0.052481 -0.035529 -0.097327 -0.012266 -0.034061 0.10664 \n",
            "-0.0028929 0.024132 -0.027676 0.18092 -0.049547 -0.032932 0.014431 -0.018984 -0.022279 -0.025684 -0.034153 -0.0099598 0.011275 0.010588 -0.052425 0.043969 0.0020969 -0.004577 -0.025932 -0.0018879 0.0059662 0.0059849 -0.0018111 -0.088089 -0.093333 -0.061297 0.02189 0.029783 0.035788 0.00034113 0.020572 -0.0065826 0.070087 -0.17414 -0.051325 0.016643 -0.02996 -0.061919 -0.02548 -0.054954 -0.017404 0.021167 -0.076516 0.017825 -0.02092 -0.0083763 -0.028704 0.042662 -0.018856 -0.00066442 -0.0052958 0.020344 0.002649 -0.044489 -0.0051061 -0.050586 0.031654 0.030016 -0.040632 -0.036592 -0.048627 -0.022351 -0.0062969 -0.060751 0.02392 -0.061169 -0.049462 0.031584 -0.017094 -0.031751 0.013812 0.065681 0.035413 0.0048049 0.017383 -0.040993 -0.0074584 0.016124 0.14781 0.10758 -0.029482 0.032049 -0.041269 0.052313 -0.05673 -0.010076 0.020958 -0.0053756 0.0052944 0.070157 -0.11006 0.021983 0.032375 -0.010163 -0.033158 0.072171 0.020535 0.012128 0.020173 0.029856 0.042927 0.01883 -0.0019258 -0.11622 0.011221 0.050502 -0.052037 0.0060472 0.027987 0.03161 0.040483 -0.043755 -0.048165 -0.023203 0.0055416 -0.033594 -0.038462 0.009146 -0.035111 -0.0037534 0.010217 0.0045408 0.079485 0.032838 0.010209 0.11811 0.022563 -0.0041396 0.0053335 0.12561 -0.018243 0.020447 0.0026843 0.051083 -0.017347 0.004998 -0.021006 -0.00098111 0.034876 -0.067945 0.032711 0.004755 0.016254 0.030694 -0.049632 0.016878 -0.23575 -0.015555 0.0098081 0.00016192 -0.10848 0.075826 0.010322 -0.034081 0.03268 0.021736 0.12416 -0.0036424 0.0069408 0.0374 -0.044418 -0.066152 0.054411 -0.027832 0.018986 0.0022584 0.018262 0.074678 0.00056851 0.018496 -0.055547 0.02679 0.027916 0.0017429 -0.03599 -0.013298 0.006522 0.059724 0.0045266 -0.046189 -0.041944 0.06039 -0.004798 -0.012981 0.024428 0.048554 0.084259 -0.093949 -0.020717 -0.061975 -0.081965 0.010414 0.037596 0.014367 0.0025791 -0.025373 -0.022036 0.024893 0.032878 0.11598 -0.081834 0.19695 -0.015395 -0.012485 -0.02942 -0.031425 0.023484 -0.07663 0.019386 0.053053 0.053934 0.01096 -0.083018 -0.011426 -7.06e-05 -0.0089741 0.031054 0.016568 0.020977 -0.030211 0.035557 -0.005947 -0.0043167 0.082491 0.019765 0.044525 0.011088 -0.019234 -0.060343 -0.044349 -0.052176 0.010122 -0.066139 0.01592 0.014005 0.063707 0.04384 -0.11049 0.019636 -0.057244 -0.010932 -0.002903 -0.19624 -0.15287 0.20003 0.027243 0.054854 -0.020353 -0.089479 0.036023 -0.034092 -0.16244 0.031564 -0.029751 0.021356 0.038949 -0.033362 -0.03484 -0.10078 0.0098582 -0.0559 0.036887 0.0022882 -0.024851 -0.11104 0.022328 0.056993 -0.070796 0.18785 -0.050765 0.03081 -0.015369 -0.059346 -0.15538 -0.043444 0.034529 -0.045288 0.011117 -0.14837 -0.030867 0.014536 0.010202 -0.099602 -0.053329 0.057058 -0.0095027 0.04375 -0.078778 -0.014359 0.021251 0.069469 0.032664 -0.091198 0.030353 -0.043467 0.01307 0.010328 0.25871 -0.039792 -0.013097 \n",
            "0.029603 -0.027713 0.021338 -0.032161 -0.050523 0.031144 0.1265 -0.018943 -0.01456 -0.015087 0.05446 -0.0023092 -0.019035 0.00053297 0.041024 -0.013211 0.013726 0.0070087 -0.011296 -0.066508 0.010244 0.019268 0.022918 -0.018808 -0.10374 -0.030911 0.007897 0.034934 0.047244 0.0639 -0.10445 0.031851 -0.015141 -0.036016 0.002873 -0.010336 0.13488 -0.070467 0.021016 -0.011926 0.02175 -0.0069658 -0.035681 0.017357 -0.053931 0.095684 -0.011163 0.080951 -0.05653 -0.037907 -0.034136 -0.022712 0.10075 0.0017456 -0.044975 -0.051511 0.015651 -0.10619 0.020566 0.0093803 -0.027317 -0.013232 -0.068131 -0.11452 0.017056 0.0071245 -0.020555 -0.036555 -0.030318 -0.0070672 0.12627 -0.006372 0.041157 -0.096644 0.0068815 -0.014275 0.040452 0.058613 0.018015 0.080886 0.011554 -0.021997 0.0026429 -0.0062399 -0.019114 -0.01884 0.0671 0.01292 0.049792 -0.047252 0.024052 -0.0038731 0.079705 0.03946 0.053037 0.042265 -0.0078104 0.053692 0.027806 -0.029294 0.036875 0.053933 -0.012396 -0.1 0.047413 0.036009 0.012015 0.047592 0.022174 0.01119 0.045319 -0.13982 -0.031812 -0.038255 0.024836 -0.00074483 -0.065287 -0.0016298 0.010309 -0.00081568 0.048233 0.022169 0.10562 -0.032314 -0.011827 -0.016761 0.020396 -0.08324 0.019342 0.076895 -0.01322 -0.0061399 0.012989 -0.055401 0.015302 -0.018769 -0.017176 0.0069617 0.021765 0.11099 -0.02101 -0.046847 -0.011026 -0.003703 0.082201 0.059189 -0.13923 0.018993 0.055877 -0.056287 -0.18135 -0.026985 -0.070759 -0.027013 0.015249 0.0042639 -0.016166 -0.021922 0.0042743 0.010854 -0.012915 -0.073319 0.011667 -0.0059691 -0.033228 -0.0076284 -0.0037233 -0.011803 -0.046725 0.047756 -0.026616 -0.0076376 0.016535 0.034056 0.029586 -0.013546 0.045334 -0.0055116 -0.011583 0.0073769 -0.047308 0.080876 0.04639 0.043053 0.036921 0.08209 0.011391 0.0053984 -0.0041348 -0.034275 0.0064364 0.030613 0.017433 -0.030695 0.010486 0.040583 -0.014092 0.015354 -0.026816 0.080009 -0.057661 0.19132 -0.0034901 -0.063904 0.044909 0.034849 -0.057218 0.011862 -0.050862 0.051991 -0.10615 0.034542 -0.15402 -0.016601 0.013526 -0.025575 0.010922 0.02522 -0.025613 -0.011567 -0.040568 -0.011138 -0.016545 0.019437 -0.043607 -0.070489 0.020766 -0.0054932 -0.071386 0.0052955 -0.010112 -0.003929 0.11959 0.027723 0.024381 0.062964 0.00099547 0.025005 0.0046378 0.0096477 -0.038539 0.056963 0.048216 -0.088897 0.35187 -0.010471 0.055865 -0.02577 -0.041345 0.12887 0.020694 0.090456 -0.048597 0.02999 0.018404 -0.036139 0.024259 -0.030955 -0.00032346 -0.040741 -0.046708 0.11978 -0.090862 -0.0072206 0.04728 0.018735 -0.010957 -0.021406 0.1107 -0.16055 -0.0020609 -0.063179 0.074116 0.0094667 0.059083 -0.015514 -0.0064011 0.078647 0.055846 -0.0033425 -0.10542 -0.020398 -0.10417 -0.050401 -0.0021769 -0.01547 0.094794 -0.040347 -0.028119 0.043651 0.1358 -0.027743 -0.13769 -0.11378 0.012321 0.013893 0.068018 0.21468 -0.035946 0.0027965 \n",
            "0.020229 0.041188 0.075922 0.046076 -0.10357 -0.055299 0.038953 -0.04749 -0.0005183 -0.0077011 -0.01054 -0.004037 -0.01709 0.024214 0.019889 0.00072231 0.087271 0.018245 -0.025504 0.087257 -0.036731 -0.002179 0.026618 0.00063274 -0.10774 -0.0018623 0.024939 -0.011652 0.043913 0.0031081 0.0074706 0.0035516 0.067683 0.16676 0.030538 -0.039952 0.053778 0.10428 -0.061245 -0.017493 0.0086408 0.051022 -0.035264 0.049522 0.056709 0.0032805 -0.0314 0.018202 -0.027425 0.037186 0.028708 -0.0019912 -0.018846 -0.018123 -0.05971 0.012658 0.0034404 -0.01582 -0.1412 -0.082719 0.0017365 -0.01745 -0.056285 0.0044864 -0.060018 -0.0058124 -0.024584 0.036617 0.0024254 -0.041827 -0.05292 0.0052008 -0.027695 0.004288 -0.021994 -0.011231 0.029924 0.030324 0.012552 -0.064529 0.023762 -0.020086 -0.044621 0.032139 -0.028298 -0.002933 0.0085617 -0.081118 0.0050392 -0.043809 0.019335 0.071372 0.15206 -0.030043 0.054278 -0.083235 -0.071235 0.043919 -0.049461 0.02897 0.017928 0.025201 0.049154 -0.1323 -0.0076543 -0.034077 0.042624 -0.032351 -0.0683 -0.00656 -0.0043136 0.097145 -0.036368 0.038462 -0.10486 -0.047968 -0.042511 -0.0069175 0.023012 0.03678 -0.013865 0.060936 -0.018621 -0.036187 -0.03789 0.096247 -0.012769 0.0058619 -0.064502 -0.060594 -0.015535 -0.030362 0.00388 0.10535 0.039607 -0.056025 -0.064461 0.015478 -0.033964 -0.087265 -0.031874 0.021422 0.06774 0.033111 0.019936 0.10535 -0.23456 -0.03541 0.065868 0.036089 -0.057168 -0.0081397 -0.014068 0.10387 0.010405 -0.029811 0.083301 -0.086749 -0.0065387 0.060788 0.019295 -0.012504 0.018586 -0.035807 0.035864 0.011454 0.0048032 0.013207 0.066593 0.026992 -0.035214 -0.016386 -0.012257 -0.015517 0.010557 -0.026586 -0.010386 -0.15193 0.026361 -0.029086 0.0078695 0.041382 -0.003392 0.0026171 0.030206 0.053308 0.12496 -0.015915 0.013805 -0.023792 -0.048426 -0.036877 0.047192 -0.017289 -0.013495 0.036522 -0.055364 0.020426 0.040987 0.087405 -0.068209 0.075926 0.0087191 -0.018282 -0.010532 -0.00657 0.0072549 0.011212 0.045982 -0.05047 -0.057994 -0.031374 -0.085218 -0.012138 0.027672 -0.053012 0.031918 -0.029037 0.049292 0.073952 0.10023 0.044045 -0.0056698 0.10934 0.041323 -0.056372 -0.0087977 -0.029188 0.10806 0.012248 -0.017786 0.014474 0.07485 -0.019128 -0.016872 -0.019479 -0.027059 0.061862 -0.039015 0.0018297 0.0058384 0.04974 -0.042696 -0.12983 0.2751 0.076582 -0.017504 0.022624 0.065816 0.061502 0.065179 0.015252 0.017803 -0.024507 -0.022476 -0.027254 -0.054431 -0.087601 0.073775 0.014849 -0.021811 0.024537 0.046347 0.04223 -0.082877 0.089038 0.00055812 -0.053106 0.036963 -0.17008 -0.0047525 -0.057985 -0.10721 -0.0030535 -0.12477 0.12765 0.0021997 0.052504 -0.19807 -0.030901 0.0045393 -0.037641 -0.12938 -0.028677 0.050033 -0.028071 0.0095414 -0.080339 -0.045498 -0.032467 0.093283 0.026452 -0.13147 -0.064161 -0.01089 0.059929 -0.019824 0.049058 -0.0053323 -0.084392 \n"
          ],
          "name": "stdout"
        }
      ]
    },
    {
      "cell_type": "code",
      "metadata": {
        "id": "5OTfpAPX5lD_",
        "colab_type": "code",
        "outputId": "8b350f42-d111-42f9-8d4b-24bbafb89f40",
        "colab": {
          "base_uri": "https://localhost:8080/",
          "height": 34
        }
      },
      "source": [
        "from keras.preprocessing.text import text_to_word_sequence\n",
        "total_tokens =[]\n",
        "for i in range(len(clean_data.text)):\n",
        "    total_tokens.append(text_to_word_sequence(clean_data.text[i]))\n",
        "t = np.array(total_tokens)"
      ],
      "execution_count": 0,
      "outputs": [
        {
          "output_type": "stream",
          "text": [
            "Using TensorFlow backend.\n"
          ],
          "name": "stderr"
        }
      ]
    },
    {
      "cell_type": "code",
      "metadata": {
        "id": "IKk3MsZR5r7J",
        "colab_type": "code",
        "colab": {}
      },
      "source": [
        "c =[]\n",
        "for w in range(len(data.text)):\n",
        "    for k in t[w]:\n",
        "            c.append(k)"
      ],
      "execution_count": 0,
      "outputs": []
    },
    {
      "cell_type": "code",
      "metadata": {
        "id": "R-7NEHDt4V51",
        "colab_type": "code",
        "outputId": "8cdafecc-7dd0-4a53-ff12-483d32536f70",
        "colab": {
          "base_uri": "https://localhost:8080/",
          "height": 884
        }
      },
      "source": [
        "# Most use words\n",
        "v = pd.DataFrame(c)\n",
        "v[0].value_counts().head(50)"
      ],
      "execution_count": 0,
      "outputs": [
        {
          "output_type": "execute_result",
          "data": {
            "text/plain": [
              "you         107545\n",
              "is           95373\n",
              "have         71027\n",
              "not          64200\n",
              "my           59495\n",
              "we           57296\n",
              "will         46106\n",
              "be           44238\n",
              "are          44165\n",
              "your         41763\n",
              "can          30841\n",
              "i            28415\n",
              "am           26773\n",
              "do           25513\n",
              "would        24391\n",
              "just         24269\n",
              "thanks       23856\n",
              "get          23742\n",
              "wa           23676\n",
              "all          23108\n",
              "update       22841\n",
              "they         20080\n",
              "at           19900\n",
              "me           19844\n",
              "out          19403\n",
              "received     19376\n",
              "one          19230\n",
              "please       18611\n",
              "any          18516\n",
              "no           17529\n",
              "like         17376\n",
              "our          16655\n",
              "about        16426\n",
              "hi           16210\n",
              "still        15659\n",
              "been         14771\n",
              "product      14475\n",
              "thank        14410\n",
              "now          14335\n",
              "time         14319\n",
              "ha           13795\n",
              "project      13096\n",
              "backer       12993\n",
              "great        12733\n",
              "some         12646\n",
              "very         12631\n",
              "know         12601\n",
              "got          12543\n",
              "order        12413\n",
              "shipping     12355\n",
              "Name: 0, dtype: int64"
            ]
          },
          "metadata": {
            "tags": []
          },
          "execution_count": 71
        }
      ]
    },
    {
      "cell_type": "code",
      "metadata": {
        "id": "3WyrxWHe0BJj",
        "colab_type": "code",
        "colab": {}
      },
      "source": [
        "import fileinput\n",
        "#Replace all spaces by commas and create a csv\n",
        "with fileinput.FileInput('Embeddingcw3.tsv', inplace=True, backup='.bak') as file:\n",
        "    for line in file:\n",
        "        print(line.replace(' ', ','), end='')"
      ],
      "execution_count": 0,
      "outputs": []
    },
    {
      "cell_type": "code",
      "metadata": {
        "id": "ZZYTxcP90Mw2",
        "colab_type": "code",
        "colab": {}
      },
      "source": [
        "import numpy as np\n",
        "import os\n",
        "\n",
        "# Create the first line\n",
        "firstLine = ','.join(['D'+str(i) for i in np.arange(1, 301)]) + '\\n'\n",
        "\n",
        "# Open as read only. Read the file\n",
        "with open('Embeddingcw3.tsv', 'r') as original: \n",
        "  data = original.read()\n",
        "\n",
        "# Open to write and write the first line and the rest\n",
        "with open('Embeddingcw3.csv', 'w') as modified: \n",
        "  modified.write(firstLine + data)"
      ],
      "execution_count": 0,
      "outputs": []
    },
    {
      "cell_type": "code",
      "metadata": {
        "id": "YW7_q0Jt0YV0",
        "colab_type": "code",
        "outputId": "de5c2008-eb09-4dae-9a9c-c6e9b2f4fe86",
        "colab": {
          "base_uri": "https://localhost:8080/",
          "height": 207
        }
      },
      "source": [
        "!head Embeddingcw3.csv"
      ],
      "execution_count": 0,
      "outputs": [
        {
          "output_type": "stream",
          "text": [
            "D1,D2,D3,D4,D5,D6,D7,D8,D9,D10,D11,D12,D13,D14,D15,D16,D17,D18,D19,D20,D21,D22,D23,D24,D25,D26,D27,D28,D29,D30,D31,D32,D33,D34,D35,D36,D37,D38,D39,D40,D41,D42,D43,D44,D45,D46,D47,D48,D49,D50,D51,D52,D53,D54,D55,D56,D57,D58,D59,D60,D61,D62,D63,D64,D65,D66,D67,D68,D69,D70,D71,D72,D73,D74,D75,D76,D77,D78,D79,D80,D81,D82,D83,D84,D85,D86,D87,D88,D89,D90,D91,D92,D93,D94,D95,D96,D97,D98,D99,D100,D101,D102,D103,D104,D105,D106,D107,D108,D109,D110,D111,D112,D113,D114,D115,D116,D117,D118,D119,D120,D121,D122,D123,D124,D125,D126,D127,D128,D129,D130,D131,D132,D133,D134,D135,D136,D137,D138,D139,D140,D141,D142,D143,D144,D145,D146,D147,D148,D149,D150,D151,D152,D153,D154,D155,D156,D157,D158,D159,D160,D161,D162,D163,D164,D165,D166,D167,D168,D169,D170,D171,D172,D173,D174,D175,D176,D177,D178,D179,D180,D181,D182,D183,D184,D185,D186,D187,D188,D189,D190,D191,D192,D193,D194,D195,D196,D197,D198,D199,D200,D201,D202,D203,D204,D205,D206,D207,D208,D209,D210,D211,D212,D213,D214,D215,D216,D217,D218,D219,D220,D221,D222,D223,D224,D225,D226,D227,D228,D229,D230,D231,D232,D233,D234,D235,D236,D237,D238,D239,D240,D241,D242,D243,D244,D245,D246,D247,D248,D249,D250,D251,D252,D253,D254,D255,D256,D257,D258,D259,D260,D261,D262,D263,D264,D265,D266,D267,D268,D269,D270,D271,D272,D273,D274,D275,D276,D277,D278,D279,D280,D281,D282,D283,D284,D285,D286,D287,D288,D289,D290,D291,D292,D293,D294,D295,D296,D297,D298,D299,D300\n",
            "0.067962,-0.027794,0.084447,0.056826,-0.094627,-0.058096,-0.060723,-0.010035,0.12078,-0.054994,-0.045726,-0.021933,-0.014508,0.064727,-0.01165,-0.026876,0.072283,0.0087605,-0.0077039,0.12603,-0.0080177,-0.018998,0.001528,-0.043294,-0.10989,0.0061052,-0.00068765,0.015763,0.023973,0.12308,-0.013908,0.01139,-0.0060834,-0.037059,-0.064323,-0.011881,0.040528,0.0017495,-0.077769,-0.019846,0.023952,0.015955,-0.055762,0.052711,0.088267,0.057441,-0.009343,0.073337,0.11035,-0.0072758,-0.029116,0.00063062,-0.010745,-0.040155,-0.0014422,-0.020181,-0.05099,0.042996,-0.075879,-0.026435,0.020733,-0.012959,-0.040177,-0.021111,-0.0005912,-0.0092915,0.039027,0.017556,0.033545,0.0085149,-0.083342,0.028266,-0.036417,-0.00675,0.025262,-0.022873,0.0087377,0.0069692,-0.012884,0.066102,-0.0010204,0.027226,-0.050064,0.044931,0.069905,-0.0037209,-0.0093848,-0.00052152,0.01032,-0.042099,-0.022879,-0.049246,0.22212,-0.075661,0.0023461,-0.039793,0.061976,0.080048,0.043216,0.028492,0.0014867,0.041867,0.082212,-0.16723,-0.045031,-0.0093346,0.012315,-0.025935,-0.0036588,0.098624,0.034889,-0.026047,0.001375,0.1364,-0.052296,-0.02447,-0.047885,0.0099,0.0068129,-0.0013161,0.012653,0.037677,-0.017218,-0.014892,0.085965,0.024758,0.001244,-0.035997,-0.019061,0.027583,0.032925,-0.12339,0.020624,0.03656,0.062114,-0.017379,-0.090043,-0.009976,-0.0013746,-0.011697,-0.073768,0.018776,0.014834,-0.008624,0.042163,0.066541,-0.26905,-0.0069084,-0.015216,-0.031416,-0.0081872,0.042648,0.024671,0.042398,0.0033948,-0.013268,0.092416,0.076279,0.013227,0.0076502,0.035375,0.041017,-0.025999,-0.060301,0.034555,-0.031704,0.0040252,0.025188,0.073569,-0.016581,0.065968,0.0082457,-0.013391,-0.022377,0.014268,-0.037955,0.0088628,-0.098889,0.0002758,-0.043557,-0.0025219,0.013648,0.043365,0.014738,0.064212,-0.069037,0.070885,0.0027553,-0.0092643,-0.026763,-0.047084,-0.042286,-0.0057718,0.042961,-0.035808,0.065284,0.046514,0.031572,0.028531,0.10526,-0.071515,0.023798,-0.034382,-0.0052777,-0.076336,-0.027823,-0.044166,-0.026366,-0.051447,0.029063,0.047003,-0.028716,-0.070852,0.00098145,0.039053,-0.01964,0.010469,-0.010647,0.02106,-0.015447,-0.0022288,0.066031,-0.013197,0.056851,-0.052536,-0.036154,0.060306,-0.061465,-0.029136,-0.012837,-0.010245,0.01381,-0.026908,0.00073633,-0.015069,-0.045017,-0.050942,0.031373,-0.020776,-0.026636,0.0073613,-0.064791,-0.0067165,-0.10781,0.19856,-0.013913,-0.067455,0.0096471,0.032786,0.019504,0.048435,0.0059335,-0.029435,-0.099964,0.0091401,0.035666,-0.023269,0.019693,0.077685,0.020688,0.00072183,0.011155,0.020611,0.054957,-0.11455,0.012316,0.069299,0.0063711,0.025168,-0.17267,-0.01596,-0.049332,-0.12339,0.050253,0.040121,0.036691,0.044499,0.020413,-0.016366,0.092672,-0.082893,0.01981,-0.26141,-0.063299,-0.046692,0.00017878,-0.045311,-0.12147,0.081489,-0.060684,0.065402,0.057497,-0.077097,-0.019899,-0.024112,0.010169,0.056988,0.22954,-0.040042,-0.10308,\n",
            "-0.031645,-0.067418,-0.033575,-0.0051846,-0.077769,-0.014531,0.00096782,0.032046,-0.013072,-0.016324,-0.02992,0.013075,0.026857,-0.0083021,-0.057892,0.09966,0.0092115,-0.026159,-0.014019,-0.013609,-0.005136,0.037134,-0.017824,-0.010961,0.053454,-0.0064973,0.0048655,0.020265,-0.066568,0.098669,-0.031,0.0019538,-0.021089,0.011776,-0.0051042,-0.0058845,0.067536,-0.14381,0.061807,-0.035058,-0.046964,-0.0067761,-0.017991,-0.018368,0.073118,-0.017712,-0.027166,0.052068,0.030407,0.0089143,-0.010787,-0.095507,-0.026588,-0.030413,0.0013841,-0.039803,-0.019472,-0.084092,-0.026457,0.017478,0.0037656,-0.035844,-0.015722,-0.096457,-0.0085012,0.0052233,-0.018941,-0.0012207,0.012298,0.011908,0.063155,-0.030346,-0.00020445,0.0044543,-0.011221,-0.032672,0.054585,0.016977,-0.12211,0.0010163,0.02621,-0.0047975,-0.026208,0.024992,-0.085965,-0.041149,0.093917,-0.044801,0.037278,-0.0069484,-0.023098,-0.037817,0.062252,-0.038697,-0.02563,0.18043,-0.17724,0.02466,-0.026841,-0.016565,-0.00063839,0.027896,0.036709,-0.0081064,-0.031637,0.036467,0.029702,0.010041,0.0025802,0.039636,-0.0005633,0.05154,0.011939,-0.035545,0.013909,-0.020936,0.010392,0.036263,-0.010504,-0.053844,2.9983e-07,0.037842,0.040589,0.0009187,-0.0036285,-0.01873,-0.023595,-0.016715,-0.018426,0.060155,0.0049349,-0.034691,0.13029,-0.025687,0.0044656,-0.0062849,-0.18287,-0.035868,0.035171,0.042677,0.01149,0.011044,-0.039295,0.020355,-0.078262,-0.00066689,-0.30235,-0.018309,-0.0076933,-0.036969,-0.11149,-0.012308,0.036861,0.024119,0.0072186,0.018432,0.070812,-0.017184,-0.022055,0.0072829,0.017065,-0.022378,0.03934,0.0081614,0.017658,-0.0035908,-0.0074141,-0.048315,-0.011317,0.00076053,-0.027651,-0.013667,0.023784,-0.0042666,0.001361,-0.031783,-0.0015576,0.02562,-0.034145,0.015623,-0.010536,0.15263,-0.046012,-0.0061134,0.035841,0.042472,-0.070439,-0.018658,0.0075753,0.034078,-0.032387,-0.096667,-0.024841,0.013423,0.032871,0.013414,-0.0039023,-0.037506,0.010504,0.0012665,-0.015437,0.094933,0.011772,0.013597,0.049307,0.024622,0.0058101,-0.011312,-0.037035,-0.0053296,0.0034064,0.026962,-0.12838,0.054537,-0.012569,-0.023263,0.0060444,-0.0042536,0.021758,0.0050341,0.056818,-0.016255,-0.00044157,0.060068,0.028485,-0.047338,0.054356,0.021086,0.028724,0.0010327,0.011323,0.00019532,0.099374,-0.02094,-0.0015251,-0.091733,0.0080634,-0.038634,-0.034671,0.0054171,0.00888,-0.0058243,0.077075,0.0027592,0.43148,-0.051825,0.029026,0.037679,-0.080402,0.047468,-0.0076842,-0.006872,-0.027657,-0.064752,-0.0043771,-0.017031,-0.029736,-0.037576,-0.050873,-0.011796,-0.0058014,0.21911,-0.033243,-0.02955,-0.033897,-0.047974,0.020396,-0.030119,0.088287,-0.074395,0.0038974,-0.06225,0.026552,-0.0074113,-0.021678,-0.077479,-0.1604,-0.05327,-0.0024661,-0.068678,0.026108,0.030404,-0.23742,-0.082187,0.022986,-0.0095126,0.058426,-0.023502,-0.0055588,0.0063215,0.019243,0.011719,-0.059033,0.045568,-0.028094,0.0078568,0.021364,-0.073858,-0.072651,0.028801,\n",
            "-0.004955,0.031584,0.014314,0.13914,-0.13055,-0.045248,0.028588,-0.0203,-0.012828,-0.054478,-0.0055729,0.020397,-0.054217,-0.003356,0.018501,0.0049104,0.040757,-0.012242,-0.054108,0.021051,0.036678,0.014022,0.0038597,-0.064751,-0.053208,-0.062652,-0.010987,0.018452,0.015949,0.013004,0.028509,-0.02719,-0.032398,0.047762,-0.057441,-0.046621,-0.070701,-0.019178,-0.041371,-0.026952,0.016084,0.011012,-0.029226,0.051147,0.077764,0.095107,0.019351,0.002052,0.0031627,-0.0019049,0.00148,-0.018647,0.026583,-0.008306,0.0010329,0.026028,0.0099383,-0.01476,-0.12852,-0.0048111,-0.048449,-0.021697,-0.0037605,-0.033484,-0.010424,-0.029176,-0.049563,-0.014019,0.027601,-0.016138,-0.14522,-0.011206,0.020986,0.014173,0.032044,-0.011613,-0.0055603,0.048497,-0.070405,0.14215,-0.050498,-0.011717,-0.029342,0.032713,0.10551,0.00089712,-0.010154,-0.017253,0.030004,0.04412,0.0085472,0.00051443,0.10092,-0.0091305,0.078234,0.04909,0.12164,0.031249,-0.016328,-0.00034714,0.046959,0.037303,0.01795,-0.13185,0.013556,-0.037993,-0.0025413,-0.011822,-0.0060636,0.015917,0.044242,-0.049188,-0.029424,-0.0427,-0.026892,-0.062453,-0.05397,-0.0010642,0.028496,-0.0058256,0.0098826,0.010329,0.040362,0.024656,0.039429,0.064198,0.0035479,-0.045725,-0.016786,-0.0066803,-0.013634,-0.012368,-0.072351,0.15749,0.046626,-0.030635,-0.13132,0.054506,-0.0077638,0.010843,-0.020423,5.3403e-05,0.063642,0.006738,0.097657,0.058965,-0.24459,0.005407,-0.02266,0.019873,-0.10992,0.0086807,0.055932,0.017361,0.0072775,0.013699,0.048773,-0.01467,0.02069,0.0071945,0.014016,-0.0096115,0.00047435,-0.051002,-0.0030955,-0.0044303,-0.027898,0.043119,0.004801,-0.016742,-0.0041913,-0.0098655,0.044001,-0.035633,0.00099297,0.014583,-0.036874,-0.040924,0.030343,-0.020648,0.019269,0.025529,0.078707,-0.086149,0.067086,0.012091,0.076869,-0.074484,-0.052465,0.0053819,-0.024195,-0.0077748,0.0021313,-0.0095398,0.027155,0.010888,-0.054337,0.099712,-0.017309,0.11456,-0.090461,0.056318,0.01678,-0.017288,-0.030628,0.0080516,-0.010441,-0.028358,-0.021004,0.04777,-0.018208,0.020962,-0.012811,-0.032567,0.050047,-0.0083838,0.010119,-0.023448,0.00061983,0.022592,0.08852,-0.00075467,0.028828,0.083001,-0.017244,0.012944,-0.0041305,-0.012126,0.12328,-0.012589,0.0069226,-0.053715,-0.025136,0.015958,0.031327,-0.099468,-0.025596,-0.033129,0.011036,0.02173,-0.033364,-0.077136,-0.074573,-0.1147,0.28315,0.0091929,0.025797,-0.011246,-0.016829,0.1304,-0.017039,0.18771,-0.019143,-0.050434,0.00091119,0.029384,-0.07508,-0.053523,0.062281,0.030181,-0.013656,0.18027,0.0086902,0.031587,-0.083584,0.026869,-0.01612,0.0070252,0.016843,0.0071541,-0.018975,-0.037776,-0.12935,0.11545,0.0015688,0.022331,0.15731,0.18764,0.035922,0.14962,-0.10871,-0.016544,-0.1801,0.022396,0.023182,-0.014658,0.016149,-0.13234,-0.027277,-0.045909,-0.016469,0.011825,-0.063886,-0.091359,0.0028451,0.022979,-0.022206,0.05092,-0.0067904,0.01207,\n",
            "-0.043788,0.010765,-0.0093959,0.17058,-0.063025,-0.041678,-0.037263,-0.044098,0.01462,-0.028619,-0.0059088,0.029382,0.0048629,-0.0089858,0.0034845,0.069706,0.012286,-0.015933,-0.021485,0.13178,-0.002054,0.0032793,0.028974,0.0048759,0.047416,-0.039125,-0.022167,0.0041181,0.013321,0.014957,-0.067949,0.0088651,0.012891,0.032443,-0.017372,-0.012832,-0.021684,0.0031289,0.060738,-0.030396,-0.0049018,-0.0036517,0.024868,0.046457,-0.010245,-0.015817,-0.0093585,-0.035147,-0.0051291,-0.018584,-0.05635,-0.0092457,0.016998,-0.011408,-0.0077003,0.019772,-0.019994,-0.11217,-0.111,-0.00021544,-0.041821,-0.0025578,-0.026482,-0.086762,-0.025815,-0.021474,-0.018721,-0.0099812,-0.0052388,-0.017952,-0.071238,-0.0074522,0.057443,-0.02947,0.0068156,0.011459,0.055759,0.058265,-0.11308,-0.13251,-0.033243,0.021942,-0.030434,0.083691,-0.02453,-0.025112,0.095722,-0.075692,0.017203,0.10259,-0.026604,-0.038565,0.072339,-0.016736,0.027283,-0.033852,-0.13892,0.026435,-0.042506,-0.035658,0.0031628,0.012742,-0.01137,-0.11812,0.036807,0.033286,0.037954,0.0092385,-0.010517,-0.0041892,0.055706,-0.014953,-0.031332,-0.14533,-0.036741,-0.052322,-0.071802,-0.020598,0.01891,-0.011422,-0.0053982,0.025475,0.050483,0.0089071,0.096947,0.033434,0.012693,-0.043887,-0.04697,0.042998,-0.031349,-0.011091,-0.0496,0.011863,0.071795,0.041496,-0.062079,-0.0026503,0.00066459,0.054856,-0.023848,0.010116,0.01864,0.020244,0.0075507,0.064478,-0.20926,-0.0050888,-0.031096,-0.053039,-0.13303,-0.0048806,0.021678,0.032091,0.0042455,0.017185,0.046484,0.064079,-0.01721,0.026774,-0.0016303,-0.023694,0.013632,-0.064219,-0.039408,0.01091,-0.062023,-0.017753,0.046288,0.021115,0.014956,0.0049968,0.047692,0.0014027,0.038762,-0.048444,-0.047365,-0.037253,-0.0049195,-0.066579,-0.061657,-0.040039,-0.022934,-0.074922,0.047443,0.065981,-0.0098607,0.021711,0.017386,0.0066517,-0.00056564,0.027142,-0.053407,-0.040133,0.0392,0.060998,-0.043319,0.062183,0.0043065,0.096076,-0.10851,0.07756,0.013776,-0.0077558,0.0015134,-0.046176,-0.066571,-0.0081616,-0.050111,0.086248,-0.02298,-0.0087762,-0.018205,0.029613,0.05668,-0.0062271,0.035596,0.016738,0.024205,0.0089116,0.077963,-0.02856,0.068802,0.080602,0.01858,-0.024115,0.077193,0.044918,0.029606,-0.051086,-0.033411,-0.037122,-0.026919,-0.01832,0.029463,-0.076455,0.013645,0.051242,0.059664,0.029176,-0.067267,-0.11404,-0.059079,-0.16502,0.2861,-0.036184,0.024996,0.0074754,-0.055063,0.011854,0.0025796,0.0054606,-0.019123,0.012315,0.012271,-0.023882,-0.060388,-0.0574,0.052953,-0.00071113,0.056264,0.14759,0.0076202,0.071909,0.013663,-0.074257,-0.045351,-0.040847,0.085504,-0.12511,-0.0030571,-0.099299,-0.1022,0.10322,0.080685,-0.027239,-0.064388,0.17932,-0.14001,-0.0084312,-0.089382,0.012091,-0.21567,-0.061228,-0.062765,-0.019877,0.093589,-0.082976,-0.052628,-0.020546,0.042476,-0.013845,-0.11717,0.028992,0.013567,0.052655,0.015694,0.13364,-0.00080556,-0.0058011,\n",
            "0.051831,-0.0082765,-0.063624,0.011771,0.011986,-0.010644,0.018433,0.018789,-0.03641,-0.003334,0.032369,-0.057444,-0.0083108,-0.039912,-0.028866,0.10252,-0.028312,0.015421,-0.030213,-0.053344,0.019847,0.015994,0.01135,-0.031546,0.082863,-0.041706,-0.046461,-0.0014064,-0.022555,0.15418,-0.012666,-0.042745,-0.031784,-0.013719,0.043648,-0.076699,-0.023332,-0.017283,-0.014847,-0.015437,-0.0066853,0.025483,-0.025772,0.17133,-0.061474,-0.00029865,0.0091759,0.016033,-0.058256,-0.033013,0.021924,0.0085556,-0.03276,0.0049223,-0.053937,-0.077734,-0.070964,0.080274,-0.066385,0.03956,-0.025664,-0.0017839,0.014268,-0.035536,-0.028861,0.038719,-0.02908,-0.013596,0.018565,-0.042062,0.040178,-0.0031427,-0.013035,-0.049878,0.036989,-0.045577,-0.028603,-0.027863,0.074212,0.14354,-0.023706,-0.056596,-0.010631,0.030941,0.033203,-0.009654,0.0061456,0.067985,-0.033578,-0.053759,-0.054004,-0.02545,0.27677,-0.029978,-0.023868,-0.034945,0.11581,0.058273,0.012501,-0.0039922,0.043515,0.028662,-0.0077017,0.064703,0.047514,0.021146,0.0027188,0.024869,0.05224,0.011615,0.02112,-0.098227,0.017314,0.075625,-0.032551,-0.012924,-0.038213,0.054983,0.023238,0.020686,0.028768,0.025345,0.028005,-0.0032541,0.006115,0.12388,0.0015985,0.0091774,0.004329,0.071908,-0.0087791,0.0019335,0.025725,0.044615,-0.01998,-0.081657,0.0377,-0.0083164,-0.026919,0.018999,-0.028733,-0.012649,-0.019522,0.02192,0.081949,-0.01471,-0.17175,-0.033235,-0.0090343,0.055506,-0.1766,-0.0099262,0.066383,0.039602,-0.0062272,0.021179,0.10155,-0.019322,0.019095,0.043914,0.018437,0.041274,0.053148,-0.0044262,0.032578,-0.029387,0.011733,-0.028184,0.03076,-0.022345,0.024819,-0.017656,-0.031788,0.0081164,0.044427,-0.038095,0.054457,-0.0059633,0.052489,0.022214,0.062524,0.017092,0.014309,0.048347,0.024785,0.14336,-0.051432,-0.012228,0.019042,0.031307,0.0022238,0.028167,-0.0017271,-0.097506,-0.011827,-0.10014,-0.059099,-0.0064335,0.040961,0.053781,-0.03197,0.26101,0.016619,-0.024318,-0.046564,0.044168,-0.025721,-0.040944,0.03805,0.086465,-0.014934,-0.01145,0.0060862,0.028801,-0.021128,0.011734,0.018228,0.013446,0.046864,-0.043174,0.03589,-0.016773,-0.040282,-0.18951,-0.034913,-0.019729,-0.026021,-0.036842,-0.029748,-0.015,0.032989,0.041202,-0.11387,-0.057077,0.0019925,-0.024443,-0.0028671,0.0077293,0.080264,-0.054659,0.00048411,0.034076,-0.039318,-0.028927,0.3058,-0.012254,-0.011765,-0.010095,-0.016806,-0.062386,0.025002,0.047364,-0.032493,-0.038801,0.026153,-0.014734,0.064039,0.020674,-0.044473,0.076969,0.006254,-0.087479,0.020171,-1.4256e-06,0.093167,-0.03111,-0.070706,-0.014756,-0.0087232,-0.072056,-0.048199,0.0026606,0.02119,-0.045485,-0.0075639,-0.087872,0.045948,-0.044376,-0.0094167,-0.084187,0.038946,-0.059073,-0.14421,0.011163,0.027712,0.017487,0.050801,-0.17047,0.020039,-0.01578,0.02703,-0.014372,-0.10714,0.02996,-0.011949,0.00023695,0.018871,0.18251,-0.069199,0.010729,\n",
            "-0.063201,-0.007899,0.0091272,-0.018714,-0.094402,0.030548,-0.042309,-0.039876,0.010108,0.025486,0.0036179,-0.014371,-0.032499,0.0055862,0.030293,0.077825,0.0019339,-0.046809,-0.056915,0.077016,0.0016236,0.056663,-0.030598,-0.08169,-0.03594,-0.1101,0.047584,0.033775,-0.033953,0.12434,-0.01689,-0.051105,-0.055363,0.0071016,0.014024,0.039556,0.029683,-0.013118,-0.04073,-0.033521,0.078129,-0.018461,-0.018274,0.12486,0.078072,0.057201,0.060169,0.10656,0.021862,0.040473,-0.0037789,-0.044605,0.013341,-0.060226,-0.056247,-0.040959,-0.030955,0.03997,-0.069045,0.028844,-0.0073655,-0.0054979,-0.0095253,-0.090632,0.0037781,0.013539,0.029322,-0.022772,-0.014016,-0.0049031,-0.029521,-0.015665,0.044941,0.0097227,0.077032,-0.027626,-0.05238,0.0089792,-0.066752,0.0056361,0.029265,-0.0016044,0.006535,0.030934,0.03549,-0.053903,-0.030311,-0.024908,-0.00046206,0.0017756,0.0088767,-0.049989,0.25816,0.034395,0.084597,-0.076505,-0.013662,-0.066043,0.011978,-0.040448,-0.017479,-0.025158,-0.0050011,-0.16534,-0.014305,0.0062029,0.028346,-0.10542,-0.0324,0.041889,-0.010359,-0.05354,0.019435,0.071853,0.0044755,0.049094,-0.011132,-0.015223,-0.057694,0.028467,-0.0048367,-0.0245,-0.02707,-0.012028,0.052655,-0.060902,0.070506,-0.061347,-0.014672,0.041549,-0.070414,-0.073967,0.023012,-0.041924,0.066369,-0.054013,-0.12612,0.0062096,-0.013983,0.014715,-0.06366,0.0040758,0.001884,-0.0072678,0.078088,0.064909,-0.24157,0.027875,-0.00088623,-0.043217,0.05027,0.024369,0.063131,0.0027459,0.031558,-0.048622,0.073356,0.038503,-0.088688,0.11153,-0.018294,-0.01166,0.022562,-0.031966,0.0082272,-0.034248,0.010595,-0.025697,0.0050583,0.0084404,-0.020697,-0.02717,0.10489,-0.0065482,-0.031634,0.010926,0.0051563,-0.038951,0.019044,-0.039397,-0.010435,0.15408,0.026002,0.099163,0.10535,0.029777,0.041449,-0.089031,-0.05254,0.022247,0.0060497,-0.026654,-0.042432,0.068299,-0.047864,-0.021021,-0.02595,0.010836,0.018978,-0.0046385,0.026145,0.0049859,-0.012793,-0.056803,0.067674,-0.037911,0.039512,-0.0065772,-0.017529,-0.021739,0.043661,0.00093347,-0.099939,0.02909,0.01886,0.0061833,-0.0098552,0.024456,0.040957,0.013599,-0.034732,0.021038,0.0074031,0.05402,-0.083386,-0.065915,-0.018886,0.011874,-0.027415,-0.029934,0.01403,-0.041411,-0.024342,0.012938,0.0028336,-0.094825,-0.022881,-0.029316,0.020438,-0.038293,0.028482,-0.021519,0.01115,-0.04496,0.28,-0.011227,0.019666,0.032853,0.032215,0.060887,0.045484,0.020073,-0.017139,-0.059559,9.627e-05,0.049847,0.027943,-0.016856,0.026296,0.077487,0.0092065,0.095545,-0.020877,-0.020044,-0.036943,0.053478,0.013185,0.025557,-0.055589,-0.098032,0.045387,-0.028594,-0.0070174,0.00064659,0.066532,0.00064421,-0.044327,0.036321,0.051477,0.0040328,-0.042994,0.017137,-0.28561,0.081137,0.026734,-0.096268,0.00019148,-0.0065378,0.018684,0.023898,0.041799,-0.0029407,-0.12942,-0.065736,-0.010751,0.06259,0.018591,0.23087,-0.037374,0.07337,\n",
            "-0.096516,0.056424,0.081226,0.13178,-0.13143,0.021636,-0.045354,0.019894,0.055186,-0.032316,-0.082402,0.039621,-0.049769,-0.046408,-0.0061959,0.018149,0.055244,0.0056433,0.013285,0.063317,-0.040252,0.01408,-0.011281,0.015934,-0.075712,-0.088183,-0.023635,0.039886,-0.057516,0.013942,0.018528,-0.027209,-0.046185,-0.0056724,-0.036346,0.037901,-0.088201,0.032271,-0.069198,-0.020381,-0.039831,0.031294,0.037347,0.0056547,0.062848,0.10629,-0.034688,0.0065705,0.065056,-0.0097798,-0.052158,0.0088161,0.013389,-0.055414,0.042713,0.010887,-0.036105,0.0072868,-0.095759,0.0084803,-0.013339,-0.024396,-0.0079191,-0.050578,-0.055394,0.027378,-0.017987,0.026465,0.054461,-0.048145,-0.096105,0.003917,0.03207,-0.05558,0.043564,-0.010389,-0.054895,0.075675,-0.14894,-0.064165,0.0018188,0.024427,-0.0068489,0.032044,0.020066,0.031159,-0.010439,0.019309,0.034794,-0.045069,-0.081694,-0.028819,0.1453,-0.002733,0.045129,-0.058748,-0.03636,0.052405,0.037394,-0.005213,0.01283,-0.026877,0.039006,-0.09692,-0.063629,-0.043107,-0.05756,0.031019,-0.037646,0.052516,0.03158,-0.085227,0.042693,-0.12264,-0.010328,-0.0052157,-0.0178,-0.01505,-0.0392,-0.04337,0.098106,-0.046355,0.006349,-0.019022,0.044397,0.019829,-0.062663,-0.050101,-0.013309,0.04216,-0.050053,-0.0099466,-0.026238,0.045869,0.064985,0.0093417,-0.1503,0.030535,0.016374,0.022403,-0.014571,-0.018437,-0.058016,-0.037929,0.0088496,0.0042813,-0.22996,-0.029962,0.011439,-0.087308,-0.023124,0.039506,0.083482,-0.042397,-0.01307,0.057574,0.034776,0.0043216,0.025439,-0.0058356,0.053971,-0.01965,-0.066442,0.016994,0.0057322,0.031843,0.030653,-0.037395,0.068725,-0.042142,0.065567,-0.032828,0.010674,-0.027821,-0.037775,0.0016928,-0.092532,-0.068136,0.0011752,-0.063197,0.032162,-0.0014882,-0.048101,-0.05035,0.078128,-0.14123,-0.02515,0.019114,-0.03241,-0.01246,-0.040329,0.030664,-0.026158,0.02784,0.025599,0.034419,0.041143,0.018688,0.001513,0.018849,-0.018616,0.0043095,0.013648,-0.02827,0.0021041,0.031056,-0.085701,0.014442,-0.029057,0.039422,-0.021291,-0.071926,0.037794,0.021652,0.031367,-0.029618,0.021788,-0.014857,0.011142,0.025357,0.036323,0.12471,0.050036,0.05684,0.00066864,0.096913,-0.0012281,0.025009,0.013103,-0.028731,-0.029124,-0.026002,-0.048351,0.032309,0.040929,-0.098028,0.033982,0.039711,0.034664,0.012154,-0.014431,0.006321,0.004913,-0.16057,0.33045,-0.04315,-0.021368,0.02166,-0.0020885,0.01164,-0.013502,0.060264,0.056608,-0.042909,0.017938,-0.035848,-0.057969,-0.061787,-0.019296,-0.0085307,-0.0013742,0.16116,0.030943,0.070496,-0.12155,-0.012611,0.043833,0.033009,0.069265,-0.019794,-0.11629,-0.062471,-0.045978,0.060859,0.078581,-0.029209,-0.022631,0.13427,-0.027583,0.09153,-0.05329,-0.0055715,-0.21354,-0.04845,-0.093782,-0.0048472,0.046502,-0.090943,0.038181,-0.057699,0.059437,-0.06738,-0.045787,-0.010508,0.01715,0.0035407,0.077596,-0.068951,-0.016787,-0.00245,\n",
            "-0.027771,-0.023614,-0.013759,0.042368,-0.064415,-0.023493,-0.075766,-0.0026479,0.027075,-0.00025448,-0.0037985,-0.024473,-0.015444,-0.0018128,-0.053533,0.066242,0.012343,0.013153,-0.0081096,0.15907,-0.020318,0.016711,0.011223,-0.00089262,0.033952,-0.052532,0.01979,0.011465,-0.03011,0.099598,-0.0016973,-0.024534,0.017905,0.085731,0.0077344,0.0086958,-0.028834,-0.044754,-0.035331,0.0018382,-0.040201,0.01828,-0.072511,0.015248,0.056234,-0.037694,-0.016497,0.079319,0.031436,-0.0267,-0.014982,-0.0019699,-0.023957,-0.044463,-0.0035988,0.039877,-0.010976,-0.093428,-0.035545,-0.0054787,-0.053811,-0.0066605,-0.0070614,-0.14242,-0.096051,-0.003099,0.0076033,0.0074684,0.03945,-0.051788,-0.068996,0.00013001,0.035289,-0.0046832,0.012209,-0.01975,0.024228,0.031718,-0.091839,-0.072309,0.024794,0.0092329,0.011619,0.026237,0.12297,-0.00019178,0.091273,0.0077894,0.052778,-0.070997,-0.058063,-0.02315,0.1156,-0.022109,-0.081115,-0.017429,-0.21278,0.020031,-0.012071,-0.039969,-0.03524,0.018887,0.022661,-0.12888,-0.012554,0.023041,-0.027321,0.016501,-0.026012,0.016242,-0.022111,-0.0059639,0.0071833,-0.12688,0.00016029,-0.020063,-0.0030428,-0.0064227,-0.012663,-0.030187,0.063187,-0.034581,-0.0071048,-0.013855,0.0057384,0.010308,-0.030381,-0.081299,-0.019543,0.040449,-0.015717,-0.028759,0.069666,0.091462,0.03197,0.015124,-0.2021,-0.046731,0.036622,0.064229,0.026552,-0.024679,-0.02077,-0.0085029,0.051066,-0.02806,-0.22452,0.01283,-0.0051139,-0.019278,-0.16195,0.03423,0.028388,-0.0073799,0.011286,0.014713,-0.0046404,0.018377,0.043156,0.036037,0.028211,0.02969,0.060835,0.0051122,-0.0041399,-0.020972,0.018085,-0.037168,-0.034811,-0.018247,0.023921,-0.0059663,0.029695,0.0021785,0.0042644,-0.029763,-0.018935,-0.10048,5.5447e-05,-0.028611,0.029366,0.017057,-0.027149,-0.081409,0.033606,-0.0014243,-0.077335,0.0072048,0.0093428,0.018905,0.0022015,0.0030166,-0.010022,-0.025617,0.031994,0.025016,0.060752,-0.013835,-0.014075,0.072374,-0.030166,0.16647,-0.012592,-0.044108,0.042368,0.020206,-0.092379,-0.018586,-0.021593,-0.13696,0.0086739,-0.026262,-0.084634,0.02525,0.061806,-0.027979,0.034668,-0.0030037,0.004725,-0.058499,0.0044603,0.015362,0.052837,0.1299,-0.052873,0.04113,0.012711,0.024478,-0.02358,-0.0083261,0.00038355,0.027148,-0.018966,-0.040768,0.025702,-0.099245,0.010615,-0.043011,0.0056267,0.013604,-0.014936,-0.067397,0.087573,-0.081407,0.37367,-0.020206,0.0061511,0.012685,-0.075404,0.039876,0.044814,0.097522,0.019514,-0.027585,0.0071736,0.030567,-0.020594,-0.056517,0.0082499,0.017096,0.026274,0.19979,-0.0095227,0.026079,-0.079683,-0.028366,0.055111,0.037095,0.050644,-0.019978,-0.058407,-0.077242,0.0097716,0.13546,-0.012666,-0.06013,-0.094653,0.056305,0.059004,0.038854,-0.020696,-0.00088124,-0.15196,-0.033206,0.0058697,-0.051083,0.041172,-0.025908,-0.026027,-0.01242,-0.034966,-0.041629,-0.086528,-0.026666,0.04335,0.0031889,0.048474,0.10162,-0.042624,0.0094771,\n",
            "-0.035422,0.026519,0.03773,0.11365,-0.12901,-0.04821,0.0059507,0.014371,0.067382,-0.027421,0.016291,0.012733,-0.045091,0.026246,0.028031,-0.054027,0.03038,0.0038679,-0.0095463,0.0031563,-0.013845,0.0080676,0.028333,0.071344,-0.021054,-0.057202,-0.014586,0.0074026,0.02751,0.023225,-0.034029,-0.055771,-0.039514,0.076619,-0.060189,0.043193,0.016538,-0.074328,-0.041159,-0.042911,0.030655,0.016204,0.0038904,0.01412,0.079627,-0.070873,0.0048096,-0.15255,0.036893,0.0080653,-0.11783,-0.071467,0.048636,-0.028117,0.032851,-0.075912,-0.053631,-0.11669,-0.093588,0.0049357,0.014709,-0.0090381,-0.058537,-0.11393,-0.0064069,-0.035424,-0.0095291,-0.013528,0.012944,0.026018,-0.033262,0.0067594,0.051974,0.07661,0.041424,0.0035422,-0.031758,0.016578,-0.080811,-0.038908,-0.0080827,0.034553,-0.045373,0.010448,-0.049596,-0.029955,-0.064571,-0.019928,-0.0073475,-0.0075159,-0.022148,0.014123,0.049005,-0.032875,0.010504,0.069631,0.029381,0.022804,-0.0062016,-0.047157,0.015101,-0.015607,0.025939,-0.12864,-0.026446,-0.0063323,0.031301,-0.05316,0.0045928,0.041365,-0.0018163,-0.046335,0.052603,-0.046406,-0.056086,-0.025913,-0.05223,0.024481,0.0016388,-0.00081137,0.012541,0.00382,-0.03756,-0.028686,0.047664,0.0038017,0.026649,0.0025731,-0.0078506,0.052559,0.0050903,-0.024575,-0.0807,0.075981,-0.0086419,-0.025744,-0.12697,0.047554,-0.059845,0.069218,0.00094538,0.025601,-0.026475,0.015626,0.022844,0.013251,-0.25455,-0.0037411,0.0024074,-0.03848,-0.072502,0.026288,0.066247,-0.00234,0.010021,0.020463,0.086708,-0.0081181,0.0058298,-0.016164,-0.050654,-0.020708,-0.15369,-0.0039424,-0.0089736,0.016118,-0.043897,0.052019,0.073048,0.0019665,-0.028584,-0.033613,0.025938,-0.037519,0.018109,-0.013202,-0.035626,-0.0038364,-0.029375,-0.094241,-0.020642,0.13223,-0.0064973,0.018966,0.059609,-0.024724,0.005644,-0.054616,-0.021286,-0.0024407,-0.0066624,-0.058881,-0.076463,0.041097,0.029409,0.01979,0.017922,0.019161,0.020776,-0.013463,-0.066781,0.039542,-0.036155,-0.011815,-0.022588,-0.0052984,-0.02819,0.026522,-0.060708,0.022557,0.072711,-0.016593,-0.0049713,0.041979,0.067731,-0.011115,-0.04719,-0.028067,0.016917,-0.072367,0.014067,0.019452,0.025614,0.10331,-0.093936,0.12856,0.056363,0.01162,0.10244,0.0064793,-0.0017354,-0.044926,0.15534,0.088975,0.0066164,0.012029,0.01083,-0.033964,-0.02701,0.0083385,-0.0014821,-0.074415,-0.03559,-0.12402,0.33319,0.015275,0.068617,-0.049902,-0.0086122,0.016818,0.01591,0.064767,0.020282,-0.061431,-0.0046289,0.015699,-0.068453,-0.083306,0.083046,-0.035484,0.038284,0.19527,0.0028697,0.018895,-0.086701,0.018761,-0.011999,0.029023,0.080432,-0.0050892,0.032486,-0.045396,-0.085156,0.097703,0.051076,-0.00098123,0.026807,0.066505,-0.14321,-0.031745,-0.086699,-0.028207,-0.24048,-0.023168,-0.068137,-0.0035495,0.03783,-0.076055,0.0072413,-0.047377,-0.011238,-0.021707,-0.031459,-0.062211,-0.020781,0.021852,0.069912,-0.043627,-0.02669,0.024777,\n"
          ],
          "name": "stdout"
        }
      ]
    },
    {
      "cell_type": "markdown",
      "metadata": {
        "id": "LuFMUUKwLhcv",
        "colab_type": "text"
      },
      "source": [
        "## Using the Embedding Layer\n",
        "\n",
        "1. Read the embeddings.\n",
        "2. Calculate the One-Hot inputs (by using an \"index\") which will index which words are in which text.\n",
        "3. Train the model."
      ]
    },
    {
      "cell_type": "code",
      "metadata": {
        "id": "8-VLJQqOLftz",
        "colab_type": "code",
        "outputId": "91b70526-c188-4138-a7eb-6c7d4a367876",
        "colab": {
          "base_uri": "https://localhost:8080/",
          "height": 346
        }
      },
      "source": [
        "# Read word embeddings\n",
        "Embeddings = pd.read_csv('Embeddingcw3.csv', sep=',', decimal = '.', \n",
        "                         low_memory = True, index_col = False)\n",
        "Embeddings.describe()"
      ],
      "execution_count": 0,
      "outputs": [
        {
          "output_type": "execute_result",
          "data": {
            "text/html": [
              "<div>\n",
              "<style scoped>\n",
              "    .dataframe tbody tr th:only-of-type {\n",
              "        vertical-align: middle;\n",
              "    }\n",
              "\n",
              "    .dataframe tbody tr th {\n",
              "        vertical-align: top;\n",
              "    }\n",
              "\n",
              "    .dataframe thead th {\n",
              "        text-align: right;\n",
              "    }\n",
              "</style>\n",
              "<table border=\"1\" class=\"dataframe\">\n",
              "  <thead>\n",
              "    <tr style=\"text-align: right;\">\n",
              "      <th></th>\n",
              "      <th>D1</th>\n",
              "      <th>D2</th>\n",
              "      <th>D3</th>\n",
              "      <th>D4</th>\n",
              "      <th>D5</th>\n",
              "      <th>D6</th>\n",
              "      <th>D7</th>\n",
              "      <th>D8</th>\n",
              "      <th>D9</th>\n",
              "      <th>D10</th>\n",
              "      <th>D11</th>\n",
              "      <th>D12</th>\n",
              "      <th>D13</th>\n",
              "      <th>D14</th>\n",
              "      <th>D15</th>\n",
              "      <th>D16</th>\n",
              "      <th>D17</th>\n",
              "      <th>D18</th>\n",
              "      <th>D19</th>\n",
              "      <th>D20</th>\n",
              "      <th>D21</th>\n",
              "      <th>D22</th>\n",
              "      <th>D23</th>\n",
              "      <th>D24</th>\n",
              "      <th>D25</th>\n",
              "      <th>D26</th>\n",
              "      <th>D27</th>\n",
              "      <th>D28</th>\n",
              "      <th>D29</th>\n",
              "      <th>D30</th>\n",
              "      <th>D31</th>\n",
              "      <th>D32</th>\n",
              "      <th>D33</th>\n",
              "      <th>D34</th>\n",
              "      <th>D35</th>\n",
              "      <th>D36</th>\n",
              "      <th>D37</th>\n",
              "      <th>D38</th>\n",
              "      <th>D39</th>\n",
              "      <th>D40</th>\n",
              "      <th>...</th>\n",
              "      <th>D261</th>\n",
              "      <th>D262</th>\n",
              "      <th>D263</th>\n",
              "      <th>D264</th>\n",
              "      <th>D265</th>\n",
              "      <th>D266</th>\n",
              "      <th>D267</th>\n",
              "      <th>D268</th>\n",
              "      <th>D269</th>\n",
              "      <th>D270</th>\n",
              "      <th>D271</th>\n",
              "      <th>D272</th>\n",
              "      <th>D273</th>\n",
              "      <th>D274</th>\n",
              "      <th>D275</th>\n",
              "      <th>D276</th>\n",
              "      <th>D277</th>\n",
              "      <th>D278</th>\n",
              "      <th>D279</th>\n",
              "      <th>D280</th>\n",
              "      <th>D281</th>\n",
              "      <th>D282</th>\n",
              "      <th>D283</th>\n",
              "      <th>D284</th>\n",
              "      <th>D285</th>\n",
              "      <th>D286</th>\n",
              "      <th>D287</th>\n",
              "      <th>D288</th>\n",
              "      <th>D289</th>\n",
              "      <th>D290</th>\n",
              "      <th>D291</th>\n",
              "      <th>D292</th>\n",
              "      <th>D293</th>\n",
              "      <th>D294</th>\n",
              "      <th>D295</th>\n",
              "      <th>D296</th>\n",
              "      <th>D297</th>\n",
              "      <th>D298</th>\n",
              "      <th>D299</th>\n",
              "      <th>D300</th>\n",
              "    </tr>\n",
              "  </thead>\n",
              "  <tbody>\n",
              "    <tr>\n",
              "      <th>count</th>\n",
              "      <td>60880.000000</td>\n",
              "      <td>60880.000000</td>\n",
              "      <td>60880.000000</td>\n",
              "      <td>60880.000000</td>\n",
              "      <td>60880.000000</td>\n",
              "      <td>60880.000000</td>\n",
              "      <td>60880.000000</td>\n",
              "      <td>60880.000000</td>\n",
              "      <td>60880.000000</td>\n",
              "      <td>60880.000000</td>\n",
              "      <td>60880.000000</td>\n",
              "      <td>60880.000000</td>\n",
              "      <td>60880.000000</td>\n",
              "      <td>60880.000000</td>\n",
              "      <td>60880.000000</td>\n",
              "      <td>60880.000000</td>\n",
              "      <td>60880.000000</td>\n",
              "      <td>60880.000000</td>\n",
              "      <td>60880.000000</td>\n",
              "      <td>60880.000000</td>\n",
              "      <td>60880.000000</td>\n",
              "      <td>60880.000000</td>\n",
              "      <td>60880.000000</td>\n",
              "      <td>60880.000000</td>\n",
              "      <td>60880.000000</td>\n",
              "      <td>60880.000000</td>\n",
              "      <td>60880.000000</td>\n",
              "      <td>60880.000000</td>\n",
              "      <td>60880.000000</td>\n",
              "      <td>60880.000000</td>\n",
              "      <td>60880.000000</td>\n",
              "      <td>60880.000000</td>\n",
              "      <td>60880.000000</td>\n",
              "      <td>60880.000000</td>\n",
              "      <td>60880.000000</td>\n",
              "      <td>60880.000000</td>\n",
              "      <td>60880.000000</td>\n",
              "      <td>60880.000000</td>\n",
              "      <td>60880.000000</td>\n",
              "      <td>60880.000000</td>\n",
              "      <td>...</td>\n",
              "      <td>60880.000000</td>\n",
              "      <td>60880.000000</td>\n",
              "      <td>60880.000000</td>\n",
              "      <td>60880.000000</td>\n",
              "      <td>60880.000000</td>\n",
              "      <td>60880.000000</td>\n",
              "      <td>60880.000000</td>\n",
              "      <td>60880.000000</td>\n",
              "      <td>60880.000000</td>\n",
              "      <td>60880.000000</td>\n",
              "      <td>60880.000000</td>\n",
              "      <td>60880.000000</td>\n",
              "      <td>60880.000000</td>\n",
              "      <td>60880.000000</td>\n",
              "      <td>60880.000000</td>\n",
              "      <td>60880.000000</td>\n",
              "      <td>60880.000000</td>\n",
              "      <td>60880.000000</td>\n",
              "      <td>60880.000000</td>\n",
              "      <td>60880.000000</td>\n",
              "      <td>60880.000000</td>\n",
              "      <td>60880.000000</td>\n",
              "      <td>60880.000000</td>\n",
              "      <td>60880.000000</td>\n",
              "      <td>60880.000000</td>\n",
              "      <td>60880.000000</td>\n",
              "      <td>60880.000000</td>\n",
              "      <td>60880.000000</td>\n",
              "      <td>60880.000000</td>\n",
              "      <td>60880.000000</td>\n",
              "      <td>60880.000000</td>\n",
              "      <td>60880.000000</td>\n",
              "      <td>60880.000000</td>\n",
              "      <td>60880.000000</td>\n",
              "      <td>60880.000000</td>\n",
              "      <td>60880.000000</td>\n",
              "      <td>60880.000000</td>\n",
              "      <td>60880.000000</td>\n",
              "      <td>60880.000000</td>\n",
              "      <td>60880.000000</td>\n",
              "    </tr>\n",
              "    <tr>\n",
              "      <th>mean</th>\n",
              "      <td>-0.006304</td>\n",
              "      <td>-0.005513</td>\n",
              "      <td>-0.009287</td>\n",
              "      <td>0.058734</td>\n",
              "      <td>-0.009031</td>\n",
              "      <td>-0.011967</td>\n",
              "      <td>0.003203</td>\n",
              "      <td>0.002184</td>\n",
              "      <td>-0.002204</td>\n",
              "      <td>-0.000249</td>\n",
              "      <td>-0.008160</td>\n",
              "      <td>-0.001446</td>\n",
              "      <td>0.009244</td>\n",
              "      <td>-0.009041</td>\n",
              "      <td>-0.004431</td>\n",
              "      <td>-0.017038</td>\n",
              "      <td>0.009803</td>\n",
              "      <td>0.002753</td>\n",
              "      <td>-0.001231</td>\n",
              "      <td>0.013833</td>\n",
              "      <td>-0.009577</td>\n",
              "      <td>-0.001007</td>\n",
              "      <td>0.009050</td>\n",
              "      <td>0.001477</td>\n",
              "      <td>0.022589</td>\n",
              "      <td>-0.003618</td>\n",
              "      <td>-0.007055</td>\n",
              "      <td>0.007901</td>\n",
              "      <td>-0.003643</td>\n",
              "      <td>0.086296</td>\n",
              "      <td>-0.004810</td>\n",
              "      <td>-0.004866</td>\n",
              "      <td>-0.001911</td>\n",
              "      <td>0.011335</td>\n",
              "      <td>0.012324</td>\n",
              "      <td>-0.001048</td>\n",
              "      <td>0.009728</td>\n",
              "      <td>0.029601</td>\n",
              "      <td>-0.005392</td>\n",
              "      <td>0.009393</td>\n",
              "      <td>...</td>\n",
              "      <td>0.000660</td>\n",
              "      <td>-0.013176</td>\n",
              "      <td>-0.020835</td>\n",
              "      <td>-0.000793</td>\n",
              "      <td>-0.019864</td>\n",
              "      <td>-0.010403</td>\n",
              "      <td>-0.000987</td>\n",
              "      <td>-0.005383</td>\n",
              "      <td>-0.001321</td>\n",
              "      <td>0.025343</td>\n",
              "      <td>-0.010593</td>\n",
              "      <td>0.004603</td>\n",
              "      <td>-0.035150</td>\n",
              "      <td>-0.015149</td>\n",
              "      <td>0.004780</td>\n",
              "      <td>0.004764</td>\n",
              "      <td>-0.014996</td>\n",
              "      <td>0.012079</td>\n",
              "      <td>-0.022158</td>\n",
              "      <td>-0.004456</td>\n",
              "      <td>0.003952</td>\n",
              "      <td>-0.008503</td>\n",
              "      <td>-0.049442</td>\n",
              "      <td>0.004655</td>\n",
              "      <td>-0.003926</td>\n",
              "      <td>0.002903</td>\n",
              "      <td>-0.002118</td>\n",
              "      <td>-0.029322</td>\n",
              "      <td>0.007562</td>\n",
              "      <td>-0.018074</td>\n",
              "      <td>0.023308</td>\n",
              "      <td>-0.003891</td>\n",
              "      <td>-0.065893</td>\n",
              "      <td>0.018224</td>\n",
              "      <td>0.007297</td>\n",
              "      <td>-0.000454</td>\n",
              "      <td>0.003210</td>\n",
              "      <td>0.055287</td>\n",
              "      <td>-0.001318</td>\n",
              "      <td>-0.007853</td>\n",
              "    </tr>\n",
              "    <tr>\n",
              "      <th>std</th>\n",
              "      <td>0.052772</td>\n",
              "      <td>0.051021</td>\n",
              "      <td>0.053456</td>\n",
              "      <td>0.056589</td>\n",
              "      <td>0.060404</td>\n",
              "      <td>0.061678</td>\n",
              "      <td>0.052560</td>\n",
              "      <td>0.056877</td>\n",
              "      <td>0.051247</td>\n",
              "      <td>0.054131</td>\n",
              "      <td>0.057032</td>\n",
              "      <td>0.052874</td>\n",
              "      <td>0.053319</td>\n",
              "      <td>0.053675</td>\n",
              "      <td>0.054180</td>\n",
              "      <td>0.063163</td>\n",
              "      <td>0.061301</td>\n",
              "      <td>0.053030</td>\n",
              "      <td>0.055912</td>\n",
              "      <td>0.055086</td>\n",
              "      <td>0.052744</td>\n",
              "      <td>0.056193</td>\n",
              "      <td>0.053934</td>\n",
              "      <td>0.051149</td>\n",
              "      <td>0.056844</td>\n",
              "      <td>0.055162</td>\n",
              "      <td>0.051233</td>\n",
              "      <td>0.055871</td>\n",
              "      <td>0.051472</td>\n",
              "      <td>0.099625</td>\n",
              "      <td>0.052627</td>\n",
              "      <td>0.052151</td>\n",
              "      <td>0.052214</td>\n",
              "      <td>0.059912</td>\n",
              "      <td>0.054636</td>\n",
              "      <td>0.050689</td>\n",
              "      <td>0.057876</td>\n",
              "      <td>0.061682</td>\n",
              "      <td>0.049578</td>\n",
              "      <td>0.055556</td>\n",
              "      <td>...</td>\n",
              "      <td>0.052410</td>\n",
              "      <td>0.060662</td>\n",
              "      <td>0.093696</td>\n",
              "      <td>0.055155</td>\n",
              "      <td>0.053585</td>\n",
              "      <td>0.052793</td>\n",
              "      <td>0.056580</td>\n",
              "      <td>0.049157</td>\n",
              "      <td>0.055305</td>\n",
              "      <td>0.064892</td>\n",
              "      <td>0.056232</td>\n",
              "      <td>0.059699</td>\n",
              "      <td>0.055949</td>\n",
              "      <td>0.050407</td>\n",
              "      <td>0.052231</td>\n",
              "      <td>0.050916</td>\n",
              "      <td>0.054592</td>\n",
              "      <td>0.050981</td>\n",
              "      <td>0.054407</td>\n",
              "      <td>0.054163</td>\n",
              "      <td>0.052352</td>\n",
              "      <td>0.051771</td>\n",
              "      <td>0.047948</td>\n",
              "      <td>0.055746</td>\n",
              "      <td>0.051561</td>\n",
              "      <td>0.058395</td>\n",
              "      <td>0.053545</td>\n",
              "      <td>0.077654</td>\n",
              "      <td>0.061207</td>\n",
              "      <td>0.055987</td>\n",
              "      <td>0.059829</td>\n",
              "      <td>0.052118</td>\n",
              "      <td>0.065352</td>\n",
              "      <td>0.055033</td>\n",
              "      <td>0.050828</td>\n",
              "      <td>0.053617</td>\n",
              "      <td>0.053319</td>\n",
              "      <td>0.046279</td>\n",
              "      <td>0.056756</td>\n",
              "      <td>0.054957</td>\n",
              "    </tr>\n",
              "    <tr>\n",
              "      <th>min</th>\n",
              "      <td>-0.228820</td>\n",
              "      <td>-0.266600</td>\n",
              "      <td>-0.264120</td>\n",
              "      <td>-0.220330</td>\n",
              "      <td>-0.318070</td>\n",
              "      <td>-0.313930</td>\n",
              "      <td>-0.303280</td>\n",
              "      <td>-0.277600</td>\n",
              "      <td>-0.253600</td>\n",
              "      <td>-0.247880</td>\n",
              "      <td>-0.248430</td>\n",
              "      <td>-0.259920</td>\n",
              "      <td>-0.226370</td>\n",
              "      <td>-0.259790</td>\n",
              "      <td>-0.246870</td>\n",
              "      <td>-0.401370</td>\n",
              "      <td>-0.223950</td>\n",
              "      <td>-0.253360</td>\n",
              "      <td>-0.256640</td>\n",
              "      <td>-0.275970</td>\n",
              "      <td>-0.210840</td>\n",
              "      <td>-0.239250</td>\n",
              "      <td>-0.227680</td>\n",
              "      <td>-0.206130</td>\n",
              "      <td>-0.244240</td>\n",
              "      <td>-0.231870</td>\n",
              "      <td>-0.225980</td>\n",
              "      <td>-0.234880</td>\n",
              "      <td>-0.238730</td>\n",
              "      <td>-0.441230</td>\n",
              "      <td>-0.231150</td>\n",
              "      <td>-0.243860</td>\n",
              "      <td>-0.219110</td>\n",
              "      <td>-0.346300</td>\n",
              "      <td>-0.223820</td>\n",
              "      <td>-0.257210</td>\n",
              "      <td>-0.288180</td>\n",
              "      <td>-0.286950</td>\n",
              "      <td>-0.218390</td>\n",
              "      <td>-0.238480</td>\n",
              "      <td>...</td>\n",
              "      <td>-0.232400</td>\n",
              "      <td>-0.346610</td>\n",
              "      <td>-0.400470</td>\n",
              "      <td>-0.244580</td>\n",
              "      <td>-0.353160</td>\n",
              "      <td>-0.249380</td>\n",
              "      <td>-0.242550</td>\n",
              "      <td>-0.194530</td>\n",
              "      <td>-0.278300</td>\n",
              "      <td>-0.312930</td>\n",
              "      <td>-0.263800</td>\n",
              "      <td>-0.231340</td>\n",
              "      <td>-0.354660</td>\n",
              "      <td>-0.291520</td>\n",
              "      <td>-0.224110</td>\n",
              "      <td>-0.255290</td>\n",
              "      <td>-0.350560</td>\n",
              "      <td>-0.252830</td>\n",
              "      <td>-0.291900</td>\n",
              "      <td>-0.356230</td>\n",
              "      <td>-0.244270</td>\n",
              "      <td>-0.235390</td>\n",
              "      <td>-0.385320</td>\n",
              "      <td>-0.244720</td>\n",
              "      <td>-0.273080</td>\n",
              "      <td>-0.307930</td>\n",
              "      <td>-0.230690</td>\n",
              "      <td>-0.323840</td>\n",
              "      <td>-0.286750</td>\n",
              "      <td>-0.246730</td>\n",
              "      <td>-0.284450</td>\n",
              "      <td>-0.236450</td>\n",
              "      <td>-0.378400</td>\n",
              "      <td>-0.217080</td>\n",
              "      <td>-0.217590</td>\n",
              "      <td>-0.245700</td>\n",
              "      <td>-0.245840</td>\n",
              "      <td>-0.194460</td>\n",
              "      <td>-0.266290</td>\n",
              "      <td>-0.250450</td>\n",
              "    </tr>\n",
              "    <tr>\n",
              "      <th>25%</th>\n",
              "      <td>-0.041519</td>\n",
              "      <td>-0.037198</td>\n",
              "      <td>-0.044135</td>\n",
              "      <td>0.023148</td>\n",
              "      <td>-0.046824</td>\n",
              "      <td>-0.053682</td>\n",
              "      <td>-0.031209</td>\n",
              "      <td>-0.035646</td>\n",
              "      <td>-0.036070</td>\n",
              "      <td>-0.036126</td>\n",
              "      <td>-0.045951</td>\n",
              "      <td>-0.034699</td>\n",
              "      <td>-0.025268</td>\n",
              "      <td>-0.043744</td>\n",
              "      <td>-0.040790</td>\n",
              "      <td>-0.048655</td>\n",
              "      <td>-0.031538</td>\n",
              "      <td>-0.031834</td>\n",
              "      <td>-0.037628</td>\n",
              "      <td>-0.021340</td>\n",
              "      <td>-0.044593</td>\n",
              "      <td>-0.037615</td>\n",
              "      <td>-0.026925</td>\n",
              "      <td>-0.032793</td>\n",
              "      <td>-0.013451</td>\n",
              "      <td>-0.041364</td>\n",
              "      <td>-0.041349</td>\n",
              "      <td>-0.028812</td>\n",
              "      <td>-0.037766</td>\n",
              "      <td>0.022764</td>\n",
              "      <td>-0.039480</td>\n",
              "      <td>-0.039529</td>\n",
              "      <td>-0.036826</td>\n",
              "      <td>-0.024752</td>\n",
              "      <td>-0.024031</td>\n",
              "      <td>-0.034368</td>\n",
              "      <td>-0.025007</td>\n",
              "      <td>-0.010374</td>\n",
              "      <td>-0.038500</td>\n",
              "      <td>-0.027204</td>\n",
              "      <td>...</td>\n",
              "      <td>-0.034603</td>\n",
              "      <td>-0.041275</td>\n",
              "      <td>-0.082278</td>\n",
              "      <td>-0.037601</td>\n",
              "      <td>-0.052153</td>\n",
              "      <td>-0.045527</td>\n",
              "      <td>-0.039546</td>\n",
              "      <td>-0.038335</td>\n",
              "      <td>-0.036099</td>\n",
              "      <td>-0.016369</td>\n",
              "      <td>-0.047882</td>\n",
              "      <td>-0.035852</td>\n",
              "      <td>-0.066276</td>\n",
              "      <td>-0.043929</td>\n",
              "      <td>-0.029874</td>\n",
              "      <td>-0.027939</td>\n",
              "      <td>-0.046430</td>\n",
              "      <td>-0.017323</td>\n",
              "      <td>-0.054275</td>\n",
              "      <td>-0.039354</td>\n",
              "      <td>-0.031131</td>\n",
              "      <td>-0.043803</td>\n",
              "      <td>-0.071500</td>\n",
              "      <td>-0.032018</td>\n",
              "      <td>-0.037407</td>\n",
              "      <td>-0.036203</td>\n",
              "      <td>-0.037386</td>\n",
              "      <td>-0.083404</td>\n",
              "      <td>-0.032147</td>\n",
              "      <td>-0.055584</td>\n",
              "      <td>-0.015496</td>\n",
              "      <td>-0.038339</td>\n",
              "      <td>-0.096908</td>\n",
              "      <td>-0.019485</td>\n",
              "      <td>-0.025948</td>\n",
              "      <td>-0.035559</td>\n",
              "      <td>-0.032452</td>\n",
              "      <td>0.025979</td>\n",
              "      <td>-0.038862</td>\n",
              "      <td>-0.043848</td>\n",
              "    </tr>\n",
              "    <tr>\n",
              "      <th>50%</th>\n",
              "      <td>-0.007527</td>\n",
              "      <td>-0.004912</td>\n",
              "      <td>-0.009501</td>\n",
              "      <td>0.054108</td>\n",
              "      <td>-0.007716</td>\n",
              "      <td>-0.013142</td>\n",
              "      <td>0.002842</td>\n",
              "      <td>0.001389</td>\n",
              "      <td>-0.003144</td>\n",
              "      <td>-0.000639</td>\n",
              "      <td>-0.006321</td>\n",
              "      <td>-0.000376</td>\n",
              "      <td>0.009691</td>\n",
              "      <td>-0.009310</td>\n",
              "      <td>-0.005228</td>\n",
              "      <td>-0.007388</td>\n",
              "      <td>0.009798</td>\n",
              "      <td>0.003250</td>\n",
              "      <td>-0.000254</td>\n",
              "      <td>0.009198</td>\n",
              "      <td>-0.009013</td>\n",
              "      <td>-0.002159</td>\n",
              "      <td>0.008675</td>\n",
              "      <td>0.000685</td>\n",
              "      <td>0.021304</td>\n",
              "      <td>-0.005070</td>\n",
              "      <td>-0.007937</td>\n",
              "      <td>0.007311</td>\n",
              "      <td>-0.003237</td>\n",
              "      <td>0.094634</td>\n",
              "      <td>-0.006156</td>\n",
              "      <td>-0.005590</td>\n",
              "      <td>-0.002019</td>\n",
              "      <td>0.011224</td>\n",
              "      <td>0.012755</td>\n",
              "      <td>-0.000604</td>\n",
              "      <td>0.007632</td>\n",
              "      <td>0.026314</td>\n",
              "      <td>-0.005849</td>\n",
              "      <td>0.009993</td>\n",
              "      <td>...</td>\n",
              "      <td>0.000378</td>\n",
              "      <td>-0.011542</td>\n",
              "      <td>-0.009705</td>\n",
              "      <td>-0.001605</td>\n",
              "      <td>-0.020576</td>\n",
              "      <td>-0.011001</td>\n",
              "      <td>-0.002340</td>\n",
              "      <td>-0.005919</td>\n",
              "      <td>0.001008</td>\n",
              "      <td>0.015703</td>\n",
              "      <td>-0.011461</td>\n",
              "      <td>0.005273</td>\n",
              "      <td>-0.030489</td>\n",
              "      <td>-0.012941</td>\n",
              "      <td>0.004919</td>\n",
              "      <td>0.005894</td>\n",
              "      <td>-0.014372</td>\n",
              "      <td>0.011655</td>\n",
              "      <td>-0.018264</td>\n",
              "      <td>-0.008647</td>\n",
              "      <td>0.002816</td>\n",
              "      <td>-0.009931</td>\n",
              "      <td>-0.043189</td>\n",
              "      <td>0.005105</td>\n",
              "      <td>-0.004771</td>\n",
              "      <td>0.001400</td>\n",
              "      <td>-0.001634</td>\n",
              "      <td>-0.029754</td>\n",
              "      <td>0.006851</td>\n",
              "      <td>-0.017958</td>\n",
              "      <td>0.019682</td>\n",
              "      <td>-0.003720</td>\n",
              "      <td>-0.057650</td>\n",
              "      <td>0.016001</td>\n",
              "      <td>0.008353</td>\n",
              "      <td>-0.001195</td>\n",
              "      <td>0.002975</td>\n",
              "      <td>0.058748</td>\n",
              "      <td>0.000383</td>\n",
              "      <td>-0.008030</td>\n",
              "    </tr>\n",
              "    <tr>\n",
              "      <th>75%</th>\n",
              "      <td>0.028092</td>\n",
              "      <td>0.027410</td>\n",
              "      <td>0.025346</td>\n",
              "      <td>0.088944</td>\n",
              "      <td>0.031721</td>\n",
              "      <td>0.029454</td>\n",
              "      <td>0.038014</td>\n",
              "      <td>0.039440</td>\n",
              "      <td>0.031067</td>\n",
              "      <td>0.035168</td>\n",
              "      <td>0.030750</td>\n",
              "      <td>0.033035</td>\n",
              "      <td>0.044464</td>\n",
              "      <td>0.025335</td>\n",
              "      <td>0.031295</td>\n",
              "      <td>0.025180</td>\n",
              "      <td>0.049206</td>\n",
              "      <td>0.037572</td>\n",
              "      <td>0.035273</td>\n",
              "      <td>0.043794</td>\n",
              "      <td>0.026089</td>\n",
              "      <td>0.034986</td>\n",
              "      <td>0.044851</td>\n",
              "      <td>0.034995</td>\n",
              "      <td>0.057729</td>\n",
              "      <td>0.032870</td>\n",
              "      <td>0.026435</td>\n",
              "      <td>0.043644</td>\n",
              "      <td>0.030886</td>\n",
              "      <td>0.157090</td>\n",
              "      <td>0.028178</td>\n",
              "      <td>0.028906</td>\n",
              "      <td>0.032459</td>\n",
              "      <td>0.047273</td>\n",
              "      <td>0.048616</td>\n",
              "      <td>0.032812</td>\n",
              "      <td>0.043253</td>\n",
              "      <td>0.065616</td>\n",
              "      <td>0.027124</td>\n",
              "      <td>0.046409</td>\n",
              "      <td>...</td>\n",
              "      <td>0.035566</td>\n",
              "      <td>0.020039</td>\n",
              "      <td>0.036331</td>\n",
              "      <td>0.035729</td>\n",
              "      <td>0.012510</td>\n",
              "      <td>0.024370</td>\n",
              "      <td>0.036862</td>\n",
              "      <td>0.026601</td>\n",
              "      <td>0.035958</td>\n",
              "      <td>0.059428</td>\n",
              "      <td>0.026865</td>\n",
              "      <td>0.045618</td>\n",
              "      <td>0.001379</td>\n",
              "      <td>0.014823</td>\n",
              "      <td>0.039435</td>\n",
              "      <td>0.038361</td>\n",
              "      <td>0.017729</td>\n",
              "      <td>0.041071</td>\n",
              "      <td>0.013880</td>\n",
              "      <td>0.026528</td>\n",
              "      <td>0.037732</td>\n",
              "      <td>0.025242</td>\n",
              "      <td>-0.020364</td>\n",
              "      <td>0.041663</td>\n",
              "      <td>0.029375</td>\n",
              "      <td>0.040403</td>\n",
              "      <td>0.033639</td>\n",
              "      <td>0.025813</td>\n",
              "      <td>0.047286</td>\n",
              "      <td>0.019361</td>\n",
              "      <td>0.059466</td>\n",
              "      <td>0.030931</td>\n",
              "      <td>-0.023761</td>\n",
              "      <td>0.054363</td>\n",
              "      <td>0.041256</td>\n",
              "      <td>0.034304</td>\n",
              "      <td>0.038447</td>\n",
              "      <td>0.087122</td>\n",
              "      <td>0.036876</td>\n",
              "      <td>0.027914</td>\n",
              "    </tr>\n",
              "    <tr>\n",
              "      <th>max</th>\n",
              "      <td>0.220360</td>\n",
              "      <td>0.262040</td>\n",
              "      <td>0.275430</td>\n",
              "      <td>0.414010</td>\n",
              "      <td>0.355880</td>\n",
              "      <td>0.294570</td>\n",
              "      <td>0.260180</td>\n",
              "      <td>0.245790</td>\n",
              "      <td>0.222580</td>\n",
              "      <td>0.273980</td>\n",
              "      <td>0.228340</td>\n",
              "      <td>0.241020</td>\n",
              "      <td>0.280510</td>\n",
              "      <td>0.288870</td>\n",
              "      <td>0.220500</td>\n",
              "      <td>0.275020</td>\n",
              "      <td>0.472440</td>\n",
              "      <td>0.251360</td>\n",
              "      <td>0.279660</td>\n",
              "      <td>0.323880</td>\n",
              "      <td>0.217010</td>\n",
              "      <td>0.289310</td>\n",
              "      <td>0.229850</td>\n",
              "      <td>0.232260</td>\n",
              "      <td>0.300280</td>\n",
              "      <td>0.247420</td>\n",
              "      <td>0.220060</td>\n",
              "      <td>0.290220</td>\n",
              "      <td>0.259340</td>\n",
              "      <td>0.569370</td>\n",
              "      <td>0.241480</td>\n",
              "      <td>0.250410</td>\n",
              "      <td>0.235380</td>\n",
              "      <td>0.340430</td>\n",
              "      <td>0.251980</td>\n",
              "      <td>0.221460</td>\n",
              "      <td>0.322210</td>\n",
              "      <td>0.350530</td>\n",
              "      <td>0.219970</td>\n",
              "      <td>0.241810</td>\n",
              "      <td>...</td>\n",
              "      <td>0.238700</td>\n",
              "      <td>0.291310</td>\n",
              "      <td>0.513990</td>\n",
              "      <td>0.254840</td>\n",
              "      <td>0.288860</td>\n",
              "      <td>0.220760</td>\n",
              "      <td>0.246250</td>\n",
              "      <td>0.202340</td>\n",
              "      <td>0.258940</td>\n",
              "      <td>0.416460</td>\n",
              "      <td>0.219750</td>\n",
              "      <td>0.250870</td>\n",
              "      <td>0.229440</td>\n",
              "      <td>0.311690</td>\n",
              "      <td>0.254010</td>\n",
              "      <td>0.252000</td>\n",
              "      <td>0.284940</td>\n",
              "      <td>0.303500</td>\n",
              "      <td>0.303530</td>\n",
              "      <td>0.338650</td>\n",
              "      <td>0.283780</td>\n",
              "      <td>0.221090</td>\n",
              "      <td>0.220040</td>\n",
              "      <td>0.263880</td>\n",
              "      <td>0.253290</td>\n",
              "      <td>0.287210</td>\n",
              "      <td>0.271920</td>\n",
              "      <td>0.299410</td>\n",
              "      <td>0.312930</td>\n",
              "      <td>0.222990</td>\n",
              "      <td>0.332530</td>\n",
              "      <td>0.213140</td>\n",
              "      <td>0.222340</td>\n",
              "      <td>0.240600</td>\n",
              "      <td>0.222770</td>\n",
              "      <td>0.237280</td>\n",
              "      <td>0.243500</td>\n",
              "      <td>0.368230</td>\n",
              "      <td>0.265660</td>\n",
              "      <td>0.250450</td>\n",
              "    </tr>\n",
              "  </tbody>\n",
              "</table>\n",
              "<p>8 rows × 300 columns</p>\n",
              "</div>"
            ],
            "text/plain": [
              "                 D1            D2  ...          D299          D300\n",
              "count  60880.000000  60880.000000  ...  60880.000000  60880.000000\n",
              "mean      -0.006304     -0.005513  ...     -0.001318     -0.007853\n",
              "std        0.052772      0.051021  ...      0.056756      0.054957\n",
              "min       -0.228820     -0.266600  ...     -0.266290     -0.250450\n",
              "25%       -0.041519     -0.037198  ...     -0.038862     -0.043848\n",
              "50%       -0.007527     -0.004912  ...      0.000383     -0.008030\n",
              "75%        0.028092      0.027410  ...      0.036876      0.027914\n",
              "max        0.220360      0.262040  ...      0.265660      0.250450\n",
              "\n",
              "[8 rows x 300 columns]"
            ]
          },
          "metadata": {
            "tags": []
          },
          "execution_count": 78
        }
      ]
    },
    {
      "cell_type": "markdown",
      "metadata": {
        "id": "TRdxmBYFL221",
        "colab_type": "text"
      },
      "source": [
        "**Creating a dictionary for the embeddings. The zip function allows to create the (key, element) structure that we need.**"
      ]
    },
    {
      "cell_type": "code",
      "metadata": {
        "id": "3euIHnaCLydM",
        "colab_type": "code",
        "colab": {}
      },
      "source": [
        "# Create embedding dictionary\n",
        "EmbeddingsDict = dict(zip(Vals, Embeddings.values))"
      ],
      "execution_count": 0,
      "outputs": []
    },
    {
      "cell_type": "code",
      "metadata": {
        "id": "8JEHS-AiL8o7",
        "colab_type": "code",
        "outputId": "d13e900e-c743-46f0-a07b-81200e294eb9",
        "colab": {
          "base_uri": "https://localhost:8080/",
          "height": 316
        }
      },
      "source": [
        "import seaborn as sns\n",
        "import numpy as np\n",
        "%matplotlib inline\n",
        "\n",
        "# Count maximum number of words per file.\n",
        "word_dist = [len(w.split()) for w in clean_data.iloc[:,1]]\n",
        "print('Avg. no of words: ' + str(np.round(np.mean(word_dist), 2)))\n",
        "print('Std. deviation: ' + str(np.round(np.std(word_dist), 2)))\n",
        "print('Max words: ' + str(np.max(word_dist)))\n",
        "\n",
        "# Generate the plot\n",
        "dist = sns.distplot(word_dist,kde=False)\n",
        "\n",
        "# I'm saving the image to a PDF, as it makes it easier later to download.\n",
        "dist.figure.savefig(\"word_dist.pdf\", format = \"pdf\")\n",
        "\n",
        "#no of per piece of text, decide how big is going to big in the e,bedding \n",
        "# select 600 or 800 where we trim one percent"
      ],
      "execution_count": 0,
      "outputs": [
        {
          "output_type": "stream",
          "text": [
            "Avg. no of words: 22.38\n",
            "Std. deviation: 19.56\n",
            "Max words: 807\n"
          ],
          "name": "stdout"
        },
        {
          "output_type": "display_data",
          "data": {
            "image/png": "[encoded data removed]",
            "text/plain": [
              "<Figure size 432x288 with 1 Axes>"
            ]
          },
          "metadata": {
            "tags": []
          }
        }
      ]
    },
    {
      "cell_type": "code",
      "metadata": {
        "id": "ZBZ9gNoI2TGS",
        "colab_type": "code",
        "colab": {}
      },
      "source": [
        "word_array = np.array(word_dist)"
      ],
      "execution_count": 0,
      "outputs": []
    },
    {
      "cell_type": "code",
      "metadata": {
        "id": "PKoQVs1V2cDE",
        "colab_type": "code",
        "outputId": "17331037-2a3f-4d33-d0cc-63ecf3c03edb",
        "colab": {
          "base_uri": "https://localhost:8080/",
          "height": 34
        }
      },
      "source": [
        "len(word_array)"
      ],
      "execution_count": 0,
      "outputs": [
        {
          "output_type": "execute_result",
          "data": {
            "text/plain": [
              "181388"
            ]
          },
          "metadata": {
            "tags": []
          },
          "execution_count": 82
        }
      ]
    },
    {
      "cell_type": "code",
      "metadata": {
        "id": "wgFnV2Mi2Gt-",
        "colab_type": "code",
        "outputId": "e841bc78-6d6a-4afa-b9f5-fe597f82c368",
        "colab": {
          "base_uri": "https://localhost:8080/",
          "height": 34
        }
      },
      "source": [
        "sum(word_array>88)"
      ],
      "execution_count": 0,
      "outputs": [
        {
          "output_type": "execute_result",
          "data": {
            "text/plain": [
              "1878"
            ]
          },
          "metadata": {
            "tags": []
          },
          "execution_count": 92
        }
      ]
    },
    {
      "cell_type": "markdown",
      "metadata": {
        "id": "l9ESSnPPMRpZ",
        "colab_type": "text"
      },
      "source": [
        "**I will use 88 words maximum, because this will only remove 1% of the data.**\n",
        "\n",
        "**Now to create the embedding layer pre padding that will add 0´s at the beggining of the sentence.**\n"
      ]
    },
    {
      "cell_type": "code",
      "metadata": {
        "id": "ulP8a9uj6UHB",
        "colab_type": "code",
        "outputId": "7e7e1adb-95ce-4a21-8ed8-bbe19eba7b7d",
        "colab": {
          "base_uri": "https://localhost:8080/",
          "height": 607
        }
      },
      "source": [
        "clean_data.iloc[12:30,:]"
      ],
      "execution_count": 0,
      "outputs": [
        {
          "output_type": "execute_result",
          "data": {
            "text/html": [
              "<div>\n",
              "<style scoped>\n",
              "    .dataframe tbody tr th:only-of-type {\n",
              "        vertical-align: middle;\n",
              "    }\n",
              "\n",
              "    .dataframe tbody tr th {\n",
              "        vertical-align: top;\n",
              "    }\n",
              "\n",
              "    .dataframe thead th {\n",
              "        text-align: right;\n",
              "    }\n",
              "</style>\n",
              "<table border=\"1\" class=\"dataframe\">\n",
              "  <thead>\n",
              "    <tr style=\"text-align: right;\">\n",
              "      <th></th>\n",
              "      <th>label</th>\n",
              "      <th>text</th>\n",
              "    </tr>\n",
              "  </thead>\n",
              "  <tbody>\n",
              "    <tr>\n",
              "      <th>12</th>\n",
              "      <td>0</td>\n",
              "      <td>previous update you mentioned delivery startin...</td>\n",
              "    </tr>\n",
              "    <tr>\n",
              "      <th>13</th>\n",
              "      <td>1</td>\n",
              "      <td>good morning ha been any news</td>\n",
              "    </tr>\n",
              "    <tr>\n",
              "      <th>14</th>\n",
              "      <td>0</td>\n",
              "      <td>have survey been sent out</td>\n",
              "    </tr>\n",
              "    <tr>\n",
              "      <th>15</th>\n",
              "      <td>1</td>\n",
              "      <td>been quiet some time is project going any new ...</td>\n",
              "    </tr>\n",
              "    <tr>\n",
              "      <th>16</th>\n",
              "      <td>1</td>\n",
              "      <td>imran thank you much we are all excited</td>\n",
              "    </tr>\n",
              "    <tr>\n",
              "      <th>17</th>\n",
              "      <td>1</td>\n",
              "      <td>congratulation</td>\n",
              "    </tr>\n",
              "    <tr>\n",
              "      <th>18</th>\n",
              "      <td>1</td>\n",
              "      <td>nasra hey we have sent you email thanks</td>\n",
              "    </tr>\n",
              "    <tr>\n",
              "      <th>19</th>\n",
              "      <td>1</td>\n",
              "      <td>hi haven received mine any update plz thanks</td>\n",
              "    </tr>\n",
              "    <tr>\n",
              "      <th>20</th>\n",
              "      <td>1</td>\n",
              "      <td>lvarez hey we have sent you email thanks</td>\n",
              "    </tr>\n",
              "    <tr>\n",
              "      <th>21</th>\n",
              "      <td>0</td>\n",
              "      <td>hi did not receive is you did not deliver</td>\n",
              "    </tr>\n",
              "    <tr>\n",
              "      <th>22</th>\n",
              "      <td>1</td>\n",
              "      <td>hey we have sent you email thanks</td>\n",
              "    </tr>\n",
              "    <tr>\n",
              "      <th>23</th>\n",
              "      <td>0</td>\n",
              "      <td>i have not received can you confirm submitted ...</td>\n",
              "    </tr>\n",
              "    <tr>\n",
              "      <th>24</th>\n",
              "      <td>1</td>\n",
              "      <td>hey we have sent you email thanks</td>\n",
              "    </tr>\n",
              "    <tr>\n",
              "      <th>25</th>\n",
              "      <td>1</td>\n",
              "      <td>just received mine gifted my niece thank you</td>\n",
              "    </tr>\n",
              "    <tr>\n",
              "      <th>26</th>\n",
              "      <td>1</td>\n",
              "      <td>received stencil france were no additional cha...</td>\n",
              "    </tr>\n",
              "    <tr>\n",
              "      <th>27</th>\n",
              "      <td>1</td>\n",
              "      <td>hey dana thanks writing we replayed privet mas...</td>\n",
              "    </tr>\n",
              "    <tr>\n",
              "      <th>28</th>\n",
              "      <td>1</td>\n",
              "      <td>hi is great just received mine am pretty exite...</td>\n",
              "    </tr>\n",
              "    <tr>\n",
              "      <th>29</th>\n",
              "      <td>1</td>\n",
              "      <td>received love thanks much all effort put</td>\n",
              "    </tr>\n",
              "  </tbody>\n",
              "</table>\n",
              "</div>"
            ],
            "text/plain": [
              "    label                                               text\n",
              "12      0  previous update you mentioned delivery startin...\n",
              "13      1                      good morning ha been any news\n",
              "14      0                          have survey been sent out\n",
              "15      1  been quiet some time is project going any new ...\n",
              "16      1            imran thank you much we are all excited\n",
              "17      1                                     congratulation\n",
              "18      1            nasra hey we have sent you email thanks\n",
              "19      1       hi haven received mine any update plz thanks\n",
              "20      1           lvarez hey we have sent you email thanks\n",
              "21      0          hi did not receive is you did not deliver\n",
              "22      1                  hey we have sent you email thanks\n",
              "23      0  i have not received can you confirm submitted ...\n",
              "24      1                  hey we have sent you email thanks\n",
              "25      1       just received mine gifted my niece thank you\n",
              "26      1  received stencil france were no additional cha...\n",
              "27      1  hey dana thanks writing we replayed privet mas...\n",
              "28      1  hi is great just received mine am pretty exite...\n",
              "29      1           received love thanks much all effort put"
            ]
          },
          "metadata": {
            "tags": []
          },
          "execution_count": 106
        }
      ]
    },
    {
      "cell_type": "code",
      "metadata": {
        "id": "a2ZJveaF46Dy",
        "colab_type": "code",
        "outputId": "2955bc5c-fe65-4585-9801-1f63835cd1ca",
        "colab": {
          "base_uri": "https://localhost:8080/",
          "height": 68
        }
      },
      "source": [
        "# Create word index from input\n",
        "sequences = tokenizer.texts_to_sequences(clean_data.iloc[:,1]) # Create the sequences.\n",
        "\n",
        "# Creates the indexes. Word index is a dictionary with words in it.\n",
        "word_index = tokenizer.word_index\n",
        "print('Found %s unique tokens.' % len(word_index))\n",
        "\n",
        "# Creates the training dataset, adding padding when necessary.\n",
        "data = pad_sequences(sequences, maxlen=88, \n",
        "                     padding = 'pre') # add padding at the end. No difference in practice.\n",
        "\n",
        "# Creates the objective function\n",
        "labels = clean_data.iloc[:,0]\n",
        "print('Shape of data tensor:', data.shape)\n",
        "print('Shape of label tensor:', labels.shape)"
      ],
      "execution_count": 0,
      "outputs": [
        {
          "output_type": "stream",
          "text": [
            "Found 60880 unique tokens.\n",
            "Shape of data tensor: (181388, 88)\n",
            "Shape of label tensor: (181388,)\n"
          ],
          "name": "stdout"
        }
      ]
    },
    {
      "cell_type": "code",
      "metadata": {
        "id": "qkm--Slc8nxK",
        "colab_type": "code",
        "colab": {}
      },
      "source": [
        "# Let's save the outputs, so we don't run all of the above 20 times.\n",
        "# Be efficient! Save always save intermediate outputs\n",
        "\n",
        "# Create saving directory\n",
        "!mkdir cw3_preprocessed\n",
        "\n",
        "# Save outputs\n",
        "np.savetxt(\"cw3_preprocessed/cw3_padded.txt\", data)\n",
        "np.savetxt(\"cw3_preprocessed/cw3_labels.txt\", labels)"
      ],
      "execution_count": 0,
      "outputs": []
    },
    {
      "cell_type": "code",
      "metadata": {
        "id": "x6EYc4eD9JvT",
        "colab_type": "code",
        "outputId": "0f88ea00-baeb-48fe-b3ed-59b56d352b53",
        "colab": {
          "base_uri": "https://localhost:8080/",
          "height": 136
        }
      },
      "source": [
        "data[0]"
      ],
      "execution_count": 0,
      "outputs": [
        {
          "output_type": "execute_result",
          "data": {
            "text/plain": [
              "array([  0,   0,   0,   0,   0,   0,   0,   0,   0,   0,   0,   0,   0,\n",
              "         0,   0,   0,   0,   0,   0,   0,   0,   0,   0,   0,   0,   0,\n",
              "         0,   0,   0,   0,   0,   0,   0,   0,   0,   0,   0,   0,   0,\n",
              "         0,   0,   0,   0,   0,   0,   0,   0,   0,   0,   0,   0,   0,\n",
              "         0,   0,   0,   0,   0,   0,   0,   0,   0,   0,   0,   0,   0,\n",
              "         0,   0,   0,   0,   0,   0,   0,   0,   0,   0,   0,   0,   0,\n",
              "         0,   0,   0,   0,   0, 295,  94, 863,  11, 835], dtype=int32)"
            ]
          },
          "metadata": {
            "tags": []
          },
          "execution_count": 97
        }
      ]
    },
    {
      "cell_type": "code",
      "metadata": {
        "id": "E-oIWYDd9PK0",
        "colab_type": "code",
        "outputId": "c733f953-a90b-4821-de4d-61a9bca273b0",
        "colab": {
          "base_uri": "https://localhost:8080/",
          "height": 238
        }
      },
      "source": [
        "# Create first matrix full with 0's\n",
        "embedding_matrix = np.zeros((len(word_index) + 1, 300))\n",
        "\n",
        "# Generate embeddings matrix\n",
        "for word, i in word_index.items():\n",
        "    embedding_vector = EmbeddingsDict.get(word)\n",
        "    if embedding_vector is not None:\n",
        "        # words not found in embedding index will be all-zeros.\n",
        "        embedding_matrix[i] = embedding_vector\n",
        "\n",
        "# Print what came out\n",
        "embedding_matrix"
      ],
      "execution_count": 0,
      "outputs": [
        {
          "output_type": "execute_result",
          "data": {
            "text/plain": [
              "array([[ 0.       ,  0.       ,  0.       , ...,  0.       ,  0.       ,\n",
              "         0.       ],\n",
              "       [ 0.067962 , -0.027794 ,  0.084447 , ...,  0.22954  , -0.040042 ,\n",
              "        -0.10308  ],\n",
              "       [-0.031645 , -0.067418 , -0.033575 , ..., -0.073858 , -0.072651 ,\n",
              "         0.028801 ],\n",
              "       ...,\n",
              "       [ 0.025399 , -0.0035609, -0.0026594, ...,  0.062831 , -0.059811 ,\n",
              "        -0.051558 ],\n",
              "       [-0.05492  ,  0.038278 , -0.014138 , ...,  0.031413 , -0.0369   ,\n",
              "        -0.042412 ],\n",
              "       [ 0.05704  ,  0.011737 , -0.057967 , ...,  0.038313 , -0.035208 ,\n",
              "        -0.004399 ]])"
            ]
          },
          "metadata": {
            "tags": []
          },
          "execution_count": 98
        }
      ]
    },
    {
      "cell_type": "code",
      "metadata": {
        "id": "mZ7F5zfF9cwJ",
        "colab_type": "code",
        "colab": {}
      },
      "source": [
        "# Saving the results\n",
        "np.savetxt(\"cw3_preprocessed/cw3_embeddingmatrix.txt\", embedding_matrix)"
      ],
      "execution_count": 0,
      "outputs": []
    },
    {
      "cell_type": "code",
      "metadata": {
        "id": "YW_zHbjw9-IR",
        "colab_type": "code",
        "colab": {}
      },
      "source": [
        "# We will also save the word dictionary\n",
        "import pickle\n",
        "f = open(\"WordDictionary.pkl\",\"wb\")\n",
        "pickle.dump(word_index, f)\n",
        "f.close()"
      ],
      "execution_count": 0,
      "outputs": []
    },
    {
      "cell_type": "code",
      "metadata": {
        "id": "DzSGQCeE-LZ-",
        "colab_type": "code",
        "outputId": "9b4c82a6-8f38-48ee-e4c6-229a3b88c15c",
        "colab": {
          "base_uri": "https://localhost:8080/",
          "height": 85
        }
      },
      "source": [
        "# Zip all files for download.\n",
        "!zip -r cw3_preprocessed.zip cw3_preprocessed "
      ],
      "execution_count": 0,
      "outputs": [
        {
          "output_type": "stream",
          "text": [
            "  adding: cw3_preprocessed/ (stored 0%)\n",
            "  adding: cw3_preprocessed/cw3_embeddingmatrix.txt (deflated 75%)\n",
            "  adding: cw3_preprocessed/cw3_padded.txt (deflated 97%)\n",
            "  adding: cw3_preprocessed/cw3_labels.txt (deflated 99%)\n"
          ],
          "name": "stdout"
        }
      ]
    },
    {
      "cell_type": "code",
      "metadata": {
        "id": "Q5YvDQVW-cMd",
        "colab_type": "code",
        "colab": {}
      },
      "source": [
        "# Download files\n",
        "from google.colab import files\n",
        "files.download(\"cw3_preprocessed.zip\")"
      ],
      "execution_count": 0,
      "outputs": []
    },
    {
      "cell_type": "code",
      "metadata": {
        "id": "uoL4efw-7sL_",
        "colab_type": "code",
        "colab": {}
      },
      "source": [
        "clean_data.to_csv(\"data.csv\", index = False)"
      ],
      "execution_count": 0,
      "outputs": []
    },
    {
      "cell_type": "code",
      "metadata": {
        "id": "o2BHJ8N6ENha",
        "colab_type": "code",
        "colab": {}
      },
      "source": [
        "files.download(\"data.csv\")"
      ],
      "execution_count": 0,
      "outputs": []
    },
    {
      "cell_type": "markdown",
      "metadata": {
        "id": "jTvVoDb0x22W",
        "colab_type": "text"
      },
      "source": [
        "## Glove"
      ]
    },
    {
      "cell_type": "code",
      "metadata": {
        "id": "qyuqZ_8XNbFa",
        "colab_type": "code",
        "outputId": "80391adc-9513-41c8-f53e-50b5a9971b4a",
        "colab": {
          "base_uri": "https://localhost:8080/",
          "height": 357
        }
      },
      "source": [
        "# download pretrained GloVe embeddings\n",
        "!wget http://nlp.stanford.edu/data/glove.42B.300d.zip\n",
        "#!wget http://nlp.stanford.edu/data/glove.6B.zip"
      ],
      "execution_count": 0,
      "outputs": [
        {
          "output_type": "stream",
          "text": [
            "--2019-12-10 04:54:34--  http://nlp.stanford.edu/data/glove.42B.300d.zip\n",
            "Resolving nlp.stanford.edu (nlp.stanford.edu)... 171.64.67.140\n",
            "Connecting to nlp.stanford.edu (nlp.stanford.edu)|171.64.67.140|:80... connected.\n",
            "HTTP request sent, awaiting response... 302 Found\n",
            "Location: https://nlp.stanford.edu/data/glove.42B.300d.zip [following]\n",
            "--2019-12-10 04:54:35--  https://nlp.stanford.edu/data/glove.42B.300d.zip\n",
            "Connecting to nlp.stanford.edu (nlp.stanford.edu)|171.64.67.140|:443... connected.\n",
            "HTTP request sent, awaiting response... 301 Moved Permanently\n",
            "Location: http://downloads.cs.stanford.edu/nlp/data/glove.42B.300d.zip [following]\n",
            "--2019-12-10 04:54:35--  http://downloads.cs.stanford.edu/nlp/data/glove.42B.300d.zip\n",
            "Resolving downloads.cs.stanford.edu (downloads.cs.stanford.edu)... 171.64.64.22\n",
            "Connecting to downloads.cs.stanford.edu (downloads.cs.stanford.edu)|171.64.64.22|:80... connected.\n",
            "HTTP request sent, awaiting response... 200 OK\n",
            "Length: 1877800501 (1.7G) [application/zip]\n",
            "Saving to: ‘glove.42B.300d.zip’\n",
            "\n",
            "glove.42B.300d.zip  100%[===================>]   1.75G  2.20MB/s    in 14m 33s \n",
            "\n",
            "2019-12-10 05:09:09 (2.05 MB/s) - ‘glove.42B.300d.zip’ saved [1877800501/1877800501]\n",
            "\n"
          ],
          "name": "stdout"
        }
      ]
    },
    {
      "cell_type": "code",
      "metadata": {
        "id": "CkS6fE6aOdVB",
        "colab_type": "code",
        "colab": {}
      },
      "source": [
        "!unzip glove.42B.300d.zip"
      ],
      "execution_count": 0,
      "outputs": []
    },
    {
      "cell_type": "code",
      "metadata": {
        "id": "WbR8MhcLNXaO",
        "colab_type": "code",
        "colab": {}
      },
      "source": [
        "glove_dir = './'\n",
        "\n",
        "embeddings_index = {} #initialize dictionary\n",
        "f = open(os.path.join(glove_dir, 'glove.42B.300d.txt'))\n",
        "for line in f:\n",
        "    values = line.split()\n",
        "    word = values[0]\n",
        "    coefs = np.asarray(values[1:], dtype='float32')\n",
        "    embeddings_index[word] = coefs\n",
        "f.close()\n",
        "\n",
        "print('Found %s word vectors.' % len(embeddings_index))\n"
      ],
      "execution_count": 0,
      "outputs": []
    },
    {
      "cell_type": "markdown",
      "metadata": {
        "id": "BKjvCV1SJkoD",
        "colab_type": "text"
      },
      "source": [
        "### Importing the preprocessed data"
      ]
    },
    {
      "cell_type": "code",
      "metadata": {
        "id": "-cOJrjbkd6xb",
        "colab_type": "code",
        "outputId": "1b19f3ac-0329-4023-c7b2-3f86a90e5a8c",
        "colab": {
          "base_uri": "https://localhost:8080/",
          "height": 85
        }
      },
      "source": [
        "!gdown https://drive.google.com/uc?id=1Wif2pMZ9999uXccEVKM0L0ZJB6mBh7c5\n"
      ],
      "execution_count": 0,
      "outputs": [
        {
          "output_type": "stream",
          "text": [
            "Downloading...\n",
            "From: https://drive.google.com/uc?id=1Wif2pMZ9999uXccEVKM0L0ZJB6mBh7c5\n",
            "To: /content/data.csv\n",
            "24.4MB [00:00, 66.8MB/s]\n"
          ],
          "name": "stdout"
        }
      ]
    },
    {
      "cell_type": "code",
      "metadata": {
        "id": "6tJ2RQkneD8m",
        "colab_type": "code",
        "colab": {}
      },
      "source": [
        "clean_data = pd.read_csv('/content/data.csv')"
      ],
      "execution_count": 0,
      "outputs": []
    },
    {
      "cell_type": "code",
      "metadata": {
        "id": "o31Yw8Z9fUch",
        "colab_type": "code",
        "colab": {}
      },
      "source": [
        "clean_data.iloc[:,1]"
      ],
      "execution_count": 0,
      "outputs": []
    },
    {
      "cell_type": "code",
      "metadata": {
        "id": "mnWG_xjNel2h",
        "colab_type": "code",
        "colab": {}
      },
      "source": [
        "tokenizer = Tokenizer() # Creates tokenizer model.embedding_matrix\n",
        "tokenizer.fit_on_texts(clean_data.text)"
      ],
      "execution_count": 0,
      "outputs": []
    },
    {
      "cell_type": "code",
      "metadata": {
        "id": "m1JRScP4d7UC",
        "colab_type": "code",
        "outputId": "52add14b-d7c8-4ade-daba-2901904c394d",
        "colab": {
          "base_uri": "https://localhost:8080/",
          "height": 68
        }
      },
      "source": [
        "# Create word index from input\n",
        "sequences = tokenizer.texts_to_sequences(clean_data.iloc[:,1]) # Create the sequences.\n",
        "\n",
        "# Creates the indexes. Word index is a dictionary with words in it.\n",
        "word_index = tokenizer.word_index\n",
        "print('Found %s unique tokens.' % len(word_index))\n",
        "\n",
        "# Creates the training dataset, adding padding when necessary.\n",
        "data = pad_sequences(sequences, maxlen=88, \n",
        "                     padding = 'pre') # add padding at the end. No difference in practice.\n",
        "\n",
        "# Creates the objective function\n",
        "labels = clean_data.iloc[:,0]\n",
        "print('Shape of data tensor:', data.shape)\n",
        "print('Shape of label tensor:', labels.shape)"
      ],
      "execution_count": 0,
      "outputs": [
        {
          "output_type": "stream",
          "text": [
            "Found 60880 unique tokens.\n",
            "Shape of data tensor: (181388, 88)\n",
            "Shape of label tensor: (181388,)\n"
          ],
          "name": "stdout"
        }
      ]
    },
    {
      "cell_type": "code",
      "metadata": {
        "id": "FVtAl9MKeovh",
        "colab_type": "code",
        "outputId": "9e61b0a7-1170-4860-c4a1-e000fa23442e",
        "colab": {
          "base_uri": "https://localhost:8080/",
          "height": 136
        }
      },
      "source": [
        "data"
      ],
      "execution_count": 0,
      "outputs": [
        {
          "output_type": "execute_result",
          "data": {
            "text/plain": [
              "array([[   0,    0,    0, ...,  863,   11,  835],\n",
              "       [   0,    0,    0, ...,   11,  260,   49],\n",
              "       [   0,    0,    0, ...,  467, 1167,  767],\n",
              "       ...,\n",
              "       [   0,    0,    0, ...,   20,  214,  464],\n",
              "       [   0,    0,    0, ...,    1,   60,  101],\n",
              "       [   0,    0,    0, ...,  734,   42,   58]], dtype=int32)"
            ]
          },
          "metadata": {
            "tags": []
          },
          "execution_count": 10
        }
      ]
    },
    {
      "cell_type": "code",
      "metadata": {
        "id": "TfXsQhSyewt3",
        "colab_type": "code",
        "colab": {}
      },
      "source": [
        "embedding_dim = 300\n",
        "num_words = len(word_index) + 1\n",
        "embedding_matrix = np.zeros((num_words, 300)) #create an array of zeros with word_num rows and embedding_dim columns\n",
        "for word, i in word_index.items():\n",
        "    embedding_vector = embeddings_index.get(word)\n",
        "    if i < num_words:\n",
        "        if embedding_vector is not None:\n",
        "            # Words not found in embedding index will be all-zeros.\n",
        "            embedding_matrix[i] = embedding_vector"
      ],
      "execution_count": 0,
      "outputs": []
    },
    {
      "cell_type": "code",
      "metadata": {
        "id": "upgTp_ZrGmCu",
        "colab_type": "code",
        "outputId": "79a5c025-f82c-4f6e-e149-85e3c42bbcfb",
        "colab": {
          "base_uri": "https://localhost:8080/",
          "height": 221
        }
      },
      "source": [
        "embedding_matrix[:6]"
      ],
      "execution_count": 0,
      "outputs": [
        {
          "output_type": "execute_result",
          "data": {
            "text/plain": [
              "array([[ 0.        ,  0.        ,  0.        , ...,  0.        ,\n",
              "         0.        ,  0.        ],\n",
              "       [-0.045315  , -0.010389  , -0.19798   , ..., -0.41484001,\n",
              "         0.11124   , -0.12042   ],\n",
              "       [ 0.11396   ,  0.34503001, -0.055064  , ..., -0.37246999,\n",
              "         0.2879    , -0.18029   ],\n",
              "       [-0.17050999,  0.08594   , -0.0077239 , ..., -0.23204   ,\n",
              "         0.17605001,  0.21544001],\n",
              "       [-0.022975  ,  0.087888  , -0.24247999, ..., -0.32277   ,\n",
              "         0.023121  , -0.047671  ],\n",
              "       [ 0.29644999, -0.38093001, -0.36526999, ..., -0.33445999,\n",
              "        -0.30215001,  0.33631   ]])"
            ]
          },
          "metadata": {
            "tags": []
          },
          "execution_count": 12
        }
      ]
    },
    {
      "cell_type": "code",
      "metadata": {
        "id": "WOGBk4zBp01L",
        "colab_type": "code",
        "colab": {}
      },
      "source": [
        "!mkdir glove_data"
      ],
      "execution_count": 0,
      "outputs": []
    },
    {
      "cell_type": "code",
      "metadata": {
        "id": "T6PhVOJdm94G",
        "colab_type": "code",
        "colab": {}
      },
      "source": [
        "np.savetxt(\"glove_data/glove_embeddingmatrix.txt\", embedding_matrix)"
      ],
      "execution_count": 0,
      "outputs": []
    },
    {
      "cell_type": "code",
      "metadata": {
        "id": "hhnKk5srp_sN",
        "colab_type": "code",
        "colab": {}
      },
      "source": [
        "np.savetxt(\"glove_data/glove_padded.txt\", data)\n",
        "np.savetxt(\"glove_data/glove_labels.txt\", labels)"
      ],
      "execution_count": 0,
      "outputs": []
    },
    {
      "cell_type": "code",
      "metadata": {
        "id": "79jV-JKDrCKE",
        "colab_type": "code",
        "colab": {}
      },
      "source": [
        "# Zip all files for download.\n",
        "!zip -r glove_data.zip glove_data "
      ],
      "execution_count": 0,
      "outputs": []
    }
  ]
}